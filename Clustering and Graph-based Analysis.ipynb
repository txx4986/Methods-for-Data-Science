{
 "cells": [
  {
   "cell_type": "markdown",
   "metadata": {
    "id": "T1bWLmzoIgFu"
   },
   "source": [
    "# Clustering and Graph-based Analysis on gene expression dataset"
   ]
  },
  {
   "cell_type": "markdown",
   "metadata": {},
   "source": [
    "We import all the necessary packages into the notebook."
   ]
  },
  {
   "cell_type": "code",
   "execution_count": 1,
   "metadata": {},
   "outputs": [],
   "source": [
    "import numpy as np\n",
    "import pandas as pd\n",
    "import matplotlib.pyplot as plt\n",
    "from scipy.stats import multivariate_normal \n",
    "from scipy.spatial.distance import pdist\n",
    "from matplotlib.patches import Rectangle\n",
    "from scipy.sparse import linalg"
   ]
  },
  {
   "cell_type": "markdown",
   "metadata": {
    "id": "H3M4W43cMTZj"
   },
   "source": [
    "## Clustering"
   ]
  },
  {
   "cell_type": "markdown",
   "metadata": {},
   "source": [
    "We first load the *gene_expression_data.csv* into pandas data frames, then convert them into numpy arrays."
   ]
  },
  {
   "cell_type": "code",
   "execution_count": 201,
   "metadata": {
    "id": "PVRERNazJQ0t"
   },
   "outputs": [],
   "source": [
    "gene_expression = pd.read_csv(\"gene_expression_data.csv\")\n",
    "gene_expression = gene_expression.to_numpy()"
   ]
  },
  {
   "cell_type": "markdown",
   "metadata": {},
   "source": [
    "We now split the gene expression data set into descriptor set `gene` and type of tumour `gene_type`."
   ]
  },
  {
   "cell_type": "code",
   "execution_count": 202,
   "metadata": {},
   "outputs": [],
   "source": [
    "gene = gene_expression[:, :-1]\n",
    "gene_type = gene_expression[:,-1]"
   ]
  },
  {
   "cell_type": "markdown",
   "metadata": {},
   "source": [
    "The `k_means` function implements the k-means clustering algorithm using these steps:\n",
    "1. Randomly assign the \"labels\" such that a given group of data points belong to one cluster\n",
    "2. Compute the centroids of these clusters\n",
    "3. Iterate to relabel our data points to the closest centroid until convergence or maximum number of iterations reached"
   ]
  },
  {
   "cell_type": "code",
   "execution_count": 203,
   "metadata": {},
   "outputs": [],
   "source": [
    "def k_means(X, k, max_iter):\n",
    "    \"\"\"\n",
    "    Arguments:\n",
    "        X: descriptor set\n",
    "        k: number of clusters\n",
    "        max_iter: maximum number of iterations\n",
    "    Returns:\n",
    "        centroids: centroids of each cluster\n",
    "        labels: labels of each data point\n",
    "    \"\"\"\n",
    "    n_samples, n_features = X.shape\n",
    "    \n",
    "    # randomly assigning labels\n",
    "    labels = np.random.randint(low=0, high=k, size=n_samples - k)\n",
    "    labels = np.append(labels, np.arange(0, k))\n",
    "    np.random.shuffle(labels)\n",
    "    X_labels = np.append(X, labels.reshape(-1,1), axis=1)\n",
    "\n",
    "    # computing the centroids of each of the k clusters\n",
    "    centroids = np.zeros((k, n_features))\n",
    "    for i in range(k):\n",
    "        centroids[i] = np.mean([x for x in X_labels if x[-1]==i], axis=0)[0:n_features] \n",
    "    \n",
    "    new_labels = np.zeros(len(X))\n",
    "    difference = 0\n",
    "    \n",
    "    for i in range(max_iter):\n",
    "        # distances: between data points and centroids\n",
    "        distances = np.array([np.linalg.norm((X - c).astype(float), axis=1) for c in centroids])\n",
    "        # new_labels: computed by finding centroid with minimal distance\n",
    "        new_labels = np.argmin(distances, axis=0)\n",
    "\n",
    "        if (labels==new_labels).all():\n",
    "            # labels unchanged\n",
    "            labels = new_labels\n",
    "            break\n",
    "        else:\n",
    "            # labels changed\n",
    "            labels = new_labels\n",
    "            for c in range(k):\n",
    "                # update centroids by taking the mean over associated data points\n",
    "                if (labels == c).any():\n",
    "                    centroids[c] = np.mean(X[labels==c], axis=0) \n",
    "    return centroids, labels"
   ]
  },
  {
   "cell_type": "markdown",
   "metadata": {},
   "source": [
    "The `calinski_harabasz` function computes the Calinski-Harabasz index via:\n",
    "$$\\text{CH}_{k}=\\frac{\\text{BCSM}}{k-1} \\cdot \\frac{n-k}{\\text{WCSM}}$$\n",
    "where n is the total number of data points and k the number of clusters. The BCSM (between cluster scatter matrix) is based on the distance between clusters:\n",
    "$$\\text{BCSM} = \\sum_{i=1}^{k}{n_{i} \\cdot d(z_{i}, z_{\\text{tot}})^{2}}$$\n",
    "where $z_{i}$ is the center of the cluster $c_{i}$ and $n_{i}$ the number of points in $c_{i}$. The WCSM (within-cluster scatter matrix) is given by:\n",
    "$$\\text{WCSM} = \\sum_{i=1}^{k}{\\sum_{x\\in c_{i}}{d(x,z_{i})^{2}}}$$\n",
    "where x is a data point belonging to cluster $c_{i}$."
   ]
  },
  {
   "cell_type": "code",
   "execution_count": 204,
   "metadata": {},
   "outputs": [],
   "source": [
    "def calinksi_harabasz(x, k, centroids, labels):\n",
    "    \"\"\"\n",
    "    Arguments:\n",
    "        x: descriptor set\n",
    "        k: number of clusters\n",
    "        centroids: centroids of each cluster\n",
    "        labels: labels of each data point\n",
    "    Returns:\n",
    "        ch: Calinski-Harabasz index\n",
    "    \"\"\"\n",
    "    n, m = x.shape\n",
    "    center_x = np.mean(x, axis=0)\n",
    "    counts = dict.fromkeys(np.arange(0, k, 1), 0)\n",
    "    for label in labels:\n",
    "        counts[label] += 1\n",
    "    counts = np.array(list(counts.values()))\n",
    "    BCSM = np.sum(counts * np.sum((centroids - center_x) ** 2, axis=1))\n",
    "    WCSM = np.zeros(k)\n",
    "    for i in range(k):\n",
    "        index = np.where(labels==i)[0]\n",
    "        WCSM[i] = np.sum(np.sum((gene[index,:] - centroids[i, :]) ** 2, axis=1))\n",
    "    WCSM = np.sum(WCSM)\n",
    "    ch = BCSM / (k - 1) * (n - k) / WCSM\n",
    "    return ch"
   ]
  },
  {
   "cell_type": "markdown",
   "metadata": {},
   "source": [
    "The `train_k_means` function runs k-means for a given number of different initialisations and averaging the corresponding Calinski-Harabasz indices."
   ]
  },
  {
   "cell_type": "code",
   "execution_count": 205,
   "metadata": {},
   "outputs": [],
   "source": [
    "def train_k_means(x, k_list, initial):\n",
    "    \"\"\"\n",
    "    Arguments:\n",
    "        x: descriptor set\n",
    "        k_list: list of k values\n",
    "        initial: number of initialisations\n",
    "    Returns:\n",
    "        best_k: k value which gives the greatest Calinski-harabasz index\n",
    "        best_ch_mean: greatest Calinski-harabasz index\n",
    "        best_labels: labels obtained from optimal k value\n",
    "        ch_mean_list: list of average Calinski-harabasz index for each k\n",
    "    \"\"\"\n",
    "    best_k = 1\n",
    "    best_ch_mean = float('-inf')\n",
    "    best_labels = None\n",
    "    ch_mean_list = []\n",
    "    for k in k_list:\n",
    "        ch_list = []\n",
    "        for i in range(initial):\n",
    "            centroids, labels = k_means(x, k, max_iter=100)\n",
    "            ch = calinksi_harabasz(x, k, centroids, labels)\n",
    "            ch_list.append(ch)\n",
    "        ch_mean = np.mean(ch_list)\n",
    "        ch_mean_list.append(ch_mean)\n",
    "        if ch_mean > best_ch_mean:\n",
    "            best_ch_mean = ch_mean\n",
    "            best_k = k\n",
    "            best_labels = labels\n",
    "    return best_k, best_ch_mean, best_labels, ch_mean_list"
   ]
  },
  {
   "cell_type": "markdown",
   "metadata": {},
   "source": [
    "We determine the optimal k by running k-means, for each k in the range 2 to 10, for 5 different initialisations."
   ]
  },
  {
   "cell_type": "code",
   "execution_count": 210,
   "metadata": {},
   "outputs": [],
   "source": [
    "k_list = np.arange(2, 11, 1)\n",
    "best_k, best_ch_mean, best_labels, ch_mean_list = train_k_means(gene, k_list, 5)"
   ]
  },
  {
   "cell_type": "markdown",
   "metadata": {},
   "source": [
    "We plot the average Calinski-Harabasz index as a function of k."
   ]
  },
  {
   "cell_type": "code",
   "execution_count": 211,
   "metadata": {},
   "outputs": [
    {
     "data": {
      "image/png": "[encoded data removed]",
      "text/plain": [
       "<Figure size 864x576 with 1 Axes>"
      ]
     },
     "metadata": {
      "needs_background": "light"
     },
     "output_type": "display_data"
    }
   ],
   "source": [
    "fig, ax = plt.subplots(figsize=(12,8))\n",
    "plt.plot(k_list, ch_mean_list)\n",
    "plt.axvline(x=best_k, color=\"r\")\n",
    "plt.xlabel('k',fontsize=14)\n",
    "plt.ylabel('Average Calinski-Harabasz Index',fontsize=14)\n",
    "plt.title(\"Plot of Average Calinski-Harabasz Index against k\", fontsize=20)\n",
    "plt.xticks(size=14)\n",
    "plt.yticks(size=14)\n",
    "plt.show()"
   ]
  },
  {
   "cell_type": "markdown",
   "metadata": {},
   "source": [
    "We can observe that the avergae Calinkski-Harabasz index achieves maximum when k=4."
   ]
  },
  {
   "cell_type": "code",
   "execution_count": 212,
   "metadata": {},
   "outputs": [
    {
     "name": "stdout",
     "output_type": "stream",
     "text": [
      "The optimal value of k is 4\n"
     ]
    }
   ],
   "source": [
    "print(\"The optimal value of k is {}\".format(best_k))"
   ]
  },
  {
   "cell_type": "code",
   "execution_count": 213,
   "metadata": {},
   "outputs": [
    {
     "data": {
      "text/html": [
       "<style  type=\"text/css\" >\n",
       "    #T_74e2e_ th {\n",
       "          font-size: 14pt;\n",
       "    }#T_74e2e_row0_col0,#T_74e2e_row0_col1,#T_74e2e_row0_col2,#T_74e2e_row0_col3,#T_74e2e_row1_col0,#T_74e2e_row1_col1,#T_74e2e_row1_col2,#T_74e2e_row1_col3{\n",
       "            font-size:  14pt;\n",
       "        }</style><table id=\"T_74e2e_\" ><thead>    <tr>        <th class=\"blank level0\" ></th>        <th class=\"col_heading level0 col0\" ></th>        <th class=\"col_heading level0 col1\" > </th>        <th class=\"col_heading level0 col2\" >  </th>        <th class=\"col_heading level0 col3\" >   </th>    </tr></thead><tbody>\n",
       "                <tr>\n",
       "                        <th id=\"T_74e2e_level0_row0\" class=\"row_heading level0 row0\" >Cluster</th>\n",
       "                        <td id=\"T_74e2e_row0_col0\" class=\"data row0 col0\" >0</td>\n",
       "                        <td id=\"T_74e2e_row0_col1\" class=\"data row0 col1\" >1</td>\n",
       "                        <td id=\"T_74e2e_row0_col2\" class=\"data row0 col2\" >2</td>\n",
       "                        <td id=\"T_74e2e_row0_col3\" class=\"data row0 col3\" >3</td>\n",
       "            </tr>\n",
       "            <tr>\n",
       "                        <th id=\"T_74e2e_level0_row1\" class=\"row_heading level0 row1\" >Size</th>\n",
       "                        <td id=\"T_74e2e_row1_col0\" class=\"data row1 col0\" >143</td>\n",
       "                        <td id=\"T_74e2e_row1_col1\" class=\"data row1 col1\" >122</td>\n",
       "                        <td id=\"T_74e2e_row1_col2\" class=\"data row1 col2\" >400</td>\n",
       "                        <td id=\"T_74e2e_row1_col3\" class=\"data row1 col3\" >135</td>\n",
       "            </tr>\n",
       "    </tbody></table>"
      ],
      "text/plain": [
       "<pandas.io.formats.style.Styler at 0x7f9e1158e970>"
      ]
     },
     "execution_count": 213,
     "metadata": {},
     "output_type": "execute_result"
    }
   ],
   "source": [
    "# Table of size of clusters found by k-means for optimal k\n",
    "label_1, size_1 = np.unique(best_labels, return_counts=True)\n",
    "data_k1 = {'': [label_1[0], size_1[0]], ' ': [label_1[1], size_1[1]], '  ':[label_1[2], size_1[2]], '   ':[label_1[3], size_1[3]]}\n",
    "df_k1 = pd.DataFrame(data_k1, index=['Cluster', 'Size'])\n",
    "df_k1 = df_k1.style.set_properties(**{'font-size': '14pt'})\n",
    "df_k1 = df_k1.set_table_styles([{'selector': 'th', 'props': [('font-size', '14pt')]}])\n",
    "df_k1"
   ]
  },
  {
   "cell_type": "markdown",
   "metadata": {},
   "source": [
    "The `homogeneity_score` function computes the homogeneity socre via: <br>\n",
    "Given a set of classes $C$ and a set of clusters $K$ of size, respectively $|C|$ and $|K|$,\n",
    "$$\\text{Homeogeneity score} = 1 - \\frac{H(C|K)}{H(C)}$$\n",
    "where the symbols H denote entropies defined as follow:\n",
    "$$H(C|K) = -\\sum_{k=1}^{|K|}{\\sum_{c=1}^{|C|}{\\frac{a_{ck}}{N}\\log\\frac{a_{ck}}{\\sum_{c=1}^{|C|}{a_{ck}}}}} \\quad \\quad H(C) = -\\sum_{c=1}^{|C|}{\\frac{\\sum_{k=1}^{|K|}{a_{ck}}}{N}\\log\\frac{\\sum_{k=1}^{|K|}{a_{ck}}}{N}}$$\n",
    "N is the total number of data points and $a_{ck}$ is the number of data points that belong to class c and are assigned to class k."
   ]
  },
  {
   "cell_type": "code",
   "execution_count": 214,
   "metadata": {
    "id": "rZTq3yBMJarN"
   },
   "outputs": [],
   "source": [
    "def homogeneity_score(x, true_labels, cluster_labels):\n",
    "    \"\"\"\n",
    "    Arguments:\n",
    "        x: descriptor set\n",
    "        true_labels: true class labels\n",
    "        cluster_labels: labels assigend by k means\n",
    "    Returns:\n",
    "        homogeneity score\n",
    "    \"\"\"\n",
    "    N, M = x.shape\n",
    "    c = np.unique(true_labels)\n",
    "    k = np.unique(cluster_labels)\n",
    "    a = np.zeros((len(c), len(k)))\n",
    "    for i, true_label in enumerate(c):\n",
    "        index_true = np.where(true_labels==true_label)[0]\n",
    "        for j, cluster_label in enumerate(k):\n",
    "            index_cluster = np.where(cluster_labels==cluster_label)[0]\n",
    "            a[i, j] = len(np.intersect1d(index_true, index_cluster))\n",
    "    h_c_k = -np.sum(np.sum(a / N * np.log(a / np.sum(a, axis=0), where=a>0), axis=0))\n",
    "    h_c = -np.sum(np.sum(a, axis=1) / N * np.log(np.sum(a, axis=1) / N))\n",
    "    return 1 - h_c_k / h_c"
   ]
  },
  {
   "cell_type": "markdown",
   "metadata": {},
   "source": [
    "We compute the homogeneity score to assess the consistency between the clustering of the samples obtained in **2.1.1** and the assignment to these classes (tumour types)."
   ]
  },
  {
   "cell_type": "code",
   "execution_count": 215,
   "metadata": {},
   "outputs": [
    {
     "name": "stdout",
     "output_type": "stream",
     "text": [
      "Homogeneity score = 0.6653242487126452\n"
     ]
    }
   ],
   "source": [
    "print(\"Homogeneity score = {}\".format(homogeneity_score(gene, gene_type, best_labels)))"
   ]
  },
  {
   "cell_type": "markdown",
   "metadata": {},
   "source": [
    "The homogeneity score of approximately 0.67 suggests that the clusters obtained from k-means is moderately consistent with the sample tumour types. The homogeneity score measures the extent to which the data points in one cluster belong to the same class. As the optimal number of clusters obtained from k-means is 4 and the true number of tumour types is 5, there is high possibility for data points not belonging in the same class to be categorised into the same cluster. This results in the not so high homogeneity score. Thus, a homogeneity score of approximately 0.67 indicates that the clusters are reasonably homogenous, but there is still room for improvement."
   ]
  },
  {
   "cell_type": "markdown",
   "metadata": {
    "id": "Apzf5DJeJa_h"
   },
   "source": [
    "## Graph-based analysis"
   ]
  },
  {
   "cell_type": "markdown",
   "metadata": {},
   "source": [
    "We compute the matrix of connected correlations between the genes and use it as a similarity matrix to construct a graph that links the genes. This matrix will be the adjacency matrix $A$ of a weighted graph describing gene co-expression."
   ]
  },
  {
   "cell_type": "code",
   "execution_count": 216,
   "metadata": {
    "id": "xRKvys8fJewE"
   },
   "outputs": [
    {
     "data": {
      "image/png": "[encoded data removed]",
      "text/plain": [
       "<Figure size 864x576 with 2 Axes>"
      ]
     },
     "metadata": {
      "needs_background": "light"
     },
     "output_type": "display_data"
    }
   ],
   "source": [
    "# compute correlation matrix\n",
    "corr = np.corrcoef(gene.astype(float), rowvar=False)\n",
    "# set the diagonal terms to zero\n",
    "np.fill_diagonal(corr, 0)\n",
    "# set all the terms whose absolute value is smaller than 0.75 to 0\n",
    "A = np.where(np.abs(corr) < 0.75, 0, corr)\n",
    "\n",
    "# visualise A\n",
    "fig, ax = plt.subplots(figsize=(12,8))\n",
    "plt.imshow(A)\n",
    "plt.colorbar()\n",
    "plt.title(\"Adjacency matrix\", fontsize=20)\n",
    "plt.xticks(size=14)\n",
    "plt.yticks(size=14)\n",
    "plt.show()"
   ]
  },
  {
   "cell_type": "markdown",
   "metadata": {},
   "source": [
    "We compute the degree centrality of each node in the network using the formula:\n",
    "$$c_{d} = \\frac{d}{2E} = \\frac{A1}{2E}$$\n",
    "where $d$ is the degree vector and $E = \\frac{1}{2}\\sum_{i=1}^{N}{dd^{T}}$."
   ]
  },
  {
   "cell_type": "code",
   "execution_count": 246,
   "metadata": {
    "id": "QHn13w3VJe2V"
   },
   "outputs": [],
   "source": [
    "d = A @ np.ones(len(gene.T))\n",
    "E = np.sum(d) / 2\n",
    "c = d / (2 * E)\n",
    "gene_index = np.argsort(c)[::-1][:5]\n",
    "gene_c = c[gene_index]"
   ]
  },
  {
   "cell_type": "code",
   "execution_count": 252,
   "metadata": {},
   "outputs": [
    {
     "data": {
      "text/html": [
       "<style  type=\"text/css\" >\n",
       "    #T_d79da_ th {\n",
       "          font-size: 14pt;\n",
       "    }#T_d79da_row0_col0,#T_d79da_row0_col1,#T_d79da_row0_col2,#T_d79da_row0_col3,#T_d79da_row0_col4,#T_d79da_row1_col0,#T_d79da_row1_col1,#T_d79da_row1_col2,#T_d79da_row1_col3,#T_d79da_row1_col4{\n",
       "            font-size:  14pt;\n",
       "        }</style><table id=\"T_d79da_\" ><thead>    <tr>        <th class=\"blank level0\" ></th>        <th class=\"col_heading level0 col0\" ></th>        <th class=\"col_heading level0 col1\" > </th>        <th class=\"col_heading level0 col2\" >  </th>        <th class=\"col_heading level0 col3\" >   </th>        <th class=\"col_heading level0 col4\" >    </th>    </tr></thead><tbody>\n",
       "                <tr>\n",
       "                        <th id=\"T_d79da_level0_row0\" class=\"row_heading level0 row0\" >Gene Index</th>\n",
       "                        <td id=\"T_d79da_row0_col0\" class=\"data row0 col0\" >17</td>\n",
       "                        <td id=\"T_d79da_row0_col1\" class=\"data row0 col1\" >41</td>\n",
       "                        <td id=\"T_d79da_row0_col2\" class=\"data row0 col2\" >16</td>\n",
       "                        <td id=\"T_d79da_row0_col3\" class=\"data row0 col3\" >81</td>\n",
       "                        <td id=\"T_d79da_row0_col4\" class=\"data row0 col4\" >90</td>\n",
       "            </tr>\n",
       "            <tr>\n",
       "                        <th id=\"T_d79da_level0_row1\" class=\"row_heading level0 row1\" >Degree Centrality</th>\n",
       "                        <td id=\"T_d79da_row1_col0\" class=\"data row1 col0\" >0.026873</td>\n",
       "                        <td id=\"T_d79da_row1_col1\" class=\"data row1 col1\" >0.025935</td>\n",
       "                        <td id=\"T_d79da_row1_col2\" class=\"data row1 col2\" >0.025378</td>\n",
       "                        <td id=\"T_d79da_row1_col3\" class=\"data row1 col3\" >0.025231</td>\n",
       "                        <td id=\"T_d79da_row1_col4\" class=\"data row1 col4\" >0.024870</td>\n",
       "            </tr>\n",
       "    </tbody></table>"
      ],
      "text/plain": [
       "<pandas.io.formats.style.Styler at 0x7f9e10aee370>"
      ]
     },
     "execution_count": 252,
     "metadata": {},
     "output_type": "execute_result"
    }
   ],
   "source": [
    "# Table of degree centrality for top 5 ranking genes in full graph\n",
    "data_c1 = {'': [gene_index[0], gene_c[0]], ' ': [gene_index[1], gene_c[1]], '  ':[gene_index[2], gene_c[2]], '   ':[gene_index[3], gene_c[3]], '    ':[gene_index[4], gene_c[4]]}\n",
    "df_c1 = pd.DataFrame(data_c1, index=['Gene Index', 'Degree Centrality'])\n",
    "df_c1.iloc[0] = df_c1.iloc[0].apply(lambda x: \"{:.0f}\".format(x))\n",
    "df_c1 = df_c1.style.set_properties(**{'font-size': '14pt'})\n",
    "df_c1 = df_c1.set_table_styles([{'selector': 'th', 'props': [('font-size', '14pt')]}])\n",
    "df_c1"
   ]
  },
  {
   "cell_type": "markdown",
   "metadata": {},
   "source": [
    "We compute the symmetric normalised Laplacian of the graph via:\n",
    "$$\\boldsymbol L = \\boldsymbol I - \\boldsymbol D^{-1/2}\\boldsymbol A \\boldsymbol D^{-1/2}$$\n",
    "where $\\boldsymbol D$ is our diagonal matrix of node degrees and $\\boldsymbol A$ is our adjacency matrix."
   ]
  },
  {
   "cell_type": "code",
   "execution_count": 253,
   "metadata": {
    "id": "wfcsAet_Je8V"
   },
   "outputs": [],
   "source": [
    "# computing inverse square root vector of degree\n",
    "weighted_degree_sqrt = 1.0 / np.sqrt(d)\n",
    "\n",
    "# set a diagonal matrix of the inverse square root of degree\n",
    "D_inv_sqrt = np.diag(weighted_degree_sqrt)\n",
    "\n",
    "# define the normalised Laplacian\n",
    "L_norm = np.eye(A.shape[0]) - D_inv_sqrt.dot(A.dot(D_inv_sqrt))"
   ]
  },
  {
   "cell_type": "markdown",
   "metadata": {},
   "source": [
    "We derive the eigenvectors and eigenvalues of the symmetric normalised Laplacian of the graph."
   ]
  },
  {
   "cell_type": "code",
   "execution_count": 254,
   "metadata": {},
   "outputs": [],
   "source": [
    "eigenvals, eigenvecs = linalg.eigsh(L_norm, 95, which=\"SM\", return_eigenvectors=True)"
   ]
  },
  {
   "cell_type": "markdown",
   "metadata": {},
   "source": [
    "We obtain the index of the eigenvevalues that have zero values upon numerical rounding."
   ]
  },
  {
   "cell_type": "code",
   "execution_count": 255,
   "metadata": {},
   "outputs": [],
   "source": [
    "index_0 = np.where(np.round(eigenvals, decimals=6)==0)[0]"
   ]
  },
  {
   "cell_type": "markdown",
   "metadata": {},
   "source": [
    "We plot the spectrum of eigenvalues and mark the gap between eigenvalues that, upon numerical rounding, have respectively zero and non-zero values."
   ]
  },
  {
   "cell_type": "code",
   "execution_count": 270,
   "metadata": {},
   "outputs": [
    {
     "data": {
      "image/png": "[encoded data removed]",
      "text/plain": [
       "<Figure size 864x576 with 1 Axes>"
      ]
     },
     "metadata": {
      "needs_background": "light"
     },
     "output_type": "display_data"
    }
   ],
   "source": [
    "fig, ax = plt.subplots(figsize=(12,8))\n",
    "plt.plot(eigenvals, 'o')\n",
    "plt.axhline(y = 0, color='r', linestyle='--')\n",
    "plt.axhline(y = eigenvals[index_0[-1]+1], color='r', linestyle='--')\n",
    "plt.plot([index_0[-1]+1, index_0[-1]+1], [0, eigenvals[index_0[-1]+1]], linestyle='-', color='r')\n",
    "plt.text(20, 0.2, \"Gap between zero and non-zero eigenvalues\", fontsize=14)\n",
    "plt.ylabel('Eigenvalue',fontsize=14)\n",
    "plt.title(\"Plot of Spectrum of Eigenvalues\", fontsize=20)\n",
    "plt.xticks(size=14)\n",
    "plt.yticks(size=14)\n",
    "plt.show()"
   ]
  },
  {
   "cell_type": "code",
   "execution_count": 271,
   "metadata": {},
   "outputs": [
    {
     "name": "stdout",
     "output_type": "stream",
     "text": [
      "The number of zero eigenvalues is 18\n"
     ]
    }
   ],
   "source": [
    "r = len(index_0)\n",
    "print(\"The number of zero eigenvalues is {}\".format(r))"
   ]
  },
  {
   "cell_type": "markdown",
   "metadata": {},
   "source": [
    "The number of zero eigenvalues indicates the number of disconnected components in the graph network. There are no edges that connect nodes from one disconnected component to nodes in another disconnected component. This tells us that there are 18 disconnected components in this graph network."
   ]
  },
  {
   "cell_type": "markdown",
   "metadata": {},
   "source": [
    "We let U be the 95 x 18 matrix containing the 18 eigenvectors of the symmetric normalised Laplacian corresponding to zero eigenvalues as columns. We then form T of size 95 x 18 by normalising U via:\n",
    "$$T_{ij}=\\frac{U_{ij}}{\\sqrt{\\sum_{k}{U_{ik}^{2}}}}$$"
   ]
  },
  {
   "cell_type": "code",
   "execution_count": 272,
   "metadata": {
    "id": "uw6jwGWKJfCd"
   },
   "outputs": [],
   "source": [
    "U = eigenvecs[:, :r]\n",
    "T = U / np.sqrt(np.sum(U**2, axis=1)).reshape(-1, 1)"
   ]
  },
  {
   "cell_type": "markdown",
   "metadata": {},
   "source": [
    "The `within_cluster_dist` function computes the normalised within-cluster distance for a given clustering $C=\\{c_{l}\\}_{l=1}^{k}$ via:\n",
    "$$W(C) = \\frac{1}{2}\\sum_{l=1}^{k}{\\frac{1}{|c_{l}|}\\sum_{i,j\\in c_{l}}{\\lVert x^{(i)} - x^{(j)} \\rVert^{2}}}$$\n",
    "where $|c_{l}|$ is the cardinality of $c_{l}$."
   ]
  },
  {
   "cell_type": "code",
   "execution_count": 274,
   "metadata": {},
   "outputs": [],
   "source": [
    "def within_cluster_dist(x, labels):\n",
    "    \"\"\"\n",
    "    Arguments:\n",
    "        x: descriptor set\n",
    "        k: number of clusters\n",
    "        labels: labels of each data point\n",
    "    Returns:\n",
    "        w: normalised within-cluster distance\n",
    "    \"\"\"\n",
    "    c_array = np.array([])\n",
    "    dist_array = np.array([])\n",
    "    for label in np.unique(labels):\n",
    "        index = np.where(labels==label)[0]\n",
    "        c = len(index)\n",
    "        inter_dist = np.sum(pdist(x[index, :], 'euclidean')**2)\n",
    "        c_array = np.append(c_array, c)\n",
    "        dist_array = np.append(dist_array, inter_dist)\n",
    "    w = np.sum(dist_array / c_array)\n",
    "    return w"
   ]
  },
  {
   "cell_type": "markdown",
   "metadata": {},
   "source": [
    "The `train_k_means_graph` function runs k-means for a given number of different initialisations and returns the minimum normalised within-cluster distance for each k from a list of k values."
   ]
  },
  {
   "cell_type": "code",
   "execution_count": 275,
   "metadata": {},
   "outputs": [],
   "source": [
    "def train_k_means_graph(x, k_list, initial):\n",
    "    \"\"\"\n",
    "    Arguments:\n",
    "        x: descriptor set\n",
    "        k_list: list of k values\n",
    "        initial: number of initialisations\n",
    "    Returns:\n",
    "        labels_list: list containing lists of labels for each k\n",
    "        w_min_list: list of minimum normalised within-cluster distance for each k\n",
    "    \"\"\"\n",
    "    labels_list = []\n",
    "    w_min_list = []\n",
    "    for k in k_list:\n",
    "        w_list = []\n",
    "        for i in range(initial):\n",
    "            centroids, labels = k_means(x, k, max_iter=500)\n",
    "            w = within_cluster_dist(x, labels)\n",
    "            w_list.append(w)\n",
    "        w_min = np.min(w_list)\n",
    "        w_min_list.append(w_min)\n",
    "        labels_list.append(labels)\n",
    "    return labels_list, w_min_list"
   ]
  },
  {
   "cell_type": "markdown",
   "metadata": {},
   "source": [
    "To find the appropriate value of k, we use the elbow method by trying a range of increasing k's until there is no longer any significant improvement in the clustering."
   ]
  },
  {
   "cell_type": "code",
   "execution_count": 356,
   "metadata": {},
   "outputs": [],
   "source": [
    "k_list = np.arange(2, 41, 1)\n",
    "labels_list, w_min_list = train_k_means_graph(T, k_list, 100)"
   ]
  },
  {
   "cell_type": "markdown",
   "metadata": {},
   "source": [
    "We set a tolerance of $10^{-10}$ for the difference between the minimum normalised within-cluster distance for the current k and previous k."
   ]
  },
  {
   "cell_type": "code",
   "execution_count": 357,
   "metadata": {},
   "outputs": [],
   "source": [
    "k_best = np.where(np.array([np.abs(a - b) for a, b in zip(w_min_list, w_min_list[1:] + [0])])<1e-10)[0][0] + 1"
   ]
  },
  {
   "cell_type": "markdown",
   "metadata": {},
   "source": [
    "To visualise the elbow of the curve, we plot minimum normalised within-cluster distance against k."
   ]
  },
  {
   "cell_type": "code",
   "execution_count": 358,
   "metadata": {},
   "outputs": [
    {
     "data": {
      "image/png": "[encoded data removed]",
      "text/plain": [
       "<Figure size 864x576 with 1 Axes>"
      ]
     },
     "metadata": {
      "needs_background": "light"
     },
     "output_type": "display_data"
    }
   ],
   "source": [
    "fig, ax = plt.subplots(figsize=(12,8))\n",
    "plt.plot(k_list, w_min_list)\n",
    "plt.axvline(x=k_best, color='r')\n",
    "plt.xlabel('k',fontsize=14)\n",
    "plt.ylabel('Minimum Normalised Within-cluster Distance',fontsize=14)\n",
    "plt.title(\"Plot of Minimum Normalised Within-cluster Distance against k\", fontsize=20)\n",
    "plt.xticks(size=14)\n",
    "plt.yticks(size=14)\n",
    "plt.show()"
   ]
  },
  {
   "cell_type": "code",
   "execution_count": 359,
   "metadata": {},
   "outputs": [
    {
     "name": "stdout",
     "output_type": "stream",
     "text": [
      "The optimal value of k is 16\n"
     ]
    }
   ],
   "source": [
    "print(\"The optimal value of k is {}\".format(k_best))"
   ]
  },
  {
   "cell_type": "code",
   "execution_count": 360,
   "metadata": {},
   "outputs": [
    {
     "data": {
      "text/html": [
       "<style  type=\"text/css\" >\n",
       "    #T_8f068_ thead {\n",
       "          display: none;\n",
       "    }    #T_8f068_ th {\n",
       "          font-size: 14pt;\n",
       "    }#T_8f068_row0_col0,#T_8f068_row0_col1,#T_8f068_row0_col2,#T_8f068_row0_col3,#T_8f068_row0_col4,#T_8f068_row0_col5,#T_8f068_row0_col6,#T_8f068_row0_col7,#T_8f068_row0_col8,#T_8f068_row0_col9,#T_8f068_row0_col10,#T_8f068_row0_col11,#T_8f068_row0_col12,#T_8f068_row0_col13,#T_8f068_row0_col14,#T_8f068_row0_col15,#T_8f068_row1_col0,#T_8f068_row1_col1,#T_8f068_row1_col2,#T_8f068_row1_col3,#T_8f068_row1_col4,#T_8f068_row1_col5,#T_8f068_row1_col6,#T_8f068_row1_col7,#T_8f068_row1_col8,#T_8f068_row1_col9,#T_8f068_row1_col10,#T_8f068_row1_col11,#T_8f068_row1_col12,#T_8f068_row1_col13,#T_8f068_row1_col14,#T_8f068_row1_col15{\n",
       "            font-size:  14pt;\n",
       "        }</style><table id=\"T_8f068_\" ><thead>    <tr>        <th class=\"blank level0\" ></th>        <th class=\"col_heading level0 col0\" >0</th>        <th class=\"col_heading level0 col1\" >1</th>        <th class=\"col_heading level0 col2\" >2</th>        <th class=\"col_heading level0 col3\" >3</th>        <th class=\"col_heading level0 col4\" >4</th>        <th class=\"col_heading level0 col5\" >5</th>        <th class=\"col_heading level0 col6\" >6</th>        <th class=\"col_heading level0 col7\" >7</th>        <th class=\"col_heading level0 col8\" >8</th>        <th class=\"col_heading level0 col9\" >9</th>        <th class=\"col_heading level0 col10\" >10</th>        <th class=\"col_heading level0 col11\" >11</th>        <th class=\"col_heading level0 col12\" >12</th>        <th class=\"col_heading level0 col13\" >13</th>        <th class=\"col_heading level0 col14\" >14</th>        <th class=\"col_heading level0 col15\" >15</th>    </tr></thead><tbody>\n",
       "                <tr>\n",
       "                        <th id=\"T_8f068_level0_row0\" class=\"row_heading level0 row0\" >Cluster</th>\n",
       "                        <td id=\"T_8f068_row0_col0\" class=\"data row0 col0\" >0</td>\n",
       "                        <td id=\"T_8f068_row0_col1\" class=\"data row0 col1\" >1</td>\n",
       "                        <td id=\"T_8f068_row0_col2\" class=\"data row0 col2\" >2</td>\n",
       "                        <td id=\"T_8f068_row0_col3\" class=\"data row0 col3\" >3</td>\n",
       "                        <td id=\"T_8f068_row0_col4\" class=\"data row0 col4\" >4</td>\n",
       "                        <td id=\"T_8f068_row0_col5\" class=\"data row0 col5\" >5</td>\n",
       "                        <td id=\"T_8f068_row0_col6\" class=\"data row0 col6\" >6</td>\n",
       "                        <td id=\"T_8f068_row0_col7\" class=\"data row0 col7\" >7</td>\n",
       "                        <td id=\"T_8f068_row0_col8\" class=\"data row0 col8\" >8</td>\n",
       "                        <td id=\"T_8f068_row0_col9\" class=\"data row0 col9\" >9</td>\n",
       "                        <td id=\"T_8f068_row0_col10\" class=\"data row0 col10\" >10</td>\n",
       "                        <td id=\"T_8f068_row0_col11\" class=\"data row0 col11\" >11</td>\n",
       "                        <td id=\"T_8f068_row0_col12\" class=\"data row0 col12\" >12</td>\n",
       "                        <td id=\"T_8f068_row0_col13\" class=\"data row0 col13\" >13</td>\n",
       "                        <td id=\"T_8f068_row0_col14\" class=\"data row0 col14\" >14</td>\n",
       "                        <td id=\"T_8f068_row0_col15\" class=\"data row0 col15\" >15</td>\n",
       "            </tr>\n",
       "            <tr>\n",
       "                        <th id=\"T_8f068_level0_row1\" class=\"row_heading level0 row1\" >Size</th>\n",
       "                        <td id=\"T_8f068_row1_col0\" class=\"data row1 col0\" >9</td>\n",
       "                        <td id=\"T_8f068_row1_col1\" class=\"data row1 col1\" >2</td>\n",
       "                        <td id=\"T_8f068_row1_col2\" class=\"data row1 col2\" >4</td>\n",
       "                        <td id=\"T_8f068_row1_col3\" class=\"data row1 col3\" >7</td>\n",
       "                        <td id=\"T_8f068_row1_col4\" class=\"data row1 col4\" >2</td>\n",
       "                        <td id=\"T_8f068_row1_col5\" class=\"data row1 col5\" >23</td>\n",
       "                        <td id=\"T_8f068_row1_col6\" class=\"data row1 col6\" >2</td>\n",
       "                        <td id=\"T_8f068_row1_col7\" class=\"data row1 col7\" >2</td>\n",
       "                        <td id=\"T_8f068_row1_col8\" class=\"data row1 col8\" >7</td>\n",
       "                        <td id=\"T_8f068_row1_col9\" class=\"data row1 col9\" >16</td>\n",
       "                        <td id=\"T_8f068_row1_col10\" class=\"data row1 col10\" >3</td>\n",
       "                        <td id=\"T_8f068_row1_col11\" class=\"data row1 col11\" >6</td>\n",
       "                        <td id=\"T_8f068_row1_col12\" class=\"data row1 col12\" >6</td>\n",
       "                        <td id=\"T_8f068_row1_col13\" class=\"data row1 col13\" >2</td>\n",
       "                        <td id=\"T_8f068_row1_col14\" class=\"data row1 col14\" >2</td>\n",
       "                        <td id=\"T_8f068_row1_col15\" class=\"data row1 col15\" >2</td>\n",
       "            </tr>\n",
       "    </tbody></table>"
      ],
      "text/plain": [
       "<pandas.io.formats.style.Styler at 0x7f9e0ff1d580>"
      ]
     },
     "execution_count": 360,
     "metadata": {},
     "output_type": "execute_result"
    }
   ],
   "source": [
    "# Table of size of clusters found by k-means for optimal k\n",
    "labels_best, counts_best = np.unique(labels_list[k_best - 2], return_counts=True)\n",
    "data_k2 = {'Cluster': labels_best, 'Size': counts_best}\n",
    "df_k2 = pd.DataFrame(data_k2).T\n",
    "df_k2.set_index(pd.Index(['Cluster', 'Size']))\n",
    "df_k2 = df_k2.style.set_properties(**{'font-size': '14pt'})\n",
    "df_k2 = df_k2.set_table_styles([{'selector': 'thead', 'props': [('display', 'none')]}, {'selector': 'th', 'props': [('font-size', '14pt')]}])\n",
    "df_k2"
   ]
  },
  {
   "cell_type": "markdown",
   "metadata": {},
   "source": [
    "We now reorder the adjacency matrix by the clusters assigned."
   ]
  },
  {
   "cell_type": "code",
   "execution_count": 361,
   "metadata": {},
   "outputs": [
    {
     "data": {
      "image/png": "[encoded data removed]",
      "text/plain": [
       "<Figure size 864x576 with 2 Axes>"
      ]
     },
     "metadata": {
      "needs_background": "light"
     },
     "output_type": "display_data"
    }
   ],
   "source": [
    "arranged = np.argsort(labels_list[k_best - 2])\n",
    "\n",
    "fig, ax = plt.subplots(figsize=(12,8))\n",
    "plt.imshow(A[arranged, :][:, arranged])\n",
    "plt.colorbar()\n",
    "plt.title(\"Adjacency matrix reordered by clusters\", fontsize=20)\n",
    "plt.xticks(size=14)\n",
    "plt.yticks(size=14)\n",
    "plt.show()"
   ]
  },
  {
   "cell_type": "markdown",
   "metadata": {},
   "source": [
    "The resulting clusters identify groups of genes with similar expression patterns across the different tumour sample types. The genes within the same cluster are tightly connected to each other but weakly connected to genes in other clusters. This indicates that the genes within the same cluster are involved in similar biological mechanisms related to tumour growth."
   ]
  },
  {
   "cell_type": "markdown",
   "metadata": {},
   "source": [
    "We now consider the biggest cluster identified above, which is the cluster with 23 nodes."
   ]
  },
  {
   "cell_type": "code",
   "execution_count": 362,
   "metadata": {
    "id": "yk40o2p2JfIs"
   },
   "outputs": [],
   "source": [
    "biggest_cluster = [np.argmax(counts_best)]\n",
    "biggest_cluster_index = np.where(labels_list[k_best - 2]==biggest_cluster)[0]\n",
    "A_c = A[biggest_cluster_index,:][:,biggest_cluster_index]"
   ]
  },
  {
   "cell_type": "markdown",
   "metadata": {},
   "source": [
    "We use the normalised Laplacian to perform spectral partitioning and derive a binary partition of the subgraph corresponding to this cluster."
   ]
  },
  {
   "cell_type": "code",
   "execution_count": 363,
   "metadata": {},
   "outputs": [],
   "source": [
    "weighted_degree_c = A_c.sum(axis=1) \n",
    "\n",
    "# computing inverse square root vector of degree\n",
    "weighted_degree_sqrt_c = 1.0 / np.sqrt(weighted_degree_c)\n",
    "\n",
    "# set a diagonal matrix of the inverse square root of degree\n",
    "D_inv_sqrt_c = np.diag(weighted_degree_sqrt_c)\n",
    "\n",
    "# define the normalised Laplacian\n",
    "L_norm_c = np.eye(A_c.shape[0]) - D_inv_sqrt_c.dot(A_c.dot(D_inv_sqrt_c))"
   ]
  },
  {
   "cell_type": "code",
   "execution_count": 364,
   "metadata": {},
   "outputs": [],
   "source": [
    "eigenvals_c, eigenvecs_c = linalg.eigsh(L_norm_c, 2, which=\"SM\", return_eigenvectors=True)"
   ]
  },
  {
   "cell_type": "markdown",
   "metadata": {},
   "source": [
    "We assign all elements in the second eigenvector with negative values to the one partition and all elements in the second eigenvector with positive values to the other partition."
   ]
  },
  {
   "cell_type": "code",
   "execution_count": 365,
   "metadata": {},
   "outputs": [],
   "source": [
    "second_eigenvector = eigenvecs_c[:,1]\n",
    "partition_0 = second_eigenvector[second_eigenvector > 0]\n",
    "partition_1 = second_eigenvector[second_eigenvector < 0]"
   ]
  },
  {
   "cell_type": "markdown",
   "metadata": {},
   "source": [
    "We visualise the magnitude of the network links within each partition and across the two partitions."
   ]
  },
  {
   "cell_type": "code",
   "execution_count": 366,
   "metadata": {},
   "outputs": [
    {
     "data": {
      "image/png": "[encoded data removed]",
      "text/plain": [
       "<Figure size 864x432 with 4 Axes>"
      ]
     },
     "metadata": {
      "needs_background": "light"
     },
     "output_type": "display_data"
    }
   ],
   "source": [
    "partition_0_index = np.where(second_eigenvector>0)[0]\n",
    "partition_1_index = np.where(second_eigenvector<0)[0]\n",
    "\n",
    "fig, ax = plt.subplots(figsize=(12,6))\n",
    "plt.subplot(1, 3, 1)\n",
    "plt.imshow(A_c[partition_0_index, :][:, partition_0_index])\n",
    "plt.title(\"1st partition\", fontsize=20)\n",
    "plt.xticks(range(len(partition_0_index)), biggest_cluster_index[partition_0_index], size=14)\n",
    "plt.yticks(range(len(partition_0_index)), biggest_cluster_index[partition_0_index], size=14)\n",
    "\n",
    "plt.subplot(1, 3, 2)\n",
    "plt.imshow(A_c[partition_1_index, :][:, partition_1_index])\n",
    "plt.title(\"2nd partition\", fontsize=20)\n",
    "plt.xticks(range(len(partition_1_index)), biggest_cluster_index[partition_1_index], size=14)\n",
    "plt.yticks(range(len(partition_1_index)), biggest_cluster_index[partition_1_index], size=14)\n",
    "\n",
    "rearranged_partition_index = np.concatenate((partition_0_index, partition_1_index))\n",
    "plt.subplot(1, 3, 3)\n",
    "plt.imshow(A_c[rearranged_partition_index, :][:, rearranged_partition_index])\n",
    "plt.gca().add_patch(Rectangle((-0.5, -0.5), len(partition_0), len(partition_0), fill=False, linewidth=3, color=\"red\"))\n",
    "plt.gca().add_patch(Rectangle((len(partition_0)-0.5, len(partition_0)-0.5), len(partition_1), len(partition_1), fill=False, linewidth=3, color=\"blue\"))\n",
    "plt.title(\"Adjacency matrix\", fontsize=20)\n",
    "plt.xticks(range(len(rearranged_partition_index)), biggest_cluster_index[rearranged_partition_index], size=8)\n",
    "plt.yticks(range(len(rearranged_partition_index)), biggest_cluster_index[rearranged_partition_index], size=8)\n",
    "\n",
    "fig.subplots_adjust(right=1.1)\n",
    "cbar_ax = fig.add_axes([1.15, 0.15, 0.05, 0.7])\n",
    "fig.colorbar(plot, cax=cbar_ax)\n",
    "\n",
    "plt.show()"
   ]
  },
  {
   "cell_type": "markdown",
   "metadata": {},
   "source": [
    "We can observe that the weights between each of the genes within the same partition have high magnitude, suggesting that the genes in the same partition are strongly related. Comparing the strength of the within partition network links of the two partitons, we can notice that all the genes in the 2nd partiton are linked to each other with high magnitude network links, whereas there are a few nodes in the 1st partition that are not linked, which suggests that the relationship between the genes in the 2nd partition is stronger than the 1st partition. <br>\n",
    "\n",
    "We can also observe that gene with index 14 in the 1st partition is not linked to any other gene in the 2nd partition. There are also a few genes that do not link to genes in the other partition. This implies that the relationship between genes across different partitions is weaker than the relationship between genes within the same partitions."
   ]
  },
  {
   "cell_type": "markdown",
   "metadata": {},
   "source": [
    "We compute the degree centrality of the nodes in the subgraph using the same formula as above."
   ]
  },
  {
   "cell_type": "code",
   "execution_count": 370,
   "metadata": {},
   "outputs": [],
   "source": [
    "d_c = A_c @ np.ones(len(A_c))\n",
    "E_c = np.sum(d_c) / 2\n",
    "c_c = d_c / (2 * E_c)\n",
    "gene_c_index = np.argsort(c_c)[::-1][:5]\n",
    "gene_index2 = biggest_cluster_index[gene_c_index]\n",
    "gene_c2 = c_c[gene_c_index]"
   ]
  },
  {
   "cell_type": "code",
   "execution_count": 373,
   "metadata": {},
   "outputs": [
    {
     "data": {
      "text/html": [
       "<style  type=\"text/css\" >\n",
       "    #T_5a8de_ th {\n",
       "          font-size: 14pt;\n",
       "    }#T_5a8de_row0_col0,#T_5a8de_row0_col1,#T_5a8de_row0_col2,#T_5a8de_row0_col3,#T_5a8de_row0_col4,#T_5a8de_row1_col0,#T_5a8de_row1_col1,#T_5a8de_row1_col2,#T_5a8de_row1_col3,#T_5a8de_row1_col4,#T_5a8de_row2_col0,#T_5a8de_row2_col1,#T_5a8de_row2_col2,#T_5a8de_row2_col3,#T_5a8de_row2_col4{\n",
       "            font-size:  14pt;\n",
       "        }</style><table id=\"T_5a8de_\" ><thead>    <tr>        <th class=\"blank level0\" ></th>        <th class=\"col_heading level0 col0\" ></th>        <th class=\"col_heading level0 col1\" > </th>        <th class=\"col_heading level0 col2\" >  </th>        <th class=\"col_heading level0 col3\" >   </th>        <th class=\"col_heading level0 col4\" >    </th>    </tr></thead><tbody>\n",
       "                <tr>\n",
       "                        <th id=\"T_5a8de_level0_row0\" class=\"row_heading level0 row0\" >Gene Index</th>\n",
       "                        <td id=\"T_5a8de_row0_col0\" class=\"data row0 col0\" >17</td>\n",
       "                        <td id=\"T_5a8de_row0_col1\" class=\"data row0 col1\" >41</td>\n",
       "                        <td id=\"T_5a8de_row0_col2\" class=\"data row0 col2\" >16</td>\n",
       "                        <td id=\"T_5a8de_row0_col3\" class=\"data row0 col3\" >81</td>\n",
       "                        <td id=\"T_5a8de_row0_col4\" class=\"data row0 col4\" >90</td>\n",
       "            </tr>\n",
       "            <tr>\n",
       "                        <th id=\"T_5a8de_level0_row1\" class=\"row_heading level0 row1\" >Degree Centrality (Subgraph)</th>\n",
       "                        <td id=\"T_5a8de_row1_col0\" class=\"data row1 col0\" >0.052890</td>\n",
       "                        <td id=\"T_5a8de_row1_col1\" class=\"data row1 col1\" >0.051044</td>\n",
       "                        <td id=\"T_5a8de_row1_col2\" class=\"data row1 col2\" >0.049948</td>\n",
       "                        <td id=\"T_5a8de_row1_col3\" class=\"data row1 col3\" >0.049657</td>\n",
       "                        <td id=\"T_5a8de_row1_col4\" class=\"data row1 col4\" >0.048948</td>\n",
       "            </tr>\n",
       "            <tr>\n",
       "                        <th id=\"T_5a8de_level0_row2\" class=\"row_heading level0 row2\" >Degree Centrality (Full graph)</th>\n",
       "                        <td id=\"T_5a8de_row2_col0\" class=\"data row2 col0\" >0.026873</td>\n",
       "                        <td id=\"T_5a8de_row2_col1\" class=\"data row2 col1\" >0.025935</td>\n",
       "                        <td id=\"T_5a8de_row2_col2\" class=\"data row2 col2\" >0.025378</td>\n",
       "                        <td id=\"T_5a8de_row2_col3\" class=\"data row2 col3\" >0.025231</td>\n",
       "                        <td id=\"T_5a8de_row2_col4\" class=\"data row2 col4\" >0.024870</td>\n",
       "            </tr>\n",
       "    </tbody></table>"
      ],
      "text/plain": [
       "<pandas.io.formats.style.Styler at 0x7f9e0fedbca0>"
      ]
     },
     "execution_count": 373,
     "metadata": {},
     "output_type": "execute_result"
    }
   ],
   "source": [
    "# Table of degree centrality for top 5 ranking genes in subgraph\n",
    "data_c2 = {'': [gene_index2[0], gene_c2[0], gene_c[0]], ' ': [gene_index2[1], gene_c2[1], gene_c[1]], '  ':[gene_index2[2], gene_c2[2], gene_c[2]], '   ':[gene_index2[3], gene_c2[3], gene_c[3]], '    ':[gene_index2[4], gene_c2[4], gene_c[4]]}\n",
    "df_c2 = pd.DataFrame(data_c2, index=['Gene Index', 'Degree Centrality (Subgraph)', 'Degree Centrality (Full graph)'])\n",
    "df_c2.iloc[0] = df_c2.iloc[0].apply(lambda x: \"{:.0f}\".format(x))\n",
    "df_c2 = df_c2.style.set_properties(**{'font-size': '14pt'})\n",
    "df_c2 = df_c2.set_table_styles([{'selector': 'th', 'props': [('font-size', '14pt')]}])\n",
    "df_c2"
   ]
  },
  {
   "cell_type": "markdown",
   "metadata": {},
   "source": [
    "We can observe that the 5 top-ranking genes with the highest degree centralities for the subgraph are the same as the 5 top-ranking genes for the full graph. This suggests that these genes are highly connected within the largest cluster subgraph and also have a high degree of connectivity with genes outside of the cluster. Thus, we may infer that these genes play a central role in biological mechanisms related to tumour growth both within and outside of the largest cluster. <br>\n",
    "\n",
    "We notice that the degree centrality for each gene in the subgraph has approximately doubled in comparison to the degree centrality in the full graph. This suggests that the genes within the largest cluster are highly interconnected and exhibit stronger relationship with the genes within the cluster than the genes outside of the cluster. This could indicate that the biological mechanism related to tumour growth involving genes within the largest cluster might be different from the biological mechanisms related to tumour growth involving genes outside of the cluster."
   ]
  }
 ],
 "metadata": {
  "@webio": {
   "lastCommId": null,
   "lastKernelId": null
  },
  "colab": {
   "authorship_tag": "ABX9TyNRIxV7UY7tVkryHpDs3Wuh",
   "provenance": []
  },
  "kernelspec": {
   "display_name": "Python 3",
   "language": "python",
   "name": "python3"
  },
  "language_info": {
   "codemirror_mode": {
    "name": "ipython",
    "version": 3
   },
   "file_extension": ".py",
   "mimetype": "text/x-python",
   "name": "python",
   "nbconvert_exporter": "python",
   "pygments_lexer": "ipython3",
   "version": "3.8.8"
  }
 },
 "nbformat": 4,
 "nbformat_minor": 4
}
