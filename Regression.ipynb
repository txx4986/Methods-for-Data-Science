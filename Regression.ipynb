{
 "cells": [
  {
   "cell_type": "markdown",
   "metadata": {},
   "source": [
    "# Regression on airfoil dataset"
   ]
  },
  {
   "cell_type": "markdown",
   "metadata": {},
   "source": [
    "We import all the necessary packages into the notebook."
   ]
  },
  {
   "cell_type": "code",
   "execution_count": 1,
   "metadata": {},
   "outputs": [],
   "source": [
    "import numpy as np\n",
    "import pandas as pd\n",
    "import matplotlib.pyplot as plt\n",
    "from collections import defaultdict\n",
    "from itertools import product\n",
    "import seaborn as sns"
   ]
  },
  {
   "cell_type": "markdown",
   "metadata": {},
   "source": [
    "We first load the training dataset *airfoil_noise_samples.csv* and test dataset *airfoil_noise_samples.csv* into pandas data frames. "
   ]
  },
  {
   "cell_type": "code",
   "execution_count": 2,
   "metadata": {
    "id": "J-q1QFQFIfF0"
   },
   "outputs": [],
   "source": [
    "air_train = pd.read_csv('airfoil_noise_samples.csv')\n",
    "air_test = pd.read_csv('airfoil_noise_test.csv')"
   ]
  },
  {
   "cell_type": "markdown",
   "metadata": {},
   "source": [
    "We print the first few rows of the dataset and view the summary statistics of the dataset to inspect the dataset. The dataset does not have any missing values and seems cleaned."
   ]
  },
  {
   "cell_type": "code",
   "execution_count": 3,
   "metadata": {},
   "outputs": [
    {
     "data": {
      "text/html": [
       "<div>\n",
       "<style scoped>\n",
       "    .dataframe tbody tr th:only-of-type {\n",
       "        vertical-align: middle;\n",
       "    }\n",
       "\n",
       "    .dataframe tbody tr th {\n",
       "        vertical-align: top;\n",
       "    }\n",
       "\n",
       "    .dataframe thead th {\n",
       "        text-align: right;\n",
       "    }\n",
       "</style>\n",
       "<table border=\"1\" class=\"dataframe\">\n",
       "  <thead>\n",
       "    <tr style=\"text-align: right;\">\n",
       "      <th></th>\n",
       "      <th>Frequency</th>\n",
       "      <th>Angle</th>\n",
       "      <th>Displacement</th>\n",
       "      <th>Chord length</th>\n",
       "      <th>Velocity</th>\n",
       "      <th>Thickness</th>\n",
       "      <th>Sound Pressure</th>\n",
       "    </tr>\n",
       "  </thead>\n",
       "  <tbody>\n",
       "    <tr>\n",
       "      <th>0</th>\n",
       "      <td>2175.611424</td>\n",
       "      <td>15.138865</td>\n",
       "      <td>21.075119</td>\n",
       "      <td>0.088194</td>\n",
       "      <td>66.764401</td>\n",
       "      <td>0.044771</td>\n",
       "      <td>122.365215</td>\n",
       "    </tr>\n",
       "    <tr>\n",
       "      <th>1</th>\n",
       "      <td>2962.923620</td>\n",
       "      <td>13.400893</td>\n",
       "      <td>13.200889</td>\n",
       "      <td>0.048462</td>\n",
       "      <td>78.221903</td>\n",
       "      <td>0.011041</td>\n",
       "      <td>129.296236</td>\n",
       "    </tr>\n",
       "    <tr>\n",
       "      <th>2</th>\n",
       "      <td>4430.810843</td>\n",
       "      <td>2.164599</td>\n",
       "      <td>13.959536</td>\n",
       "      <td>0.226743</td>\n",
       "      <td>57.053201</td>\n",
       "      <td>0.011499</td>\n",
       "      <td>121.827380</td>\n",
       "    </tr>\n",
       "    <tr>\n",
       "      <th>3</th>\n",
       "      <td>4939.695645</td>\n",
       "      <td>13.857682</td>\n",
       "      <td>18.203793</td>\n",
       "      <td>0.021705</td>\n",
       "      <td>23.896377</td>\n",
       "      <td>0.021475</td>\n",
       "      <td>114.998132</td>\n",
       "    </tr>\n",
       "    <tr>\n",
       "      <th>4</th>\n",
       "      <td>2193.979785</td>\n",
       "      <td>9.298757</td>\n",
       "      <td>11.007713</td>\n",
       "      <td>0.052737</td>\n",
       "      <td>38.917034</td>\n",
       "      <td>0.001741</td>\n",
       "      <td>125.639641</td>\n",
       "    </tr>\n",
       "  </tbody>\n",
       "</table>\n",
       "</div>"
      ],
      "text/plain": [
       "     Frequency      Angle  Displacement  Chord length   Velocity  Thickness  \\\n",
       "0  2175.611424  15.138865     21.075119      0.088194  66.764401   0.044771   \n",
       "1  2962.923620  13.400893     13.200889      0.048462  78.221903   0.011041   \n",
       "2  4430.810843   2.164599     13.959536      0.226743  57.053201   0.011499   \n",
       "3  4939.695645  13.857682     18.203793      0.021705  23.896377   0.021475   \n",
       "4  2193.979785   9.298757     11.007713      0.052737  38.917034   0.001741   \n",
       "\n",
       "   Sound Pressure  \n",
       "0      122.365215  \n",
       "1      129.296236  \n",
       "2      121.827380  \n",
       "3      114.998132  \n",
       "4      125.639641  "
      ]
     },
     "execution_count": 3,
     "metadata": {},
     "output_type": "execute_result"
    }
   ],
   "source": [
    "air_train.head()"
   ]
  },
  {
   "cell_type": "code",
   "execution_count": 4,
   "metadata": {},
   "outputs": [
    {
     "data": {
      "text/html": [
       "<div>\n",
       "<style scoped>\n",
       "    .dataframe tbody tr th:only-of-type {\n",
       "        vertical-align: middle;\n",
       "    }\n",
       "\n",
       "    .dataframe tbody tr th {\n",
       "        vertical-align: top;\n",
       "    }\n",
       "\n",
       "    .dataframe thead th {\n",
       "        text-align: right;\n",
       "    }\n",
       "</style>\n",
       "<table border=\"1\" class=\"dataframe\">\n",
       "  <thead>\n",
       "    <tr style=\"text-align: right;\">\n",
       "      <th></th>\n",
       "      <th>Frequency</th>\n",
       "      <th>Angle</th>\n",
       "      <th>Displacement</th>\n",
       "      <th>Chord length</th>\n",
       "      <th>Velocity</th>\n",
       "      <th>Thickness</th>\n",
       "      <th>Sound Pressure</th>\n",
       "    </tr>\n",
       "  </thead>\n",
       "  <tbody>\n",
       "    <tr>\n",
       "      <th>count</th>\n",
       "      <td>3890.000000</td>\n",
       "      <td>3890.000000</td>\n",
       "      <td>3890.000000</td>\n",
       "      <td>3890.000000</td>\n",
       "      <td>3890.000000</td>\n",
       "      <td>3890.000000</td>\n",
       "      <td>3890.000000</td>\n",
       "    </tr>\n",
       "    <tr>\n",
       "      <th>mean</th>\n",
       "      <td>2941.719410</td>\n",
       "      <td>8.231085</td>\n",
       "      <td>13.552404</td>\n",
       "      <td>0.139788</td>\n",
       "      <td>51.407874</td>\n",
       "      <td>0.014286</td>\n",
       "      <td>123.970283</td>\n",
       "    </tr>\n",
       "    <tr>\n",
       "      <th>std</th>\n",
       "      <td>2782.566725</td>\n",
       "      <td>5.568032</td>\n",
       "      <td>4.693427</td>\n",
       "      <td>0.092304</td>\n",
       "      <td>16.438326</td>\n",
       "      <td>0.013974</td>\n",
       "      <td>4.775422</td>\n",
       "    </tr>\n",
       "    <tr>\n",
       "      <th>min</th>\n",
       "      <td>0.337305</td>\n",
       "      <td>0.001490</td>\n",
       "      <td>0.045842</td>\n",
       "      <td>0.000124</td>\n",
       "      <td>14.877552</td>\n",
       "      <td>0.000002</td>\n",
       "      <td>102.372432</td>\n",
       "    </tr>\n",
       "    <tr>\n",
       "      <th>25%</th>\n",
       "      <td>1044.921326</td>\n",
       "      <td>3.607908</td>\n",
       "      <td>10.655041</td>\n",
       "      <td>0.061642</td>\n",
       "      <td>36.962810</td>\n",
       "      <td>0.004142</td>\n",
       "      <td>120.890188</td>\n",
       "    </tr>\n",
       "    <tr>\n",
       "      <th>50%</th>\n",
       "      <td>2102.066627</td>\n",
       "      <td>7.486780</td>\n",
       "      <td>13.829518</td>\n",
       "      <td>0.125007</td>\n",
       "      <td>48.562733</td>\n",
       "      <td>0.008539</td>\n",
       "      <td>124.111408</td>\n",
       "    </tr>\n",
       "    <tr>\n",
       "      <th>75%</th>\n",
       "      <td>3976.531005</td>\n",
       "      <td>12.052639</td>\n",
       "      <td>16.810048</td>\n",
       "      <td>0.213330</td>\n",
       "      <td>67.863088</td>\n",
       "      <td>0.020909</td>\n",
       "      <td>127.204799</td>\n",
       "    </tr>\n",
       "    <tr>\n",
       "      <th>max</th>\n",
       "      <td>20884.888380</td>\n",
       "      <td>25.747061</td>\n",
       "      <td>26.970685</td>\n",
       "      <td>0.394016</td>\n",
       "      <td>87.053832</td>\n",
       "      <td>0.066562</td>\n",
       "      <td>140.469281</td>\n",
       "    </tr>\n",
       "  </tbody>\n",
       "</table>\n",
       "</div>"
      ],
      "text/plain": [
       "          Frequency        Angle  Displacement  Chord length     Velocity  \\\n",
       "count   3890.000000  3890.000000   3890.000000   3890.000000  3890.000000   \n",
       "mean    2941.719410     8.231085     13.552404      0.139788    51.407874   \n",
       "std     2782.566725     5.568032      4.693427      0.092304    16.438326   \n",
       "min        0.337305     0.001490      0.045842      0.000124    14.877552   \n",
       "25%     1044.921326     3.607908     10.655041      0.061642    36.962810   \n",
       "50%     2102.066627     7.486780     13.829518      0.125007    48.562733   \n",
       "75%     3976.531005    12.052639     16.810048      0.213330    67.863088   \n",
       "max    20884.888380    25.747061     26.970685      0.394016    87.053832   \n",
       "\n",
       "         Thickness  Sound Pressure  \n",
       "count  3890.000000     3890.000000  \n",
       "mean      0.014286      123.970283  \n",
       "std       0.013974        4.775422  \n",
       "min       0.000002      102.372432  \n",
       "25%       0.004142      120.890188  \n",
       "50%       0.008539      124.111408  \n",
       "75%       0.020909      127.204799  \n",
       "max       0.066562      140.469281  "
      ]
     },
     "execution_count": 4,
     "metadata": {},
     "output_type": "execute_result"
    }
   ],
   "source": [
    "air_train.describe()"
   ]
  },
  {
   "cell_type": "markdown",
   "metadata": {},
   "source": [
    "We now split the training dataset into predictor set `X_a_train` and target `y_a_train`. We will also split the test dataset into predictor set `X_a_test` and target `y_a_test`."
   ]
  },
  {
   "cell_type": "code",
   "execution_count": 5,
   "metadata": {},
   "outputs": [],
   "source": [
    "X_a_train = air_train.iloc[:,:-1]\n",
    "y_a_train = air_train.iloc[:,-1]\n",
    "X_a_test = air_test.iloc[:,:-1]\n",
    "y_a_test = air_test.iloc[:,-1]"
   ]
  },
  {
   "cell_type": "markdown",
   "metadata": {},
   "source": [
    "## Linear regression"
   ]
  },
  {
   "cell_type": "markdown",
   "metadata": {},
   "source": [
    "We will add a columns of ones to the first column of `X_a_train` to accomodate the intercept term. The augemented matrix will be assigned to `X_a_train_aug`."
   ]
  },
  {
   "cell_type": "code",
   "execution_count": 6,
   "metadata": {},
   "outputs": [],
   "source": [
    "# augmented training inputs of size N x (D+1)\n",
    "N, D = X_a_train.shape\n",
    "X_a_train_aug = np.hstack([np.ones((N,1)), X_a_train])"
   ]
  },
  {
   "cell_type": "markdown",
   "metadata": {},
   "source": [
    "We have to find $\\beta$ that minimises the loss function. To minimise, find the value $\\hat{\\beta}$ where the gradient vanishes: $$\\frac{dL}{d\\beta}\\bigg|_{\\hat{\\beta}}=0$$\n",
    "Note that here we have X as the augemented training inputs and $\\beta$ as the vector of coefficients including $\\beta_0$. <br>\n",
    "Expand the loss function:\n",
    "\n",
    "\\begin{align*} \n",
    "L(\\beta) &= \\frac{1}{2N}||y - X\\beta||^2\\\\ \n",
    "&= \\frac{1}{2N}[y - X\\beta]^{T}[y - X\\beta]\\\\\n",
    "&= \\frac{1}{2N}[y^{T}y - y^{T}X\\beta - \\beta^{T}X^{T}y + \\beta^{T}X^{T}X\\beta]\n",
    "\\end{align*}\n",
    "It follows that:\n",
    "\\begin{align*}\n",
    "\\frac{dL(\\beta)}{d\\beta} &= \\frac{1}{2N}[-X^{T}y - X^{T}y + 2X^{T}X\\beta]\\\\\n",
    "&= \\frac{1}{2N}[-2X^{T}y + 2X^{T}X\\beta]\\\\\n",
    "&= \\frac{1}{N}[-X^{T}y + X^{T}X\\beta]\n",
    "\\end{align*}\n",
    "In order to achieve $\\frac{dL(\\beta)}{d\\beta}\\big|_{\\hat{\\beta}}=0$, we arrive at:\n",
    "\\begin{align*}\n",
    "-X^{T}y + X^{T}X\\hat{\\beta} &= 0 \\\\\n",
    "X^{T}X\\hat{\\beta} &= X^{T}y \\\\\n",
    "\\hat{\\beta} &= (X^{T}X)^{-1}X^{T}y\n",
    "\\end{align*}\n",
    "We define the function `max_lik_estimate` to compute the $\\hat{\\beta}$ which minimises the loss function."
   ]
  },
  {
   "cell_type": "code",
   "execution_count": 7,
   "metadata": {},
   "outputs": [],
   "source": [
    "def max_lik_estimate(X, y):\n",
    "    \"\"\"\n",
    "    Arguments:\n",
    "        X: N x D matrix of training inputs\n",
    "        y: N x 1 vector of training targets/observations\n",
    "    \n",
    "    Returns:\n",
    "        beta_ml: D x 1 vector of parameters\n",
    "    \"\"\"\n",
    "    N, D = X.shape\n",
    "    beta_ml = np.linalg.solve(X.T @ X, X.T @ y)\n",
    "    return beta_ml"
   ]
  },
  {
   "cell_type": "code",
   "execution_count": 8,
   "metadata": {
    "scrolled": true
   },
   "outputs": [
    {
     "name": "stdout",
     "output_type": "stream",
     "text": [
      "[ 1.32599897e+02 -1.28512878e-03  1.49888731e-01 -8.37160618e-01\n",
      " -8.48764168e-01  1.04948547e-01 -9.70765098e-01]\n"
     ]
    }
   ],
   "source": [
    "beta_ml = max_lik_estimate(X_a_train_aug, y_a_train)\n",
    "print(beta_ml)"
   ]
  },
  {
   "cell_type": "markdown",
   "metadata": {},
   "source": [
    "Thus, the model parameters are:\n",
    "$$\\hat{\\beta} = \n",
    "\\begin{pmatrix}\n",
    "-1.28512878 \\times 10^{-3}\\\\\n",
    "1.49888731 \\times 10^{-1}\\\\\n",
    "-8.37160618 \\times 10^{-1}\\\\\n",
    "-8.48764168 \\times 10^{-1}\\\\\n",
    "1.04948547 \\times 10^{-1}\\\\\n",
    "-9.70765098 \\times 10^{-1}\n",
    "\\end{pmatrix}\n",
    "$$\n",
    "and $\\hat{\\beta_0}$ is a 6 x 1 vector with all elements equal to $1.32599897 \\times 10^{2}$."
   ]
  },
  {
   "cell_type": "markdown",
   "metadata": {},
   "source": [
    "We define the function `predict_with_estimate` to compute the predicted y values."
   ]
  },
  {
   "cell_type": "code",
   "execution_count": 9,
   "metadata": {},
   "outputs": [],
   "source": [
    "def predict_with_estimate(X_test, beta):\n",
    "    \"\"\"\"\n",
    "    Arguments:\n",
    "        X_test: matrix of test inputs\n",
    "        beta: vector of parameters\n",
    "    \n",
    "    Returns: \n",
    "        prediction: vector of predicted values\n",
    "    \"\"\"\n",
    "    \n",
    "    prediction = X_test @ beta\n",
    "    \n",
    "    return prediction"
   ]
  },
  {
   "cell_type": "code",
   "execution_count": 10,
   "metadata": {},
   "outputs": [],
   "source": [
    "y_pred = predict_with_estimate(X_a_train_aug, beta_ml)"
   ]
  },
  {
   "cell_type": "markdown",
   "metadata": {},
   "source": [
    "We define the function `MSE` to compute the mean squared error:\n",
    "$$\\frac{1}{N}\\sum^{N}_{i=1}{(y^{(i)}-\\hat{y}^{(i)})^{2}}$$\n",
    "where $\\hat{y}$ is the predicted values of y."
   ]
  },
  {
   "cell_type": "code",
   "execution_count": 11,
   "metadata": {},
   "outputs": [],
   "source": [
    "def MSE(y_test, y_pred):\n",
    "    \"\"\"\n",
    "    Arguments:\n",
    "        y_test: vector of training targets/observations\n",
    "        y_pred: vector of predicted values\n",
    "    \n",
    "    Returns:\n",
    "        mean squared error between y_test and y_pred\n",
    "    \"\"\"\n",
    "    return np.mean((y_test - y_pred)**2)"
   ]
  },
  {
   "cell_type": "code",
   "execution_count": 12,
   "metadata": {},
   "outputs": [
    {
     "name": "stdout",
     "output_type": "stream",
     "text": [
      "MSE on training set: 1.8755566396401981\n"
     ]
    }
   ],
   "source": [
    "MSE_train_lr = MSE(y_a_train, y_pred)\n",
    "print(r'MSE on training set:', MSE_train_lr)"
   ]
  },
  {
   "cell_type": "markdown",
   "metadata": {},
   "source": [
    "We define the function `r2_score` to compute the $R^{2}$ score:\n",
    "$$1 - \\frac{\\sum^{N}_{i=1}{(y^{(i)}-\\hat{y}^{(i)})^{2}}}{\\sum^{N}_{i=1}{(y^{(i)}-\\bar{y})^{2}}}$$\n",
    "where $\\bar{y}$ is the mean of y."
   ]
  },
  {
   "cell_type": "code",
   "execution_count": 13,
   "metadata": {},
   "outputs": [],
   "source": [
    "def r2_score(y_test, y_pred):\n",
    "    \"\"\"\n",
    "    Arguments:\n",
    "        y_test: vector of training targets/observations\n",
    "        y_pred: vector of predicted values\n",
    "    \n",
    "    Returns:\n",
    "        R^2 score between y_test and y_pred\n",
    "    \"\"\"\n",
    "    numerator = np.sum((y_test - y_pred)**2) \n",
    "    y_avg = np.mean(y_test)\n",
    "    denominator = np.sum((y_test - y_avg)**2)\n",
    "    return 1 - numerator/denominator "
   ]
  },
  {
   "cell_type": "code",
   "execution_count": 14,
   "metadata": {},
   "outputs": [
    {
     "name": "stdout",
     "output_type": "stream",
     "text": [
      "R2 score on training set: 0.9177343977263077\n"
     ]
    }
   ],
   "source": [
    "r2_train_lr = r2_score(y_a_train, y_pred)\n",
    "print(r'R2 score on training set:', r2_train_lr)"
   ]
  },
  {
   "cell_type": "markdown",
   "metadata": {},
   "source": [
    "We now apply the linear regression model on out test set to compute the out-of-sample MSE and $R^2$ score."
   ]
  },
  {
   "cell_type": "code",
   "execution_count": 15,
   "metadata": {},
   "outputs": [],
   "source": [
    "# augmented test inputs of size K x (D+1)\n",
    "K, D = X_a_test.shape\n",
    "X_a_test_aug = np.hstack([np.ones((K, 1)), X_a_test])"
   ]
  },
  {
   "cell_type": "code",
   "execution_count": 16,
   "metadata": {},
   "outputs": [],
   "source": [
    "y_pred = predict_with_estimate(X_a_test_aug, beta_ml)\n",
    "MSE_test_lr = MSE(y_a_test, y_pred)\n",
    "r2_test_lr = r2_score(y_a_test, y_pred)"
   ]
  },
  {
   "cell_type": "code",
   "execution_count": 17,
   "metadata": {},
   "outputs": [
    {
     "data": {
      "text/html": [
       "<style  type=\"text/css\" >\n",
       "    #T_6c5bd_ th {\n",
       "          font-size: 14pt;\n",
       "    }#T_6c5bd_row0_col0,#T_6c5bd_row0_col1,#T_6c5bd_row1_col0,#T_6c5bd_row1_col1{\n",
       "            font-size:  14pt;\n",
       "        }</style><table id=\"T_6c5bd_\" ><thead>    <tr>        <th class=\"blank level0\" ></th>        <th class=\"col_heading level0 col0\" >MSE</th>        <th class=\"col_heading level0 col1\" >R2 score</th>    </tr></thead><tbody>\n",
       "                <tr>\n",
       "                        <th id=\"T_6c5bd_level0_row0\" class=\"row_heading level0 row0\" >Training</th>\n",
       "                        <td id=\"T_6c5bd_row0_col0\" class=\"data row0 col0\" >1.875557</td>\n",
       "                        <td id=\"T_6c5bd_row0_col1\" class=\"data row0 col1\" >0.917734</td>\n",
       "            </tr>\n",
       "            <tr>\n",
       "                        <th id=\"T_6c5bd_level0_row1\" class=\"row_heading level0 row1\" >Test</th>\n",
       "                        <td id=\"T_6c5bd_row1_col0\" class=\"data row1 col0\" >1.984390</td>\n",
       "                        <td id=\"T_6c5bd_row1_col1\" class=\"data row1 col1\" >0.908317</td>\n",
       "            </tr>\n",
       "    </tbody></table>"
      ],
      "text/plain": [
       "<pandas.io.formats.style.Styler at 0x7f8e8d919cd0>"
      ]
     },
     "execution_count": 17,
     "metadata": {},
     "output_type": "execute_result"
    }
   ],
   "source": [
    "# Table of linear regression scores\n",
    "data_lr = {'MSE': [MSE_train_lr, MSE_test_lr], 'R2 score': [r2_train_lr, r2_test_lr]}\n",
    "df_lr = pd.DataFrame(data_lr, index=['Training', 'Test'])\n",
    "df_lr = df_lr.style.set_properties(**{'font-size': '14pt'})\n",
    "df_lr = df_lr.set_table_styles([{'selector': 'th', 'props': [('font-size', '14pt')]}])\n",
    "df_lr"
   ]
  },
  {
   "cell_type": "markdown",
   "metadata": {},
   "source": [
    "The MSE on the training dataset is lower than the MSE on the test dataset. The $R^{2}$ score on the training dataset is higher than the $R^{2}$ on the test dataset. These are as expected because the training dataset should in general fit the linear regression model better than the test dataset as the model was built using the training dataset. "
   ]
  },
  {
   "cell_type": "markdown",
   "metadata": {
    "id": "fBOetvBSIpwM"
   },
   "source": [
    "## Lasso regression"
   ]
  },
  {
   "cell_type": "markdown",
   "metadata": {},
   "source": [
    "Before we perform Lasso regression, Elastic net regression and k-Nearest Neighbour regression, the predictor sets will have to be standardised. <br>\n",
    "We will standardise the `X_a_train` set using the formula: $$\\frac{X - \\mu}{\\sigma}$$ where $\\mu$ is the mean of X and $\\sigma$ is the standard deviation of X. We define the function `standardise_train` to perform this procedure."
   ]
  },
  {
   "cell_type": "code",
   "execution_count": 18,
   "metadata": {},
   "outputs": [],
   "source": [
    "def standardise_train(X):\n",
    "    \"\"\"\n",
    "    Arguments:\n",
    "        X: training dataset\n",
    "    \n",
    "    Returns:\n",
    "        X_std: standardised training dataset\n",
    "    \"\"\"\n",
    "    mu = np.mean(X, 0)\n",
    "    sigma = np.std(X, 0)\n",
    "    X_std = (X - mu) / sigma\n",
    "    return X_std"
   ]
  },
  {
   "cell_type": "markdown",
   "metadata": {},
   "source": [
    "We have to standardise the test dataset `X_a_test` using the mean and standard deviation of the training dataset `X_a_train`. We will define the function `standardise_test` to perform this procedure."
   ]
  },
  {
   "cell_type": "code",
   "execution_count": 19,
   "metadata": {},
   "outputs": [],
   "source": [
    "def standardise_test(X_train, X_test):\n",
    "    \"\"\"\n",
    "    Arguments:\n",
    "        X_train: training dataset\n",
    "        X_test: test dataset\n",
    "    \n",
    "    Returns:\n",
    "        X_std: standardised test dataset\n",
    "    \"\"\"\n",
    "    mu = np.mean(X_train, 0)\n",
    "    sigma = np.std(X_train, 0)\n",
    "    X_std = (X_test - mu) / sigma\n",
    "    return X_std"
   ]
  },
  {
   "cell_type": "markdown",
   "metadata": {},
   "source": [
    "The standardised `X_a_train` and `X_a_test` will be assigned to `X_a_train_s` and `X_a_test_s` respectively."
   ]
  },
  {
   "cell_type": "code",
   "execution_count": 20,
   "metadata": {},
   "outputs": [],
   "source": [
    "X_a_train_s = standardise_train(X_a_train)\n",
    "X_a_test_s = standardise_test(X_a_train, X_a_test)"
   ]
  },
  {
   "cell_type": "markdown",
   "metadata": {},
   "source": [
    "We will minimise the loss function:\n",
    "$$L_{\\mathrm{LASSO}}(\\beta)=\\frac{1}{2N}||y - X\\beta -\\beta_0||^2 + \\lambda||\\beta||_{1}$$\n",
    "via gradient descent with a learning rate $l_{r}=1/N_{\\mathrm{iterations}}$.<br>\n",
    "We define the function `initialise` to initialise the parameters $\\beta$ and $\\beta_0$ with zeros."
   ]
  },
  {
   "cell_type": "code",
   "execution_count": 21,
   "metadata": {},
   "outputs": [],
   "source": [
    "def initialise(d):\n",
    "    \"\"\"    \n",
    "    Argument:\n",
    "        d: size of the beta vector (or number of parameters)\n",
    "  \n",
    "    Returns:\n",
    "        beta: initialised vector of shape (d, 1)\n",
    "        beta_0: initialised scalar (corresponds to the offset)\n",
    "    \"\"\"\n",
    "  \n",
    "    beta = np.zeros(shape=(d, 1), dtype=np.float32)\n",
    "    beta_0 = 0\n",
    "  \n",
    "    assert(beta.shape==(d, 1))\n",
    "    assert(isinstance(beta_0, float) or isinstance(beta_0, int))\n",
    "    \n",
    "    return beta, beta_0"
   ]
  },
  {
   "cell_type": "markdown",
   "metadata": {},
   "source": [
    "Expand the loss function:\n",
    "\\begin{align*} \n",
    "L(\\beta) &= \\frac{1}{2N}||y - \\beta X - \\beta_0||^2 + \\lambda||\\beta||_{1}\\\\ \n",
    "&= \\frac{1}{2N}[y - \\beta X - \\beta_0]^{T}[y - \\beta X - \\beta_0] + \\lambda||\\beta||_{1}\\\\\n",
    "&= \\frac{1}{2N}[y^{T}y - y^{T}X\\beta - y^{T}\\beta_0 - \\beta^{T}X^{T}y + \\beta^{T}X^{T}X\\beta + \\beta^{T}X^{T}\\beta_0 -\\beta_0^{T}y + \\beta_0^{T}X\\beta + \\beta_0^{T}\\beta_0] + \\lambda||\\beta||_{1}\n",
    "\\end{align*}\n",
    "The derivative with respect to $\\beta$ is:\n",
    "\\begin{align*}\n",
    "\\frac{dL(\\beta)}{d\\beta} &= \\frac{1}{2N}[-X^{T}y - X^{T}y + 2X^{T}X\\beta + X^{T}\\beta_0 + X^{T}\\beta_0] + \\lambda sgn(\\beta)\\\\\n",
    "&= \\frac{1}{2N}[-2X^{T}y + 2X^{T}X\\beta + 2X^{T}\\beta_0] + \\lambda sgn(\\beta)\\\\\n",
    "&= \\frac{1}{N}[-X^{T}y + X^{T}X\\beta + X^{T}\\beta_0] + \\lambda sgn(\\beta)\n",
    "\\end{align*}\n",
    "where sgn(x) is the sign function.<br>\n",
    "The derivative with respect to $\\beta_0$ is:\n",
    "\\begin{align*}\n",
    "\\frac{dL(\\beta)}{d\\beta_0} &= \\frac{1}{2N}[-y + X\\beta - y + X\\beta + 2\\beta_0] \\\\\n",
    "&= \\frac{1}{2N}[-2y + 2X\\beta + 2\\beta_0] \\\\\n",
    "&= \\frac{1}{N}[-y + X\\beta + \\beta_0]\n",
    "\\end{align*}\n",
    "We define the function `propogate_lasso` which implements the derivatives of the loss function with respect to $\\beta$ and $\\beta_0$."
   ]
  },
  {
   "cell_type": "code",
   "execution_count": 22,
   "metadata": {},
   "outputs": [],
   "source": [
    "def propagate_lasso(X, y, beta, beta_0, penalty):\n",
    "    \"\"\"\n",
    "    Arguments:\n",
    "        X: data of size (n, d)\n",
    "        y: true label vector of size (n, 1)\n",
    "        beta: parameters, a numpy array of size (d, 1)\n",
    "        beta_0: offset, a scalar\n",
    "        penalty: hyperparameter lambda for Lasso\n",
    "\n",
    "    Returns:\n",
    "        grads: dictionary which contains\n",
    "            dbeta: gradient of the loss with respect to beta\n",
    "            dbeta_0: gradient of the loss with respect to beta_0\n",
    "    \"\"\"\n",
    "    n = X.shape[0]\n",
    "    y = y.reshape(n, 1)\n",
    "\n",
    "    # derivatives\n",
    "    dbeta = (X.T @ (-y + X @ beta + beta_0)) / n + penalty * np.sign(beta)\n",
    "    dbeta_0 = (-y + X @ beta + beta_0).mean()\n",
    "    \n",
    "    assert(dbeta.shape==beta.shape)\n",
    "    assert(dbeta_0.dtype==float)\n",
    "  \n",
    "    # store gradients in a dictionary\n",
    "    grads = {\"dbeta\": dbeta, \"dbeta_0\": dbeta_0}\n",
    "  \n",
    "    return grads"
   ]
  },
  {
   "cell_type": "markdown",
   "metadata": {},
   "source": [
    "With the gradients, we define the function `optimise_lasso` that will implement the updating procedure for $\\beta$\n",
    "$$\n",
    "\\beta = \\beta - l_{r} \\ \\frac{\\partial \\mathcal L}{\\partial \\beta}\n",
    "$$\n",
    "and for offset $\\beta_0$\n",
    "$$\n",
    "\\beta_0 = \\beta_0 - l_{r} \\ \\frac{\\partial \\mathcal L}{\\partial \\beta_0} \\, .\n",
    "$$\n",
    "with learning rate $l_{r}=1/N_{iterations}$."
   ]
  },
  {
   "cell_type": "code",
   "execution_count": 23,
   "metadata": {},
   "outputs": [],
   "source": [
    "def optimise_lasso(X, y, beta, beta_0, penalty, tolerance, num_iterations):\n",
    "    \"\"\"\n",
    "    Arguments:\n",
    "        X: data of size (n, d)\n",
    "        y: true label vector of size (n, 1)\n",
    "        beta: parameters, a numpy array of size (d, 1)\n",
    "        beta_0: offset, a scalar\n",
    "        penalty: hyperparameter lambda for Lasso\n",
    "        tolerance: stopping criterion for optimisation\n",
    "        num_iterations: maximum number of iterations for gradient descent\n",
    "\n",
    "    Returns:\n",
    "        params: dictionary containing the parameters beta and offset beta_0\n",
    "    \"\"\"\n",
    "    # calculate gradients\n",
    "    grads = propagate_lasso(X, y, beta, beta_0, penalty)\n",
    "\n",
    "    # retrieve derivatives from grads\n",
    "    dbeta = grads[\"dbeta\"]\n",
    "    dbeta_0 = grads[\"dbeta_0\"]\n",
    "    \n",
    "    count = 1\n",
    "    while np.linalg.norm(dbeta) > tolerance:\n",
    "\n",
    "        # calculate gradients\n",
    "        grads = propagate_lasso(X, y, beta, beta_0, penalty)\n",
    "      \n",
    "        # retrieve derivatives from grads\n",
    "        dbeta = grads[\"dbeta\"]\n",
    "        dbeta_0 = grads[\"dbeta_0\"]\n",
    "      \n",
    "        # updating procedure\n",
    "        learning_rate = 1 / count\n",
    "        beta = beta - learning_rate * dbeta\n",
    "        beta_0 = beta_0 - learning_rate * dbeta_0\n",
    "        \n",
    "        count += 1\n",
    "        # break if number of iterations exceeds maximum number of iterations\n",
    "        if  count > num_iterations:\n",
    "            break\n",
    "  \n",
    "    # save parameters in dictionary\n",
    "    params = {\"beta\": beta, \"beta_0\": beta_0}\n",
    "  \n",
    "    return params"
   ]
  },
  {
   "cell_type": "markdown",
   "metadata": {},
   "source": [
    "We now define functions to implement T-fold cross-validation to tune the Lasso penalty hyperparameter $\\lambda$. <br>\n",
    "The function `cross_val_split_np` produces the folds for training/validation split."
   ]
  },
  {
   "cell_type": "code",
   "execution_count": 24,
   "metadata": {},
   "outputs": [],
   "source": [
    "def cross_val_split_np(N, num_folds):\n",
    "    \"\"\"\n",
    "    Arguments:\n",
    "        N: number of rows in the dataset\n",
    "        num_folds: number of folds for cross-validation\n",
    "    \n",
    "    Returns:\n",
    "        folds: list containing lists of indices for each fold \n",
    "    \"\"\"\n",
    "    fold_size = N // num_folds\n",
    "    index_perm = np.random.permutation(np.arange(N))\n",
    "    folds = []\n",
    "    for k in range(num_folds):\n",
    "        folds.append(index_perm[k*fold_size:(k+1)*fold_size])\n",
    "    return folds"
   ]
  },
  {
   "cell_type": "markdown",
   "metadata": {},
   "source": [
    "The function `cross_val_evaluate_lasso` implements T-fold cross validation and returns the MSE for the training dataset and validation set at each training/validation split."
   ]
  },
  {
   "cell_type": "code",
   "execution_count": 25,
   "metadata": {},
   "outputs": [],
   "source": [
    "def cross_val_evaluate_lasso(X, y, num_folds, penalty, tolerance, num_iterations):\n",
    "    \"\"\"\n",
    "    Arguments:\n",
    "        X: data of size (n, d)\n",
    "        y: true label vector of size (n, 1)\n",
    "        num_folds: number of folds for cross-validation\n",
    "        penalty: hyperparameter lambda for Lasso\n",
    "        tolerance: stopping criterion for optimisation\n",
    "        num_iterations: maximum number of iterations for gradient descent\n",
    "    \n",
    "    Returns:\n",
    "        train_scores: list of training scores for each training/validation split\n",
    "        val_scores: list of validation scores for each training/validation split\n",
    "        beta: beta coefficient obtained from last training/validation split \n",
    "    \"\"\"\n",
    "    folds = cross_val_split_np(X.shape[0], num_folds)\n",
    "\n",
    "    train_scores = []\n",
    "    val_scores = []\n",
    "  \n",
    "    for i in range(len(folds)):\n",
    "\n",
    "        val_indices = folds[i]\n",
    "        train_indices = list(set(range(X.shape[0])) - set(val_indices))\n",
    "        \n",
    "        # define the training set\n",
    "        X_train = X[train_indices, :] \n",
    "        y_train = y[train_indices].reshape(-1, 1)\n",
    "    \n",
    "        # define the validation set\n",
    "        X_val = X[val_indices, :]  \n",
    "        y_val = y[val_indices].reshape(-1,1) \n",
    "        \n",
    "        # standardise X\n",
    "        X_train_z = standardise_train(X_train)\n",
    "        X_val_z = standardise_test(X_train, X_val)\n",
    "\n",
    "        # train the model\n",
    "        beta, beta_0 = initialise(X_train.shape[1])\n",
    "        parameters = optimise_lasso(X_train_z, y_train, beta, beta_0, penalty, tolerance, num_iterations)\n",
    "        beta = parameters[\"beta\"]\n",
    "        beta_0 = parameters[\"beta_0\"]\n",
    "        \n",
    "        # predict the y values for training and validation set\n",
    "        y_pred_train = X_train_z@beta + beta_0\n",
    "        y_pred_val = X_val_z@beta + beta_0\n",
    "\n",
    "        # evaluate the scores of the training and validation set\n",
    "        train_score = MSE(y_train.reshape(-1,1), y_pred_train)\n",
    "        val_score = MSE(y_val.reshape(-1,1), y_pred_val)\n",
    "        \n",
    "        # save the training scores and validation scores\n",
    "        train_scores.append(train_score)\n",
    "        val_scores.append(val_score)\n",
    "\n",
    "    return train_scores, val_scores, beta"
   ]
  },
  {
   "cell_type": "markdown",
   "metadata": {},
   "source": [
    "The function `find_best_penalty` loops through the list of penalty values to find the penalty which gives the lowest average MSE for the validation set."
   ]
  },
  {
   "cell_type": "code",
   "execution_count": 26,
   "metadata": {},
   "outputs": [],
   "source": [
    "def find_best_penalty(X, y, num_folds, penalty_list, tolerance, num_iterations):\n",
    "    \"\"\"\n",
    "    Arguments:\n",
    "        X: data of size (n, d)\n",
    "        y: true label vector of size (n, d)\n",
    "        num_folds: number of folds for cross-validation\n",
    "        penalty_list: list of hyperparameters lambda for Lasso\n",
    "        tolerance: stopping criterion for optimisation\n",
    "        num_iterations: maximum number of iterations for gradient descent\n",
    "    \n",
    "    Returns:\n",
    "        best_penalty: penalty which gives the lowest average MSE for the validation set\n",
    "        best_mean_val: lowest average MSE for the validation set\n",
    "        mean_train_list: list containing the average MSE for training set for each penalty\n",
    "        mean_val_list: list containing the average MSE for validation set for each penalty\n",
    "        beta_list: list containing beta coefficients obtained for each penalty at the last training/validation split\n",
    "    \"\"\"\n",
    "    best_penalty = penalty_list[0]\n",
    "    best_mean_val = float('inf')\n",
    "    mean_train_list =[]\n",
    "    mean_val_list = []\n",
    "    beta_list = []\n",
    "    for penalty in penalty_list:\n",
    "        # compute MSE for each training/validation split\n",
    "        train_scores, val_scores, beta = cross_val_evaluate_lasso(X, y, num_folds, penalty, tolerance, num_iterations)\n",
    "        \n",
    "        # compute average MSE\n",
    "        mean_train = np.mean(train_scores)\n",
    "        mean_val = np.mean(val_scores)\n",
    "        # print(\"λ = {0}: mean training MSE is {1}, mean validation MSE is {2}\".format(penalty, mean_train, mean_val))\n",
    "        \n",
    "        # store the average MSE for training and validation set and beta coefficients\n",
    "        mean_train_list.append(mean_train)\n",
    "        mean_val_list.append(mean_val)\n",
    "        beta_list.append(beta)\n",
    "        \n",
    "        # update best penalty and lowest average MSE for validation set\n",
    "        if mean_val < best_mean_val:\n",
    "            best_penalty = penalty\n",
    "            best_mean_val = mean_val\n",
    "    return best_penalty, best_mean_val, mean_train_list, mean_val_list, beta_list"
   ]
  },
  {
   "cell_type": "markdown",
   "metadata": {},
   "source": [
    "We now employ a 5-fold cross validation to tune the Lasso penalty hyperparameter $\\lambda$."
   ]
  },
  {
   "cell_type": "code",
   "execution_count": 27,
   "metadata": {},
   "outputs": [],
   "source": [
    "penalty_list = np.exp(np.arange(-7, 1.25, 0.25, dtype=float))\n",
    "best_penalty, best_mean_val, mean_train_list, mean_val_list, beta_list = find_best_penalty(X_a_train.to_numpy(), y_a_train.to_numpy(), 5, penalty_list, 0.01, num_iterations=100000)"
   ]
  },
  {
   "cell_type": "markdown",
   "metadata": {},
   "source": [
    "We now plot a graph of $\\log(\\lambda)$ against average MSE on both the training set and validation set to find the optimal $\\lambda$."
   ]
  },
  {
   "cell_type": "code",
   "execution_count": 28,
   "metadata": {},
   "outputs": [
    {
     "data": {
      "image/png": "[encoded data removed]",
      "text/plain": [
       "<Figure size 864x576 with 1 Axes>"
      ]
     },
     "metadata": {
      "needs_background": "light"
     },
     "output_type": "display_data"
    }
   ],
   "source": [
    "fig, ax = plt.subplots(figsize=(12,8))\n",
    "plt.plot(np.log(penalty_list)[:-7], mean_train_list[:-7], label=\"Training Data\")\n",
    "plt.plot(np.log(penalty_list)[:-7], mean_val_list[:-7], label=\"Validation Data\", marker='o')\n",
    "plt.axvline(x=np.log(best_penalty), color='r')\n",
    "plt.xlabel(\"log(λ)\", fontsize=14)\n",
    "plt.ylabel(\"Average MSE\", fontsize=14)\n",
    "plt.title(\"Plot of log(λ) against Average MSE\", fontsize=20)\n",
    "plt.xticks(size=14)\n",
    "plt.yticks(size=14)\n",
    "ax.legend(loc=\"best\",fontsize=14)\n",
    "plt.show()"
   ]
  },
  {
   "cell_type": "markdown",
   "metadata": {},
   "source": [
    "We observe that the average MSE remains almost constant for very small values of $\\lambda$ and then increases exponentially after $\\log(\\lambda) = -3$. We also notice that the average MSE for the validation set is always slightly greater than the average MSE fo the training set. We choose the $\\lambda$ with the minimum average MSE for the validation set. Thus,"
   ]
  },
  {
   "cell_type": "code",
   "execution_count": 29,
   "metadata": {},
   "outputs": [
    {
     "name": "stdout",
     "output_type": "stream",
     "text": [
      "The optimal value of λ is 0.006737946999085467\n"
     ]
    }
   ],
   "source": [
    "print(\"The optimal value of λ is {}\".format(best_penalty))"
   ]
  },
  {
   "cell_type": "markdown",
   "metadata": {},
   "source": [
    "We now plot a graph of $\\log(\\lambda)$ against the inferred parameters $\\beta$."
   ]
  },
  {
   "cell_type": "code",
   "execution_count": 30,
   "metadata": {
    "id": "L8F44NEcIx6c"
   },
   "outputs": [
    {
     "data": {
      "image/png": "[encoded data removed]",
      "text/plain": [
       "<Figure size 864x576 with 1 Axes>"
      ]
     },
     "metadata": {
      "needs_background": "light"
     },
     "output_type": "display_data"
    }
   ],
   "source": [
    "column_names = X_a_train.columns\n",
    "fig, ax = plt.subplots(figsize=(12,8))\n",
    "for i in range(X_a_train.shape[1]):\n",
    "    plt.plot(np.log(penalty_list), [coef[i] for coef in beta_list], label=\"{}\".format(column_names[i]), marker='o')\n",
    "plt.axhline(y=0, color='r', linestyle='dashed')\n",
    "plt.axvline(x=np.log(best_penalty), ymax=best_mean_val, color='r', linestyle='dashed')\n",
    "plt.xlabel(\"log(λ)\", fontsize=14)\n",
    "plt.ylabel(\"β coefficients\", fontsize=14)\n",
    "plt.title(\"Plot of log(λ) against β coefficients\", fontsize=20)\n",
    "plt.xticks(size=14)\n",
    "plt.yticks(size=14)\n",
    "plt.legend(bbox_to_anchor=(1.02, 1), loc='upper left', borderaxespad=0, fontsize=14)\n",
    "plt.show()"
   ]
  },
  {
   "cell_type": "markdown",
   "metadata": {},
   "source": [
    "We observe that the coefficients of the $\\beta$ parameter shrinks towards zero as the value of the Lasso penalty $\\lambda$ increases in the order of the predictors Thickness, Angle, Chord length, Velocity, Displacement and followed by Frequency. As $\\lambda \\rightarrow 0$, bias $\\rightarrow 0$ as $\\beta$ obtained will converge to the one obtained from least squares. As $\\lambda \\rightarrow \\infty$, all the coefficients of $\\beta$ will be shurnk to zero, thus bias $\\rightarrow -\\beta$. The variance thus decreases to zero. In conclusion, increasing $\\lambda$ reduces the variance of the Lasso estimator but increases its bias. Thus, the optimal $\\lambda$ will be the one which minimises the MSE.<br>\n",
    "We notice that the optimal $\\lambda$ is obtained when the predictor Thickness is has been shrunk towards zero, while the coefficients of the other predictors remain approximately constant, which implies that the predictor Thickness is less significant compared to the other predictors."
   ]
  },
  {
   "cell_type": "markdown",
   "metadata": {},
   "source": [
    "We will now retrain the model on the entire training dataset using the optimal $\\lambda$ found above."
   ]
  },
  {
   "cell_type": "code",
   "execution_count": 31,
   "metadata": {},
   "outputs": [],
   "source": [
    "best_beta, best_beta_0 = initialise(X_a_train.shape[1])\n",
    "best_beta= optimise_lasso(X_a_train_s.to_numpy(), y_a_train.to_numpy(), best_beta, best_beta_0, best_penalty, 0.001, num_iterations=1000000)"
   ]
  },
  {
   "cell_type": "code",
   "execution_count": 32,
   "metadata": {},
   "outputs": [],
   "source": [
    "# training\n",
    "y_pred = X_a_train_s.to_numpy() @ best_beta[\"beta\"] + best_beta[\"beta_0\"]\n",
    "MSE_train_lasso = MSE(y_a_train.to_numpy().reshape(-1, 1), y_pred)\n",
    "r2_train_lasso = r2_score(y_a_train.to_numpy().reshape(-1, 1), y_pred)"
   ]
  },
  {
   "cell_type": "code",
   "execution_count": 33,
   "metadata": {},
   "outputs": [],
   "source": [
    "# test\n",
    "y_pred = X_a_test_s.to_numpy() @ best_beta[\"beta\"] + best_beta[\"beta_0\"]\n",
    "MSE_test_lasso = MSE(y_a_test.to_numpy().reshape(-1, 1), y_pred)\n",
    "r2_test_lasso = r2_score(y_a_test.to_numpy().reshape(-1, 1), y_pred)"
   ]
  },
  {
   "cell_type": "code",
   "execution_count": 34,
   "metadata": {},
   "outputs": [
    {
     "data": {
      "text/html": [
       "<style  type=\"text/css\" >\n",
       "    #T_2aa6d_ th {\n",
       "          font-size: 14pt;\n",
       "    }#T_2aa6d_row0_col0,#T_2aa6d_row0_col1,#T_2aa6d_row1_col0,#T_2aa6d_row1_col1{\n",
       "            font-size:  14pt;\n",
       "        }</style><table id=\"T_2aa6d_\" ><thead>    <tr>        <th class=\"blank level0\" ></th>        <th class=\"col_heading level0 col0\" >MSE</th>        <th class=\"col_heading level0 col1\" >R2 score</th>    </tr></thead><tbody>\n",
       "                <tr>\n",
       "                        <th id=\"T_2aa6d_level0_row0\" class=\"row_heading level0 row0\" >Training</th>\n",
       "                        <td id=\"T_2aa6d_row0_col0\" class=\"data row0 col0\" >1.918305</td>\n",
       "                        <td id=\"T_2aa6d_row0_col1\" class=\"data row0 col1\" >0.915859</td>\n",
       "            </tr>\n",
       "            <tr>\n",
       "                        <th id=\"T_2aa6d_level0_row1\" class=\"row_heading level0 row1\" >Test</th>\n",
       "                        <td id=\"T_2aa6d_row1_col0\" class=\"data row1 col0\" >2.072284</td>\n",
       "                        <td id=\"T_2aa6d_row1_col1\" class=\"data row1 col1\" >0.904256</td>\n",
       "            </tr>\n",
       "    </tbody></table>"
      ],
      "text/plain": [
       "<pandas.io.formats.style.Styler at 0x7f8e93d5f7f0>"
      ]
     },
     "execution_count": 34,
     "metadata": {},
     "output_type": "execute_result"
    }
   ],
   "source": [
    "# Table of Lasso regression scores\n",
    "data_lasso = {'MSE': [MSE_train_lasso, MSE_test_lasso], 'R2 score': [r2_train_lasso, r2_test_lasso]}\n",
    "df_lasso = pd.DataFrame(data_lasso, index=['Training', 'Test'])\n",
    "df_lasso = df_lasso.style.set_properties(**{'font-size': '14pt'})\n",
    "df_lasso = df_lasso.set_table_styles([{'selector': 'th', 'props': [('font-size', '14pt')]}])\n",
    "df_lasso"
   ]
  },
  {
   "cell_type": "markdown",
   "metadata": {},
   "source": [
    "The MSE on the training dataset is lower than the MSE on the test dataset. The $R^{2}$ score on the training dataset is higher than the $R^{2}$ on the test dataset. These are as expected because the training dataset should in general fit the Lasso regression model better than the test dataset as the model was built using the training dataset. <br>\n",
    "\n",
    "In the case $\\lambda=0$, lasso regression will be the same as the least squares problem in question 1.1. When comparing the coefficient of the predictor Thickness, the magnitude of the coefficient is $9.70765098 \\times 10^{-1} $when $\\lambda=0$, but is $1.03850288 \\times 10^{-10}$ (approximately 0) when $\\lambda$ equals the optimal value. This shows that Lasso has shrunk the coefficient of the predictor Thickness towards zero."
   ]
  },
  {
   "cell_type": "markdown",
   "metadata": {
    "id": "QFEa0_--IqOT"
   },
   "source": [
    "## Elastic Nets"
   ]
  },
  {
   "cell_type": "markdown",
   "metadata": {},
   "source": [
    "We will minimise the loss function:\n",
    "$$L_{\\mathrm{EN}}(\\beta)=\\frac{1}{2N}||y - X\\beta -\\beta_0||^2 + \\lambda[\\alpha ||\\beta||_{1} + (1 - \\alpha)||\\beta||^{2}]$$\n",
    "via gradient descent with a learning rate $l_{r}=1/N_{\\mathrm{iterations}}$.<br>\n",
    "Expand the loss function:\n",
    "\\begin{align*} \n",
    "L(\\beta) &= \\frac{1}{2N}||y - \\beta X - \\beta_0||^2 + \\lambda[\\alpha ||\\beta||_{1} + (1 - \\alpha)||\\beta||^{2}]\\\\ \n",
    "&= \\frac{1}{2N}[y - \\beta X - \\beta_0]^{T}[y - \\beta X - \\beta_0] + \\lambda[\\alpha ||\\beta||_{1} + (1 - \\alpha)||\\beta||^{2}]\\\\\n",
    "&= \\frac{1}{2N}[y^{T}y - y^{T}X\\beta - y^{T}\\beta_0 - \\beta^{T}X^{T}y + \\beta^{T}X^{T}X\\beta + \\beta^{T}X^{T}\\beta_0 -\\beta_0^{T}y + \\beta_0^{T}X\\beta + \\beta_0^{T}\\beta_0] + \\lambda[\\alpha ||\\beta||_{1} + (1 - \\alpha)||\\beta||^{2}]\n",
    "\\end{align*}\n",
    "The derivative with respect to $\\beta$ is:\n",
    "\\begin{align*}\n",
    "\\frac{dL(\\beta)}{d\\beta} &= \\frac{1}{2N}[-X^{T}y - X^{T}y + 2X^{T}X\\beta + X^{T}\\beta_0 + X^{T}\\beta_0] + \\lambda [\\alpha sgn(\\beta) + (1 - \\alpha) 2 \\beta]\\\\\n",
    "&= \\frac{1}{2N}[-2X^{T}y + 2X^{T}X\\beta + 2X^{T}\\beta_0] + \\lambda [\\alpha sgn(\\beta) + (1 - \\alpha) 2 \\beta]\\\\\n",
    "&= \\frac{1}{N}[-X^{T}y + X^{T}X\\beta + X^{T}\\beta_0] + \\lambda [\\alpha sgn(\\beta) + (1 - \\alpha) 2 \\beta]\n",
    "\\end{align*}\n",
    "where sgn(x) is the sign function.<br>\n",
    "The derivative with respect to $\\beta_0$ is:\n",
    "\\begin{align*}\n",
    "\\frac{dL(\\beta)}{d\\beta_0} &= \\frac{1}{2N}[-y + X\\beta - y + X\\beta + 2\\beta_0] \\\\\n",
    "&= \\frac{1}{2N}[-2y + 2X\\beta + 2\\beta_0] \\\\\n",
    "&= \\frac{1}{N}[-y + X\\beta + \\beta_0]\n",
    "\\end{align*}\n",
    "We define the function `propogate_elastic` which implements the derivatives of the loss function with respect to $\\beta$ and $\\beta_0$."
   ]
  },
  {
   "cell_type": "code",
   "execution_count": 35,
   "metadata": {
    "id": "cxTDiSqbIqai"
   },
   "outputs": [],
   "source": [
    "def propagate_elastic(X, y, beta, beta_0, penalty, alpha):\n",
    "    \"\"\"\n",
    "    Arguments:\n",
    "        X: data of size (n, d)\n",
    "        y: true label vector of size (n, 1)\n",
    "        beta: parameters, a numpy array of size (d, 1)\n",
    "        beta_0: offset, a scalar\n",
    "        penalty: regularisation strength\n",
    "        alpha: coefficient that controls the relative importance of the Ridge and Lasso terms\n",
    "\n",
    "    Returns:\n",
    "        grads: dictionary which contains\n",
    "            dbeta: gradient of the loss with respect to beta\n",
    "            dbeta_0: gradient of the loss with respect to beta_0\n",
    "    \"\"\"\n",
    "    n = X.shape[0]\n",
    "    y = y.reshape(n, 1)\n",
    "\n",
    "    # derivatives\n",
    "    dbeta = (X.T @ (-y + X @ beta)) / n + penalty * (alpha * np.sign(beta) + (1 - alpha) * 2 * beta)\n",
    "    dbeta_0 = (-y + X @ beta + beta_0).mean()\n",
    "\n",
    "    assert(dbeta.shape==beta.shape)\n",
    "    assert(dbeta_0.dtype==float)\n",
    "  \n",
    "    # store gradients in a dictionary\n",
    "    grads = {\"dbeta\": dbeta, \"dbeta_0\": dbeta_0}\n",
    "  \n",
    "    return grads"
   ]
  },
  {
   "cell_type": "markdown",
   "metadata": {},
   "source": [
    "With the gradients, we define the function `optimise_elastic` that will implement the updating procedure for $\\beta$\n",
    "$$\n",
    "\\beta = \\beta - l_{r} \\ \\frac{\\partial \\mathcal L}{\\partial \\beta}\n",
    "$$\n",
    "and for offset $\\beta_0$\n",
    "$$\n",
    "\\beta_0 = \\beta_0 - l_{r} \\ \\frac{\\partial \\mathcal L}{\\partial \\beta_0} \\, .\n",
    "$$\n",
    "with learning rate $l_{r}=1/N_{iterations}$."
   ]
  },
  {
   "cell_type": "code",
   "execution_count": 36,
   "metadata": {},
   "outputs": [],
   "source": [
    "def optimise_elastic(X, y, beta, beta_0, penalty, alpha, tolerance, num_iterations):\n",
    "    \"\"\"\n",
    "    Arguments:\n",
    "        X: data of size (n, d)\n",
    "        y: true label vector of size (n, 1)\n",
    "        beta: parameters, a numpy array of size (d, 1)\n",
    "        beta_0: offset, a scalar\n",
    "        penalty: regularisation strength\n",
    "        alpha: coefficient that controls the relative importance of the Ridge and Lasso terms\n",
    "        tolerance: stopping criterion for optimisation\n",
    "        num_iterations: maximum number of iterations for gradient descent\n",
    "\n",
    "    Returns:\n",
    "        params: dictionary containing the parameters beta and offset beta_0\n",
    "    \"\"\"\n",
    "    # calculate cost and gradients\n",
    "    grads = propagate_elastic(X, y, beta, beta_0, penalty, alpha)\n",
    "\n",
    "    # retrieve derivatives from grads\n",
    "    dbeta = grads[\"dbeta\"]\n",
    "    dbeta_0 = grads[\"dbeta_0\"]\n",
    "    \n",
    "    count = 1\n",
    "    while np.linalg.norm(dbeta) > tolerance:\n",
    "\n",
    "        # calculate gradients\n",
    "        grads = propagate_elastic(X, y, beta, beta_0, penalty, alpha)\n",
    "      \n",
    "        # retrieve derivatives from grads\n",
    "        dbeta = grads[\"dbeta\"]\n",
    "        dbeta_0 = grads[\"dbeta_0\"]\n",
    "      \n",
    "        # updating procedure\n",
    "        learning_rate = 1 / count\n",
    "        beta = beta - learning_rate * dbeta\n",
    "        beta_0 = beta_0 - learning_rate * dbeta_0\n",
    "        \n",
    "        count += 1\n",
    "        # break if number of iterations exceeds maximum number of iterations\n",
    "        if  count > num_iterations:\n",
    "            break\n",
    "  \n",
    "    # save parameters and gradients in dictionary\n",
    "    params = {\"beta\": beta, \"beta_0\": beta_0}\n",
    "  \n",
    "    return params"
   ]
  },
  {
   "cell_type": "markdown",
   "metadata": {},
   "source": [
    "We now define functions to implement grid search and T-fold cross-validation to tune the regularisation strength $\\lambda$ for 3 different values of $\\alpha$: 0.1, 0.5 and 0.9. <br>\n",
    "The function `cross_val_evaluate_elastic` implements T-fold cross validation and returns the MSE for the training dataset and validation set at each training/validation split."
   ]
  },
  {
   "cell_type": "code",
   "execution_count": 37,
   "metadata": {
    "id": "1GzDm3BJI4HX"
   },
   "outputs": [],
   "source": [
    "def cross_val_evaluate_elastic(X, y, num_folds, penalty, alpha, tolerance, num_iterations):\n",
    "    \"\"\"\n",
    "    Arguments:\n",
    "        X: data of size (n, d)\n",
    "        y: true label vector of size (n, 1)\n",
    "        num_folds: number of folds for cross-validation\n",
    "        penalty: regularisation strength\n",
    "        alpha: coefficient that controls the relative importance of the Ridge and Lasso terms\n",
    "        tolerance: stopping criterion for optimisation\n",
    "        num_iterations: maximum number of iterations for gradient descent\n",
    "    \n",
    "    Returns:\n",
    "        train_scores: list of training scores for each training/validation split\n",
    "        val_scores: list of validation scores for each training/validation split\n",
    "        beta: beta coefficient obtained from last training/validation split \n",
    "    \"\"\"\n",
    "    folds = cross_val_split_np(X.shape[0], num_folds)\n",
    "\n",
    "    train_scores = []\n",
    "    val_scores = []\n",
    "  \n",
    "    for i in range(len(folds)):\n",
    "\n",
    "        val_indices = folds[i]\n",
    "        train_indices = list(set(range(X.shape[0])) - set(val_indices))\n",
    "        \n",
    "        # define the training set\n",
    "        X_train = X[train_indices, :] \n",
    "        y_train = y[train_indices]\n",
    "    \n",
    "        # define the validation set\n",
    "        X_val = X[val_indices, :]  \n",
    "        y_val = y[val_indices] \n",
    "\n",
    "        # standardise X\n",
    "        X_train_z = standardise_train(X_train)\n",
    "        X_val_z = standardise_test(X_train, X_val)\n",
    "\n",
    "        # train the model\n",
    "        beta, beta_0 = initialise(X_train.shape[1])\n",
    "        parameters = optimise_elastic(X_train_z, y_train, beta, beta_0, penalty, alpha, tolerance, num_iterations)\n",
    "        beta = parameters[\"beta\"]\n",
    "        beta_0 = parameters[\"beta_0\"]\n",
    "        \n",
    "        # predict the y values for training and validation set\n",
    "        y_pred_train = X_train_z@beta + beta_0\n",
    "        y_pred_val = X_val_z@beta + beta_0\n",
    "\n",
    "        # evaluate the scores of the training and validation set\n",
    "        train_score = MSE(y_pred_train, np.reshape(y_train, (-1,1)))\n",
    "        val_score = MSE(y_pred_val, np.reshape(y_val, (-1,1)))\n",
    "        \n",
    "        # store the training scores and validation scores\n",
    "        train_scores.append(train_score)\n",
    "        val_scores.append(val_score)\n",
    "\n",
    "    return train_scores, val_scores, beta"
   ]
  },
  {
   "cell_type": "markdown",
   "metadata": {},
   "source": [
    "The function `grid_search_elastic` loops through the list of penalty values to find the penalty which gives the lowest average MSE for the validation set for each 3 different values of $\\alpha$: 0.1, 0.5 and 0.9."
   ]
  },
  {
   "cell_type": "code",
   "execution_count": 38,
   "metadata": {},
   "outputs": [],
   "source": [
    "def grid_search_elastic(X, y, num_folds, hyperparameters, tolerance, num_iterations):\n",
    "    \"\"\"\n",
    "    Arguments:\n",
    "        X: data of size (n, d)\n",
    "        y: true label vector of size (n, d)\n",
    "        num_folds: number of folds for cross-validation\n",
    "        penalty_list: list of hyperparameters lambda for Lasso\n",
    "        tolerance: stopping criterion for optimisation\n",
    "        num_iterations: maximum number of iterations for gradient descent\n",
    "    \n",
    "    Returns:\n",
    "        best_penalty: penalty which gives the lowest average MSE for the validation set\n",
    "        best_mean_val: lowest average MSE for the validation set\n",
    "        mean_train_list: list containing the average MSE for training set for each penalty\n",
    "        mean_val_list: list containing the average MSE for validation set for each penalty\n",
    "        beta_list: list containing beta coefficients obtained for each penalty at the last training/validation split \n",
    "    \"\"\"\n",
    "    penalty_list = hyperparameters[\"penalty\"]\n",
    "    alpha_list = hyperparameters[\"alpha\"]\n",
    "    best_penalty_list = []\n",
    "    best_mean_val_list = []\n",
    "    mean_vals = []\n",
    "    mean_trains = []\n",
    "    for alpha in alpha_list:\n",
    "        best_penalty = penalty_list[0]\n",
    "        best_mean_val = float('inf')\n",
    "        mean_val_list = []\n",
    "        mean_train_list = []\n",
    "        for penalty in penalty_list:\n",
    "            # compute MSE for each training/validation split\n",
    "            train_scores, val_scores, beta = cross_val_evaluate_elastic(X, y, num_folds, penalty, alpha, tolerance, num_iterations)\n",
    "            \n",
    "            # compute average MSE\n",
    "            mean_train = np.mean(train_scores)\n",
    "            mean_val = np.mean(val_scores)\n",
    "            # print(\"α = {0}, λ = {1}: mean training MSE is {2}, mean validation MSE is {3}\".format(alpha, penalty, mean_train, mean_val))\n",
    "            \n",
    "            # store the average MSE for training and validation set\n",
    "            mean_train_list.append(mean_train)\n",
    "            mean_val_list.append(mean_val)\n",
    "            \n",
    "            # update best penalty and lowest average MSE for validation set\n",
    "            if mean_val < best_mean_val:\n",
    "                best_penalty = penalty\n",
    "                best_mean_val = mean_val\n",
    "        best_penalty_list.append(best_penalty)\n",
    "        best_mean_val_list.append(best_mean_val)\n",
    "        mean_vals.append(mean_val_list)\n",
    "        mean_trains.append(mean_train_list)\n",
    "    return best_penalty_list, best_mean_val_list, mean_vals, mean_trains"
   ]
  },
  {
   "cell_type": "markdown",
   "metadata": {},
   "source": [
    "We now employ a grid search and 5-fold cross validation to tune the regularisation strength $\\lambda$ with respect to the 3 different values of $\\alpha$: 0.1, 0.5 and 0.9."
   ]
  },
  {
   "cell_type": "code",
   "execution_count": 39,
   "metadata": {},
   "outputs": [],
   "source": [
    "penalty_list = np.exp(np.arange(-9, -2, 0.25, dtype=float))\n",
    "hyperparameters = {\"penalty\": penalty_list, \"alpha\":[0.1, 0.5, 0.9]}\n",
    "best_penalty_list, best_mean_val_list, mean_vals, mean_trains = grid_search_elastic(X_a_train.to_numpy(), y_a_train.to_numpy(), 5, hyperparameters, 0.01, 100000)"
   ]
  },
  {
   "cell_type": "code",
   "execution_count": 40,
   "metadata": {},
   "outputs": [
    {
     "data": {
      "image/png": "[encoded data removed]",
      "text/plain": [
       "<Figure size 1080x1080 with 3 Axes>"
      ]
     },
     "metadata": {
      "needs_background": "light"
     },
     "output_type": "display_data"
    }
   ],
   "source": [
    "fig, (ax1, ax2, ax3) = plt.subplots(3, figsize=(15, 15))\n",
    "fig.suptitle('Plot of log(λ) against Average MSE', fontsize=20)\n",
    "# α = 0.1\n",
    "ax1.plot(np.log(penalty_list), mean_trains[0], label=\"Training Data\")\n",
    "ax1.plot(np.log(penalty_list), mean_vals[0], label=\"Validation Data\", marker='o')\n",
    "ax1.axvline(x=np.log(best_penalty_list[0]), color='r')\n",
    "ax1.legend(loc=\"best\", fontsize=14)\n",
    "ax1.set_title(\"α = 0.1\", fontsize=14)\n",
    "\n",
    "# α = 0.5\n",
    "ax2.plot(np.log(penalty_list), mean_trains[1], label=\"Training Data\")\n",
    "ax2.plot(np.log(penalty_list), mean_vals[1], label=\"Validation Data\", marker='o')\n",
    "ax2.axvline(x=np.log(best_penalty_list[1]), color='r')\n",
    "ax2.set_title(\"α = 0.5\", fontsize=14)\n",
    "\n",
    "# α = 0.9\n",
    "ax3.plot(np.log(penalty_list), mean_trains[2], label=\"Training Data\")\n",
    "ax3.plot(np.log(penalty_list), mean_vals[2], label=\"Validation Data\", marker='o')\n",
    "ax3.axvline(x=np.log(best_penalty_list[2]), color='r')\n",
    "ax3.set_title(\"α = 0.9\", fontsize=14)\n",
    "\n",
    "plt.xlabel(\"log(λ)\", fontsize=14)\n",
    "plt.ylabel(\"Average MSE\", fontsize=14)\n",
    "plt.xticks(size=14)\n",
    "plt.yticks(size=14)\n",
    "plt.show()"
   ]
  },
  {
   "cell_type": "code",
   "execution_count": 41,
   "metadata": {},
   "outputs": [
    {
     "name": "stdout",
     "output_type": "stream",
     "text": [
      "For α = 0.1, the optimal λ is 0.00026125855730166754\n",
      "For α = 0.5, the optimal λ is 0.00026125855730166754\n",
      "For α = 0.9, the optimal λ is 0.0005530843701478336\n"
     ]
    }
   ],
   "source": [
    "print(\"For α = 0.1, the optimal λ is {}\".format(best_penalty_list[0]))\n",
    "print(\"For α = 0.5, the optimal λ is {}\".format(best_penalty_list[1]))\n",
    "print(\"For α = 0.9, the optimal λ is {}\".format(best_penalty_list[2]))"
   ]
  },
  {
   "cell_type": "markdown",
   "metadata": {},
   "source": [
    "We will now retrain the model on the entire training dataset using the optimal $\\lambda$ found above for the 3 different values of $\\alpha$: 0.1, 0.5 and 0.9."
   ]
  },
  {
   "cell_type": "code",
   "execution_count": 42,
   "metadata": {
    "id": "Vt1AYcPHI4Mw"
   },
   "outputs": [],
   "source": [
    "beta, beta_0 = initialise(X_a_train.shape[1])\n",
    "beta01 = optimise_elastic(X_a_train_s.to_numpy(), y_a_train.to_numpy(), beta, beta_0, best_penalty_list[0], 0.1, 0.001, num_iterations=100000)\n",
    "beta05 = optimise_elastic(X_a_train_s.to_numpy(), y_a_train.to_numpy(), beta, beta_0, best_penalty_list[1], 0.5, 0.001, num_iterations=100000)\n",
    "beta09 = optimise_elastic(X_a_train_s.to_numpy(), y_a_train.to_numpy(), beta, beta_0, best_penalty_list[2], 0.9, 0.001, num_iterations=100000)"
   ]
  },
  {
   "cell_type": "code",
   "execution_count": 43,
   "metadata": {},
   "outputs": [],
   "source": [
    "# alpha = 0.1\n",
    "# training\n",
    "y_pred = X_a_train_s.to_numpy() @ beta01[\"beta\"] + beta01[\"beta_0\"]\n",
    "MSE_train_en_01 = MSE(y_a_train.to_numpy().reshape(-1,1), y_pred)\n",
    "r2_train_en_01 = r2_score(y_a_train.to_numpy().reshape(-1,1), y_pred) \n",
    "\n",
    "# test \n",
    "y_pred = X_a_test_s.to_numpy() @ beta01[\"beta\"] + beta01[\"beta_0\"]\n",
    "MSE_test_en_01 = MSE(y_a_test.to_numpy().reshape(-1,1), y_pred)\n",
    "r2_test_en_01 = r2_score(y_a_test.to_numpy().reshape(-1,1), y_pred)"
   ]
  },
  {
   "cell_type": "code",
   "execution_count": 44,
   "metadata": {},
   "outputs": [],
   "source": [
    "# alpha = 0.5\n",
    "# training\n",
    "y_pred = X_a_train_s.to_numpy() @ beta05[\"beta\"] + beta05[\"beta_0\"]\n",
    "MSE_train_en_05 = MSE(y_a_train.to_numpy().reshape(-1,1), y_pred)\n",
    "r2_train_en_05 = r2_score(y_a_train.to_numpy().reshape(-1,1), y_pred) \n",
    "\n",
    "# test \n",
    "y_pred = X_a_test_s.to_numpy() @ beta05[\"beta\"] + beta05[\"beta_0\"]\n",
    "MSE_test_en_05 = MSE(y_a_test.to_numpy().reshape(-1,1), y_pred)\n",
    "r2_test_en_05 = r2_score(y_a_test.to_numpy().reshape(-1,1), y_pred)"
   ]
  },
  {
   "cell_type": "code",
   "execution_count": 45,
   "metadata": {},
   "outputs": [],
   "source": [
    "# alpha = 0.9\n",
    "# training\n",
    "y_pred = X_a_train_s.to_numpy() @ beta09[\"beta\"] + beta09[\"beta_0\"]\n",
    "MSE_train_en_09 = MSE(y_a_train.to_numpy().reshape(-1,1), y_pred)\n",
    "r2_train_en_09 = r2_score(y_a_train.to_numpy().reshape(-1,1), y_pred) \n",
    "\n",
    "# test \n",
    "y_pred = X_a_test_s.to_numpy() @ beta09[\"beta\"] + beta09[\"beta_0\"]\n",
    "MSE_test_en_09 = MSE(y_a_test.to_numpy().reshape(-1,1), y_pred)\n",
    "r2_test_en_09 = r2_score(y_a_test.to_numpy().reshape(-1,1), y_pred)"
   ]
  },
  {
   "cell_type": "code",
   "execution_count": 46,
   "metadata": {},
   "outputs": [
    {
     "data": {
      "text/html": [
       "<style  type=\"text/css\" >\n",
       "    #T_0758c_ th {\n",
       "          font-size: 14pt;\n",
       "    }#T_0758c_row0_col0,#T_0758c_row0_col1,#T_0758c_row1_col0,#T_0758c_row1_col1,#T_0758c_row2_col0,#T_0758c_row2_col1{\n",
       "            font-size:  14pt;\n",
       "        }</style><table id=\"T_0758c_\" ><thead>    <tr>        <th class=\"blank level0\" ></th>        <th class=\"col_heading level0 col0\" >MSE</th>        <th class=\"col_heading level0 col1\" >R2 score</th>    </tr></thead><tbody>\n",
       "                <tr>\n",
       "                        <th id=\"T_0758c_level0_row0\" class=\"row_heading level0 row0\" >α = 0.1</th>\n",
       "                        <td id=\"T_0758c_row0_col0\" class=\"data row0 col0\" >2.108106</td>\n",
       "                        <td id=\"T_0758c_row0_col1\" class=\"data row0 col1\" >0.902601</td>\n",
       "            </tr>\n",
       "            <tr>\n",
       "                        <th id=\"T_0758c_level0_row1\" class=\"row_heading level0 row1\" >α = 0.5</th>\n",
       "                        <td id=\"T_0758c_row1_col0\" class=\"data row1 col0\" >2.107639</td>\n",
       "                        <td id=\"T_0758c_row1_col1\" class=\"data row1 col1\" >0.902623</td>\n",
       "            </tr>\n",
       "            <tr>\n",
       "                        <th id=\"T_0758c_level0_row2\" class=\"row_heading level0 row2\" >α = 0.9</th>\n",
       "                        <td id=\"T_0758c_row2_col0\" class=\"data row2 col0\" >2.107181</td>\n",
       "                        <td id=\"T_0758c_row2_col1\" class=\"data row2 col1\" >0.902644</td>\n",
       "            </tr>\n",
       "    </tbody></table>"
      ],
      "text/plain": [
       "<pandas.io.formats.style.Styler at 0x7f8e93d5fbb0>"
      ]
     },
     "execution_count": 46,
     "metadata": {},
     "output_type": "execute_result"
    }
   ],
   "source": [
    "# Table of Elastic net regression scores\n",
    "data_en = {'MSE': [MSE_test_en_01, MSE_test_en_05, MSE_test_en_09], 'R2 score': [r2_test_en_01, r2_test_en_05, r2_test_en_09]}\n",
    "df_en = pd.DataFrame(data_en, index=['α = 0.1', 'α = 0.5', 'α = 0.9'])\n",
    "df_en = df_en.style.set_properties(**{'font-size': '14pt'})\n",
    "df_en = df_en.set_table_styles([{'selector': 'th', 'props': [('font-size', '14pt')]}])\n",
    "df_en"
   ]
  },
  {
   "cell_type": "markdown",
   "metadata": {},
   "source": [
    "From the table above, $\\alpha = 0.9$ has the lowest out-of-sample MSE and highest $R^{2}$ score. Thus, it is the optimal $\\alpha$ which provides the best model."
   ]
  },
  {
   "cell_type": "markdown",
   "metadata": {},
   "source": [
    "We now visualise the inferred parameters with the optimal $\\lambda$ for each value of $\\alpha$."
   ]
  },
  {
   "cell_type": "code",
   "execution_count": 47,
   "metadata": {},
   "outputs": [
    {
     "data": {
      "image/png": "[encoded data removed]",
      "text/plain": [
       "<Figure size 864x576 with 1 Axes>"
      ]
     },
     "metadata": {
      "needs_background": "light"
     },
     "output_type": "display_data"
    }
   ],
   "source": [
    "fig, ax = plt.subplots(figsize=(12,8))\n",
    "beta_list = [beta01[\"beta\"], beta05[\"beta\"], beta09[\"beta\"]]\n",
    "for i in range(X_a_train.shape[1]):\n",
    "    plt.plot([0.1, 0.5, 0.9], [coef[i] for coef in beta_list], label=\"{}\".format(column_names[i]), marker='o')\n",
    "plt.axhline(y=0, color='r', linestyle='dashed')\n",
    "plt.xlabel(\"α\", fontsize=14)\n",
    "plt.ylabel(\"β coefficients\", fontsize=14)\n",
    "plt.title(\"Plot of α against β coefficients\", fontsize=20)\n",
    "plt.xticks(size=14)\n",
    "plt.yticks(size=14)\n",
    "plt.legend(bbox_to_anchor=(1.02, 1), loc='upper left', borderaxespad=0, fontsize=14)\n",
    "plt.show()"
   ]
  },
  {
   "cell_type": "code",
   "execution_count": 203,
   "metadata": {},
   "outputs": [
    {
     "data": {
      "image/png": "[encoded data removed]",
      "text/plain": [
       "<Figure size 1440x720 with 6 Axes>"
      ]
     },
     "metadata": {
      "needs_background": "light"
     },
     "output_type": "display_data"
    }
   ],
   "source": [
    "fig = plt.figure(figsize=(20, 10))\n",
    "\n",
    "plt.subplot(2, 3, 1)\n",
    "plt.plot([0.1, 0.5, 0.9], [coef[0] for coef in beta_list], marker='o')\n",
    "plt.title(\"{}\".format(column_names[0]))\n",
    "plt.xlabel(\"α\")\n",
    "plt.ylabel(\"Magnitude\")\n",
    "\n",
    "plt.subplot(2, 3, 2)\n",
    "plt.plot([0.1, 0.5, 0.9], [coef[1] for coef in beta_list], marker='o')\n",
    "plt.title(\"{}\".format(column_names[1]))\n",
    "plt.xlabel(\"α\")\n",
    "plt.ylabel(\"Magnitude\")\n",
    "\n",
    "\n",
    "plt.subplot(2, 3, 3)\n",
    "plt.plot([0.1, 0.5, 0.9], [coef[2] for coef in beta_list], marker='o')\n",
    "plt.title(\"{}\".format(column_names[2]))\n",
    "plt.xlabel(\"α\")\n",
    "plt.ylabel(\"Magnitude\")\n",
    "\n",
    "\n",
    "plt.subplot(2, 3, 4)\n",
    "plt.plot([0.1, 0.5, 0.9], [coef[3] for coef in beta_list], marker='o')\n",
    "plt.title(\"{}\".format(column_names[3]))\n",
    "plt.xlabel(\"α\")\n",
    "plt.ylabel(\"Magnitude\")\n",
    "\n",
    "\n",
    "plt.subplot(2, 3, 5)\n",
    "plt.plot([0.1, 0.5, 0.9], [coef[4] for coef in beta_list], marker='o')\n",
    "plt.title(\"{}\".format(column_names[4]))\n",
    "plt.xlabel(\"α\")\n",
    "plt.ylabel(\"Magnitude\")\n",
    "\n",
    "\n",
    "plt.subplot(2, 3, 6)\n",
    "plt.plot([0.1, 0.5, 0.9], [coef[5] for coef in beta_list], marker='o')\n",
    "plt.title(\"{}\".format(column_names[5]))\n",
    "plt.xlabel(\"α\")\n",
    "plt.ylabel(\"Magnitude\")\n",
    "\n",
    "\n",
    "plt.show()"
   ]
  },
  {
   "cell_type": "markdown",
   "metadata": {},
   "source": [
    "When $\\alpha = 0$, the lost function of elastic net linear regression reduces to the lost function of Ridge linear regression. It shrinks together the coefficients of correlated predictors towards zero. <br>\n",
    "When $\\alpha = 0.5$, the lost function places equal weight on the Lasso penalty and Ridge penalty. Thus, it is a compromise between Lasso and Ridge linear regression. The second term of the penalty encourages highly correlated features to be averaged, while the first term encourages a sparse solution in the coefficients of these averaged features. By applying a balanced combination of L1 and L2 regularisation, a model that is both sparse and well-fit can be created. <br>\n",
    "When $\\alpha = 1$, the lost function of elastic net linear regression reduces to the lost function of Lasso linear regression. It shrinks the coefficients of the predictors that are insignificant or highly correlated to other predictors to zero. Thus, it can perform continuous subset selection."
   ]
  },
  {
   "cell_type": "markdown",
   "metadata": {
    "id": "4G0sCqwuIqsh"
   },
   "source": [
    "## kNN regression"
   ]
  },
  {
   "cell_type": "markdown",
   "metadata": {},
   "source": [
    "We define the function `euclidean_distance` which will be compute the distance between points using the formula:\n",
    "$$\n",
    "d(\\boldsymbol p, \\boldsymbol q) = \\sqrt{\\sum_{i=1}^D{(q_i-p_i)^2}} \\, ,\n",
    "$$\n",
    "where $\\boldsymbol p$ and $\\boldsymbol q$ are the two points in our $D$-dimensional Euclidean space."
   ]
  },
  {
   "cell_type": "code",
   "execution_count": 204,
   "metadata": {},
   "outputs": [],
   "source": [
    "def euclidean_distance(p, q):\n",
    "    return np.sqrt(np.sum((p-q)**2, axis=1))"
   ]
  },
  {
   "cell_type": "markdown",
   "metadata": {},
   "source": [
    "We define the function `k_neighbours` which computes all distances between inputs from the test set and the samples in the training dataset, then finds the k nearest neighbours for each input from the test set."
   ]
  },
  {
   "cell_type": "code",
   "execution_count": 205,
   "metadata": {},
   "outputs": [],
   "source": [
    "def k_neighbours(X_train, X_test, k, return_distance=False):\n",
    "    n_neighbours = k\n",
    "    dist = []\n",
    "    neigh_ind = []\n",
    "\n",
    "    # compute distance from each point x_test in X_test to all points in X_train\n",
    "    point_dist = [euclidean_distance(x_test, X_train) for x_test in X_test]\n",
    "\n",
    "    # determine which k training points are closest to each test point\n",
    "    for row in point_dist:\n",
    "        enum_neigh = enumerate(row)\n",
    "        sorted_neigh = sorted(enum_neigh, key=lambda x: x[1])[:k]\n",
    "\n",
    "        ind_list = [tup[0] for tup in sorted_neigh]\n",
    "        dist_list = [tup[1] for tup in sorted_neigh]\n",
    "\n",
    "        dist.append(dist_list)\n",
    "        neigh_ind.append(ind_list)\n",
    "\n",
    "    # return distances together with indices of k nearest neighbours\n",
    "    if return_distance:\n",
    "        return np.array(dist), np.array(neigh_ind)\n",
    "\n",
    "    return np.array(neigh_ind)"
   ]
  },
  {
   "cell_type": "markdown",
   "metadata": {},
   "source": [
    "We define the function `reg_predict` which predicts the outputs of the test set by averaging over the values of the outputs of the training set in the neighbourhood."
   ]
  },
  {
   "cell_type": "code",
   "execution_count": 206,
   "metadata": {},
   "outputs": [],
   "source": [
    "def reg_predict(X_train, y_train, X_test, k):\n",
    "    # each of the k neighbours contributes equally to the classification of any data point in X_test  \n",
    "    neighbours = k_neighbours(X_train, X_test, k)\n",
    "    # compute mean over neighbours labels\n",
    "    y_pred = np.array([np.mean(y_train[neighbour]) for neighbour in neighbours])\n",
    "\n",
    "    return y_pred"
   ]
  },
  {
   "cell_type": "markdown",
   "metadata": {},
   "source": [
    "The function `cross_val_evaluate_kNN` implements T-fold cross validation and returns the MSE for the training dataset and validation set at each training/validation split."
   ]
  },
  {
   "cell_type": "code",
   "execution_count": 207,
   "metadata": {},
   "outputs": [],
   "source": [
    "def cross_val_evaluate_kNN(X, y, num_folds, k):\n",
    "    folds = cross_val_split_np(X.shape[0], num_folds)\n",
    "\n",
    "    train_scores = []\n",
    "    val_scores = []\n",
    "  \n",
    "    for i in range(len(folds)):\n",
    "\n",
    "        val_indices = folds[i]\n",
    "        train_indices = list(set(range(X.shape[0])) - set(val_indices))\n",
    "        \n",
    "        # define the training set\n",
    "        X_train = X[train_indices, :] \n",
    "        y_train = y[train_indices]\n",
    "    \n",
    "        # define the validation set\n",
    "        X_val = X[val_indices, :]  \n",
    "        y_val = y[val_indices]\n",
    "        \n",
    "        # standardise X\n",
    "        X_train_z = standardise_train(X_train)\n",
    "        X_val_z = standardise_test(X_train, X_val)\n",
    "\n",
    "        # train the model and predict the y values for training and validation set\n",
    "        y_pred_train = reg_predict(X_train_z, y_train, X_train_z, k)\n",
    "        y_pred_val = reg_predict(X_train_z, y_train, X_val_z, k)\n",
    "\n",
    "        # evaluate the scores of the training and validation set\n",
    "        train_score = MSE(y_pred_train, y_train)\n",
    "        val_score = MSE(y_pred_val, y_val)\n",
    "        \n",
    "        # store the training scores and validation scores\n",
    "        train_scores.append(train_score)\n",
    "        val_scores.append(val_score)\n",
    "\n",
    "    return train_scores, val_scores"
   ]
  },
  {
   "cell_type": "markdown",
   "metadata": {},
   "source": [
    "The function `choose_best_k` loops through the list of k values to find the penalty which gives the lowest average MSE for the validation set."
   ]
  },
  {
   "cell_type": "code",
   "execution_count": 208,
   "metadata": {
    "id": "d-LzYu06JMC6"
   },
   "outputs": [],
   "source": [
    "def choose_best_k(X, y, num_folds, k_list):\n",
    "    best_k = k_list[0]\n",
    "    best_mean_val = float('inf')\n",
    "    mean_train_list =[]\n",
    "    mean_val_list = []\n",
    "    for k in k_list:\n",
    "        # compute MSE for each training/validation split\n",
    "        train_scores, val_scores = cross_val_evaluate_kNN(X, y, num_folds, k)\n",
    "        \n",
    "        # compute average MSE\n",
    "        mean_train = np.mean(train_scores)\n",
    "        mean_val = np.mean(val_scores)\n",
    "        # print(\"k = {}: mean training MSE is {}, mean validation MSE is {}\".format(k, mean_train, mean_val))\n",
    "        \n",
    "        # store the average MSE for training and validation set\n",
    "        mean_train_list.append(mean_train)\n",
    "        mean_val_list.append(mean_val)\n",
    "        \n",
    "        # update best k and lowest average MSE for validation set\n",
    "        if mean_val < best_mean_val:\n",
    "            best_k = k\n",
    "            best_mean_val = mean_val\n",
    "    return best_k, best_mean_val, mean_train_list, mean_val_list"
   ]
  },
  {
   "cell_type": "markdown",
   "metadata": {},
   "source": [
    "We now employ a 5-fold cross validation to find the optimal value of the hyperparameter k."
   ]
  },
  {
   "cell_type": "code",
   "execution_count": 209,
   "metadata": {},
   "outputs": [],
   "source": [
    "k_list = np.arange(1, 21, 1)\n",
    "best_k, best_mean_val, mean_train_list, mean_val_list = choose_best_k(X_a_train.to_numpy(), y_a_train.to_numpy(), 5, k_list)"
   ]
  },
  {
   "cell_type": "code",
   "execution_count": 210,
   "metadata": {},
   "outputs": [
    {
     "data": {
      "image/png": "[encoded data removed]",
      "text/plain": [
       "<Figure size 864x576 with 1 Axes>"
      ]
     },
     "metadata": {
      "needs_background": "light"
     },
     "output_type": "display_data"
    }
   ],
   "source": [
    "fig, ax = plt.subplots(figsize=(12,8))\n",
    "plt.plot(k_list, mean_train_list, label=\"Training Data\", marker ='o')\n",
    "plt.plot(k_list, mean_val_list, label=\"Validation Data\", marker='o')\n",
    "plt.axvline(x = best_k, color = 'r')\n",
    "plt.xlabel(\"k\", fontsize=14)\n",
    "plt.ylabel(\"Average MSE\", fontsize=14)\n",
    "plt.title(\"Plot of k against Average MSE\", fontsize=20)\n",
    "plt.xticks(range(1, 21), size=14)\n",
    "plt.yticks(size=14)\n",
    "ax.legend(loc=\"best\",fontsize=14)\n",
    "plt.show()"
   ]
  },
  {
   "cell_type": "code",
   "execution_count": 211,
   "metadata": {},
   "outputs": [
    {
     "name": "stdout",
     "output_type": "stream",
     "text": [
      "The optimal value of k is 10\n"
     ]
    }
   ],
   "source": [
    "print(\"The optimal value of k is {}\".format(best_k))"
   ]
  },
  {
   "cell_type": "markdown",
   "metadata": {},
   "source": [
    "We will now retrain the model on the entire training dataset using the optimal k found above."
   ]
  },
  {
   "cell_type": "code",
   "execution_count": 212,
   "metadata": {
    "id": "SvW0h75VJMHn"
   },
   "outputs": [],
   "source": [
    "# training\n",
    "y_pred = reg_predict(X_a_train_s.to_numpy(), y_a_train.to_numpy(), X_a_train_s.to_numpy(), best_k)\n",
    "MSE_train_kNN = MSE(y_a_train.to_numpy(), y_pred)\n",
    "r2_train_kNN = r2_score(y_a_train.to_numpy(), y_pred)"
   ]
  },
  {
   "cell_type": "code",
   "execution_count": 213,
   "metadata": {},
   "outputs": [],
   "source": [
    "# test\n",
    "y_pred = reg_predict(X_a_train_s.to_numpy(), y_a_train.to_numpy(), X_a_test_s.to_numpy(), best_k)\n",
    "MSE_test_kNN = MSE(y_a_test.to_numpy(), y_pred)\n",
    "r2_test_kNN = r2_score(y_a_test.to_numpy(), y_pred)"
   ]
  },
  {
   "cell_type": "code",
   "execution_count": 214,
   "metadata": {},
   "outputs": [
    {
     "data": {
      "text/html": [
       "<style  type=\"text/css\" >\n",
       "    #T_62fad_ th {\n",
       "          font-size: 14pt;\n",
       "    }#T_62fad_row0_col0,#T_62fad_row0_col1,#T_62fad_row1_col0,#T_62fad_row1_col1{\n",
       "            font-size:  14pt;\n",
       "        }</style><table id=\"T_62fad_\" ><thead>    <tr>        <th class=\"blank level0\" ></th>        <th class=\"col_heading level0 col0\" >MSE</th>        <th class=\"col_heading level0 col1\" >R2 score</th>    </tr></thead><tbody>\n",
       "                <tr>\n",
       "                        <th id=\"T_62fad_level0_row0\" class=\"row_heading level0 row0\" >Training</th>\n",
       "                        <td id=\"T_62fad_row0_col0\" class=\"data row0 col0\" >1.918305</td>\n",
       "                        <td id=\"T_62fad_row0_col1\" class=\"data row0 col1\" >0.915859</td>\n",
       "            </tr>\n",
       "            <tr>\n",
       "                        <th id=\"T_62fad_level0_row1\" class=\"row_heading level0 row1\" >Test</th>\n",
       "                        <td id=\"T_62fad_row1_col0\" class=\"data row1 col0\" >2.072284</td>\n",
       "                        <td id=\"T_62fad_row1_col1\" class=\"data row1 col1\" >0.904256</td>\n",
       "            </tr>\n",
       "    </tbody></table>"
      ],
      "text/plain": [
       "<pandas.io.formats.style.Styler at 0x7f8e93da42e0>"
      ]
     },
     "execution_count": 214,
     "metadata": {},
     "output_type": "execute_result"
    }
   ],
   "source": [
    "# Table of kNN scores\n",
    "data_kNN = {'MSE': [MSE_train_kNN, MSE_test_kNN], 'R2 score': [r2_train_kNN, r2_test_kNN]}\n",
    "df_kNN = pd.DataFrame(data_lasso, index=['Training', 'Test'])\n",
    "df_kNN = df_kNN.style.set_properties(**{'font-size': '14pt'})\n",
    "df_kNN = df_kNN.set_table_styles([{'selector': 'th', 'props': [('font-size', '14pt')]}])\n",
    "df_kNN"
   ]
  },
  {
   "cell_type": "code",
   "execution_count": 215,
   "metadata": {},
   "outputs": [
    {
     "data": {
      "text/html": [
       "<style  type=\"text/css\" >\n",
       "    #T_ce710_ th {\n",
       "          font-size: 14pt;\n",
       "    }#T_ce710_row0_col0,#T_ce710_row0_col1,#T_ce710_row1_col0,#T_ce710_row1_col1,#T_ce710_row2_col0,#T_ce710_row2_col1,#T_ce710_row3_col0,#T_ce710_row3_col1{\n",
       "            font-size:  14pt;\n",
       "        }</style><table id=\"T_ce710_\" ><thead>    <tr>        <th class=\"blank level0\" ></th>        <th class=\"col_heading level0 col0\" >MSE</th>        <th class=\"col_heading level0 col1\" >R2 score</th>    </tr></thead><tbody>\n",
       "                <tr>\n",
       "                        <th id=\"T_ce710_level0_row0\" class=\"row_heading level0 row0\" >Linear Regression</th>\n",
       "                        <td id=\"T_ce710_row0_col0\" class=\"data row0 col0\" >1.984390</td>\n",
       "                        <td id=\"T_ce710_row0_col1\" class=\"data row0 col1\" >0.908317</td>\n",
       "            </tr>\n",
       "            <tr>\n",
       "                        <th id=\"T_ce710_level0_row1\" class=\"row_heading level0 row1\" >Lasso Regression</th>\n",
       "                        <td id=\"T_ce710_row1_col0\" class=\"data row1 col0\" >2.072284</td>\n",
       "                        <td id=\"T_ce710_row1_col1\" class=\"data row1 col1\" >0.904256</td>\n",
       "            </tr>\n",
       "            <tr>\n",
       "                        <th id=\"T_ce710_level0_row2\" class=\"row_heading level0 row2\" >Elastic Net Regression (α=0.9)</th>\n",
       "                        <td id=\"T_ce710_row2_col0\" class=\"data row2 col0\" >2.107181</td>\n",
       "                        <td id=\"T_ce710_row2_col1\" class=\"data row2 col1\" >0.902644</td>\n",
       "            </tr>\n",
       "            <tr>\n",
       "                        <th id=\"T_ce710_level0_row3\" class=\"row_heading level0 row3\" >k-Nearest Neighbour</th>\n",
       "                        <td id=\"T_ce710_row3_col0\" class=\"data row3 col0\" >2.985675</td>\n",
       "                        <td id=\"T_ce710_row3_col1\" class=\"data row3 col1\" >0.862056</td>\n",
       "            </tr>\n",
       "    </tbody></table>"
      ],
      "text/plain": [
       "<pandas.io.formats.style.Styler at 0x7f8e7de6b2e0>"
      ]
     },
     "execution_count": 215,
     "metadata": {},
     "output_type": "execute_result"
    }
   ],
   "source": [
    "# Table of scores for each method in Task 1\n",
    "data_1 = {'MSE': [MSE_test_lr, MSE_test_lasso, MSE_test_en_09, MSE_test_kNN], \n",
    "          'R2 score': [r2_test_lr, r2_test_lasso, r2_test_en_09, r2_test_kNN]}\n",
    "df_1 = pd.DataFrame(data_1, index=['Linear Regression', 'Lasso Regression', 'Elastic Net Regression (α=0.9)', 'k-Nearest Neighbour'])\n",
    "df_1 = df_1.style.set_properties(**{'font-size': '14pt'})\n",
    "df_1 = df_1.set_table_styles([{'selector': 'th', 'props': [('font-size', '14pt')]}])\n",
    "df_1"
   ]
  },
  {
   "cell_type": "markdown",
   "metadata": {},
   "source": [
    "From the table above, linear regression outperforms all the other models as it has the lowest average MSE and highest avergae $R^{2}$ score. This implies that the underlying relationship between the predictors and outcomes is linear."
   ]
  },
  {
   "cell_type": "markdown",
   "metadata": {
    "id": "t3tn2TtkJOKM"
   },
   "source": [
    "## Task 2: Classification  (50 marks)\n",
    "\n"
   ]
  },
  {
   "cell_type": "markdown",
   "metadata": {
    "id": "H3M4W43cMTZj"
   },
   "source": [
    "#### 2.1 Random forest (20 marks)\n",
    "2.1.1"
   ]
  },
  {
   "cell_type": "markdown",
   "metadata": {},
   "source": [
    "We first load the training dataset *diabetes_samples.csv* and test dataset *diabetes_test.csv* into pandas data frames. "
   ]
  },
  {
   "cell_type": "code",
   "execution_count": 298,
   "metadata": {
    "id": "PVRERNazJQ0t"
   },
   "outputs": [],
   "source": [
    "diabetes_train = pd.read_csv(\"diabetes_samples.csv\")\n",
    "diabetes_test = pd.read_csv(\"diabetes_test.csv\")"
   ]
  },
  {
   "cell_type": "markdown",
   "metadata": {},
   "source": [
    "We print the first few rows of the dataset and view the summary statistics of the dataset to inspect the dataset."
   ]
  },
  {
   "cell_type": "code",
   "execution_count": 299,
   "metadata": {},
   "outputs": [
    {
     "data": {
      "text/html": [
       "<div>\n",
       "<style scoped>\n",
       "    .dataframe tbody tr th:only-of-type {\n",
       "        vertical-align: middle;\n",
       "    }\n",
       "\n",
       "    .dataframe tbody tr th {\n",
       "        vertical-align: top;\n",
       "    }\n",
       "\n",
       "    .dataframe thead th {\n",
       "        text-align: right;\n",
       "    }\n",
       "</style>\n",
       "<table border=\"1\" class=\"dataframe\">\n",
       "  <thead>\n",
       "    <tr style=\"text-align: right;\">\n",
       "      <th></th>\n",
       "      <th>patient_number</th>\n",
       "      <th>cholesterol</th>\n",
       "      <th>glucose</th>\n",
       "      <th>hdl_chol</th>\n",
       "      <th>chol_hdl_ratio</th>\n",
       "      <th>age</th>\n",
       "      <th>height</th>\n",
       "      <th>weight</th>\n",
       "      <th>bmi</th>\n",
       "      <th>systolic_bp</th>\n",
       "      <th>diastolic_bp</th>\n",
       "      <th>waist</th>\n",
       "      <th>hip</th>\n",
       "      <th>waist_hip_ratio</th>\n",
       "      <th>diabetes</th>\n",
       "    </tr>\n",
       "  </thead>\n",
       "  <tbody>\n",
       "    <tr>\n",
       "      <th>0</th>\n",
       "      <td>115</td>\n",
       "      <td>224</td>\n",
       "      <td>85</td>\n",
       "      <td>30</td>\n",
       "      <td>7,5</td>\n",
       "      <td>36</td>\n",
       "      <td>69</td>\n",
       "      <td>205</td>\n",
       "      <td>30,3</td>\n",
       "      <td>150</td>\n",
       "      <td>99</td>\n",
       "      <td>37</td>\n",
       "      <td>41</td>\n",
       "      <td>0,9</td>\n",
       "      <td>No diabetes</td>\n",
       "    </tr>\n",
       "    <tr>\n",
       "      <th>1</th>\n",
       "      <td>318</td>\n",
       "      <td>194</td>\n",
       "      <td>95</td>\n",
       "      <td>36</td>\n",
       "      <td>5,4</td>\n",
       "      <td>63</td>\n",
       "      <td>58</td>\n",
       "      <td>210</td>\n",
       "      <td>43,9</td>\n",
       "      <td>140</td>\n",
       "      <td>100</td>\n",
       "      <td>44</td>\n",
       "      <td>53</td>\n",
       "      <td>0,83</td>\n",
       "      <td>No diabetes</td>\n",
       "    </tr>\n",
       "    <tr>\n",
       "      <th>2</th>\n",
       "      <td>73</td>\n",
       "      <td>207</td>\n",
       "      <td>75</td>\n",
       "      <td>44</td>\n",
       "      <td>4,7</td>\n",
       "      <td>30</td>\n",
       "      <td>72</td>\n",
       "      <td>180</td>\n",
       "      <td>24,4</td>\n",
       "      <td>118</td>\n",
       "      <td>62</td>\n",
       "      <td>35</td>\n",
       "      <td>41</td>\n",
       "      <td>0,85</td>\n",
       "      <td>No diabetes</td>\n",
       "    </tr>\n",
       "    <tr>\n",
       "      <th>3</th>\n",
       "      <td>69</td>\n",
       "      <td>144</td>\n",
       "      <td>81</td>\n",
       "      <td>28</td>\n",
       "      <td>5,1</td>\n",
       "      <td>30</td>\n",
       "      <td>72</td>\n",
       "      <td>165</td>\n",
       "      <td>22,4</td>\n",
       "      <td>118</td>\n",
       "      <td>78</td>\n",
       "      <td>31</td>\n",
       "      <td>38</td>\n",
       "      <td>0,82</td>\n",
       "      <td>No diabetes</td>\n",
       "    </tr>\n",
       "    <tr>\n",
       "      <th>4</th>\n",
       "      <td>326</td>\n",
       "      <td>181</td>\n",
       "      <td>177</td>\n",
       "      <td>24</td>\n",
       "      <td>7,5</td>\n",
       "      <td>64</td>\n",
       "      <td>71</td>\n",
       "      <td>225</td>\n",
       "      <td>31,4</td>\n",
       "      <td>130</td>\n",
       "      <td>66</td>\n",
       "      <td>44</td>\n",
       "      <td>47</td>\n",
       "      <td>0,94</td>\n",
       "      <td>Diabetes</td>\n",
       "    </tr>\n",
       "  </tbody>\n",
       "</table>\n",
       "</div>"
      ],
      "text/plain": [
       "   patient_number  cholesterol  glucose  hdl_chol chol_hdl_ratio  age  height  \\\n",
       "0             115          224       85        30            7,5   36      69   \n",
       "1             318          194       95        36            5,4   63      58   \n",
       "2              73          207       75        44            4,7   30      72   \n",
       "3              69          144       81        28            5,1   30      72   \n",
       "4             326          181      177        24            7,5   64      71   \n",
       "\n",
       "   weight   bmi  systolic_bp  diastolic_bp  waist  hip waist_hip_ratio  \\\n",
       "0     205  30,3          150            99     37   41             0,9   \n",
       "1     210  43,9          140           100     44   53            0,83   \n",
       "2     180  24,4          118            62     35   41            0,85   \n",
       "3     165  22,4          118            78     31   38            0,82   \n",
       "4     225  31,4          130            66     44   47            0,94   \n",
       "\n",
       "      diabetes  \n",
       "0  No diabetes  \n",
       "1  No diabetes  \n",
       "2  No diabetes  \n",
       "3  No diabetes  \n",
       "4     Diabetes  "
      ]
     },
     "execution_count": 299,
     "metadata": {},
     "output_type": "execute_result"
    }
   ],
   "source": [
    "diabetes_train.head()"
   ]
  },
  {
   "cell_type": "code",
   "execution_count": 300,
   "metadata": {},
   "outputs": [
    {
     "data": {
      "text/html": [
       "<div>\n",
       "<style scoped>\n",
       "    .dataframe tbody tr th:only-of-type {\n",
       "        vertical-align: middle;\n",
       "    }\n",
       "\n",
       "    .dataframe tbody tr th {\n",
       "        vertical-align: top;\n",
       "    }\n",
       "\n",
       "    .dataframe thead th {\n",
       "        text-align: right;\n",
       "    }\n",
       "</style>\n",
       "<table border=\"1\" class=\"dataframe\">\n",
       "  <thead>\n",
       "    <tr style=\"text-align: right;\">\n",
       "      <th></th>\n",
       "      <th>patient_number</th>\n",
       "      <th>cholesterol</th>\n",
       "      <th>glucose</th>\n",
       "      <th>hdl_chol</th>\n",
       "      <th>age</th>\n",
       "      <th>height</th>\n",
       "      <th>weight</th>\n",
       "      <th>systolic_bp</th>\n",
       "      <th>diastolic_bp</th>\n",
       "      <th>waist</th>\n",
       "      <th>hip</th>\n",
       "    </tr>\n",
       "  </thead>\n",
       "  <tbody>\n",
       "    <tr>\n",
       "      <th>count</th>\n",
       "      <td>273.000000</td>\n",
       "      <td>273.000000</td>\n",
       "      <td>273.000000</td>\n",
       "      <td>273.000000</td>\n",
       "      <td>273.000000</td>\n",
       "      <td>273.000000</td>\n",
       "      <td>273.000000</td>\n",
       "      <td>273.000000</td>\n",
       "      <td>273.000000</td>\n",
       "      <td>273.000000</td>\n",
       "      <td>273.000000</td>\n",
       "    </tr>\n",
       "    <tr>\n",
       "      <th>mean</th>\n",
       "      <td>199.695971</td>\n",
       "      <td>208.868132</td>\n",
       "      <td>108.864469</td>\n",
       "      <td>50.531136</td>\n",
       "      <td>47.622711</td>\n",
       "      <td>66.032967</td>\n",
       "      <td>177.424908</td>\n",
       "      <td>136.772894</td>\n",
       "      <td>82.553114</td>\n",
       "      <td>37.941392</td>\n",
       "      <td>43.102564</td>\n",
       "    </tr>\n",
       "    <tr>\n",
       "      <th>std</th>\n",
       "      <td>115.880545</td>\n",
       "      <td>45.051737</td>\n",
       "      <td>55.762363</td>\n",
       "      <td>17.041255</td>\n",
       "      <td>17.110598</td>\n",
       "      <td>3.867618</td>\n",
       "      <td>40.460071</td>\n",
       "      <td>22.621073</td>\n",
       "      <td>13.161257</td>\n",
       "      <td>5.744903</td>\n",
       "      <td>5.834459</td>\n",
       "    </tr>\n",
       "    <tr>\n",
       "      <th>min</th>\n",
       "      <td>1.000000</td>\n",
       "      <td>78.000000</td>\n",
       "      <td>52.000000</td>\n",
       "      <td>12.000000</td>\n",
       "      <td>19.000000</td>\n",
       "      <td>55.000000</td>\n",
       "      <td>99.000000</td>\n",
       "      <td>98.000000</td>\n",
       "      <td>50.000000</td>\n",
       "      <td>26.000000</td>\n",
       "      <td>32.000000</td>\n",
       "    </tr>\n",
       "    <tr>\n",
       "      <th>25%</th>\n",
       "      <td>96.000000</td>\n",
       "      <td>179.000000</td>\n",
       "      <td>81.000000</td>\n",
       "      <td>39.000000</td>\n",
       "      <td>34.000000</td>\n",
       "      <td>63.000000</td>\n",
       "      <td>151.000000</td>\n",
       "      <td>121.000000</td>\n",
       "      <td>74.000000</td>\n",
       "      <td>33.000000</td>\n",
       "      <td>39.000000</td>\n",
       "    </tr>\n",
       "    <tr>\n",
       "      <th>50%</th>\n",
       "      <td>198.000000</td>\n",
       "      <td>204.000000</td>\n",
       "      <td>90.000000</td>\n",
       "      <td>46.000000</td>\n",
       "      <td>45.000000</td>\n",
       "      <td>66.000000</td>\n",
       "      <td>174.000000</td>\n",
       "      <td>136.000000</td>\n",
       "      <td>82.000000</td>\n",
       "      <td>37.000000</td>\n",
       "      <td>42.000000</td>\n",
       "    </tr>\n",
       "    <tr>\n",
       "      <th>75%</th>\n",
       "      <td>306.000000</td>\n",
       "      <td>232.000000</td>\n",
       "      <td>108.000000</td>\n",
       "      <td>59.000000</td>\n",
       "      <td>61.000000</td>\n",
       "      <td>69.000000</td>\n",
       "      <td>200.000000</td>\n",
       "      <td>148.000000</td>\n",
       "      <td>90.000000</td>\n",
       "      <td>42.000000</td>\n",
       "      <td>46.000000</td>\n",
       "    </tr>\n",
       "    <tr>\n",
       "      <th>max</th>\n",
       "      <td>390.000000</td>\n",
       "      <td>404.000000</td>\n",
       "      <td>385.000000</td>\n",
       "      <td>120.000000</td>\n",
       "      <td>92.000000</td>\n",
       "      <td>76.000000</td>\n",
       "      <td>308.000000</td>\n",
       "      <td>250.000000</td>\n",
       "      <td>118.000000</td>\n",
       "      <td>53.000000</td>\n",
       "      <td>64.000000</td>\n",
       "    </tr>\n",
       "  </tbody>\n",
       "</table>\n",
       "</div>"
      ],
      "text/plain": [
       "       patient_number  cholesterol     glucose    hdl_chol         age  \\\n",
       "count      273.000000   273.000000  273.000000  273.000000  273.000000   \n",
       "mean       199.695971   208.868132  108.864469   50.531136   47.622711   \n",
       "std        115.880545    45.051737   55.762363   17.041255   17.110598   \n",
       "min          1.000000    78.000000   52.000000   12.000000   19.000000   \n",
       "25%         96.000000   179.000000   81.000000   39.000000   34.000000   \n",
       "50%        198.000000   204.000000   90.000000   46.000000   45.000000   \n",
       "75%        306.000000   232.000000  108.000000   59.000000   61.000000   \n",
       "max        390.000000   404.000000  385.000000  120.000000   92.000000   \n",
       "\n",
       "           height      weight  systolic_bp  diastolic_bp       waist  \\\n",
       "count  273.000000  273.000000   273.000000    273.000000  273.000000   \n",
       "mean    66.032967  177.424908   136.772894     82.553114   37.941392   \n",
       "std      3.867618   40.460071    22.621073     13.161257    5.744903   \n",
       "min     55.000000   99.000000    98.000000     50.000000   26.000000   \n",
       "25%     63.000000  151.000000   121.000000     74.000000   33.000000   \n",
       "50%     66.000000  174.000000   136.000000     82.000000   37.000000   \n",
       "75%     69.000000  200.000000   148.000000     90.000000   42.000000   \n",
       "max     76.000000  308.000000   250.000000    118.000000   53.000000   \n",
       "\n",
       "              hip  \n",
       "count  273.000000  \n",
       "mean    43.102564  \n",
       "std      5.834459  \n",
       "min     32.000000  \n",
       "25%     39.000000  \n",
       "50%     42.000000  \n",
       "75%     46.000000  \n",
       "max     64.000000  "
      ]
     },
     "execution_count": 300,
     "metadata": {},
     "output_type": "execute_result"
    }
   ],
   "source": [
    "diabetes_train.describe()"
   ]
  },
  {
   "cell_type": "markdown",
   "metadata": {},
   "source": [
    "We set the index of the dataframe as *patient_number*."
   ]
  },
  {
   "cell_type": "code",
   "execution_count": 301,
   "metadata": {},
   "outputs": [],
   "source": [
    "diabetes_train = diabetes_train.set_index(diabetes_train['patient_number']).drop(diabetes_train.columns[0], axis=1)"
   ]
  },
  {
   "cell_type": "markdown",
   "metadata": {},
   "source": [
    "For the columns *chol_hdl_ratio*, *bmi* and *waist_hip_ratio*, we will replace the `,` sign with `.`."
   ]
  },
  {
   "cell_type": "code",
   "execution_count": 302,
   "metadata": {},
   "outputs": [],
   "source": [
    "for column_name in ['chol_hdl_ratio', 'bmi', 'waist_hip_ratio']: \n",
    "    diabetes_train[column_name] = diabetes_train[column_name].str.replace(',', '.').astype(float)"
   ]
  },
  {
   "cell_type": "markdown",
   "metadata": {},
   "source": [
    "For the target variable *diabetes*, we will replace the category `No diabetes` with `0` and the category `Diabetes` with `1`."
   ]
  },
  {
   "cell_type": "code",
   "execution_count": 303,
   "metadata": {},
   "outputs": [],
   "source": [
    "diabetes_train['diabetes'] = pd.factorize(diabetes_train['diabetes'])[0]"
   ]
  },
  {
   "cell_type": "markdown",
   "metadata": {},
   "source": [
    "The dataset does not have any missing values and now seems cleaned."
   ]
  },
  {
   "cell_type": "code",
   "execution_count": 304,
   "metadata": {},
   "outputs": [
    {
     "data": {
      "text/html": [
       "<div>\n",
       "<style scoped>\n",
       "    .dataframe tbody tr th:only-of-type {\n",
       "        vertical-align: middle;\n",
       "    }\n",
       "\n",
       "    .dataframe tbody tr th {\n",
       "        vertical-align: top;\n",
       "    }\n",
       "\n",
       "    .dataframe thead th {\n",
       "        text-align: right;\n",
       "    }\n",
       "</style>\n",
       "<table border=\"1\" class=\"dataframe\">\n",
       "  <thead>\n",
       "    <tr style=\"text-align: right;\">\n",
       "      <th></th>\n",
       "      <th>cholesterol</th>\n",
       "      <th>glucose</th>\n",
       "      <th>hdl_chol</th>\n",
       "      <th>chol_hdl_ratio</th>\n",
       "      <th>age</th>\n",
       "      <th>height</th>\n",
       "      <th>weight</th>\n",
       "      <th>bmi</th>\n",
       "      <th>systolic_bp</th>\n",
       "      <th>diastolic_bp</th>\n",
       "      <th>waist</th>\n",
       "      <th>hip</th>\n",
       "      <th>waist_hip_ratio</th>\n",
       "      <th>diabetes</th>\n",
       "    </tr>\n",
       "    <tr>\n",
       "      <th>patient_number</th>\n",
       "      <th></th>\n",
       "      <th></th>\n",
       "      <th></th>\n",
       "      <th></th>\n",
       "      <th></th>\n",
       "      <th></th>\n",
       "      <th></th>\n",
       "      <th></th>\n",
       "      <th></th>\n",
       "      <th></th>\n",
       "      <th></th>\n",
       "      <th></th>\n",
       "      <th></th>\n",
       "      <th></th>\n",
       "    </tr>\n",
       "  </thead>\n",
       "  <tbody>\n",
       "    <tr>\n",
       "      <th>115</th>\n",
       "      <td>224</td>\n",
       "      <td>85</td>\n",
       "      <td>30</td>\n",
       "      <td>7.5</td>\n",
       "      <td>36</td>\n",
       "      <td>69</td>\n",
       "      <td>205</td>\n",
       "      <td>30.3</td>\n",
       "      <td>150</td>\n",
       "      <td>99</td>\n",
       "      <td>37</td>\n",
       "      <td>41</td>\n",
       "      <td>0.90</td>\n",
       "      <td>0</td>\n",
       "    </tr>\n",
       "    <tr>\n",
       "      <th>318</th>\n",
       "      <td>194</td>\n",
       "      <td>95</td>\n",
       "      <td>36</td>\n",
       "      <td>5.4</td>\n",
       "      <td>63</td>\n",
       "      <td>58</td>\n",
       "      <td>210</td>\n",
       "      <td>43.9</td>\n",
       "      <td>140</td>\n",
       "      <td>100</td>\n",
       "      <td>44</td>\n",
       "      <td>53</td>\n",
       "      <td>0.83</td>\n",
       "      <td>0</td>\n",
       "    </tr>\n",
       "    <tr>\n",
       "      <th>73</th>\n",
       "      <td>207</td>\n",
       "      <td>75</td>\n",
       "      <td>44</td>\n",
       "      <td>4.7</td>\n",
       "      <td>30</td>\n",
       "      <td>72</td>\n",
       "      <td>180</td>\n",
       "      <td>24.4</td>\n",
       "      <td>118</td>\n",
       "      <td>62</td>\n",
       "      <td>35</td>\n",
       "      <td>41</td>\n",
       "      <td>0.85</td>\n",
       "      <td>0</td>\n",
       "    </tr>\n",
       "    <tr>\n",
       "      <th>69</th>\n",
       "      <td>144</td>\n",
       "      <td>81</td>\n",
       "      <td>28</td>\n",
       "      <td>5.1</td>\n",
       "      <td>30</td>\n",
       "      <td>72</td>\n",
       "      <td>165</td>\n",
       "      <td>22.4</td>\n",
       "      <td>118</td>\n",
       "      <td>78</td>\n",
       "      <td>31</td>\n",
       "      <td>38</td>\n",
       "      <td>0.82</td>\n",
       "      <td>0</td>\n",
       "    </tr>\n",
       "    <tr>\n",
       "      <th>326</th>\n",
       "      <td>181</td>\n",
       "      <td>177</td>\n",
       "      <td>24</td>\n",
       "      <td>7.5</td>\n",
       "      <td>64</td>\n",
       "      <td>71</td>\n",
       "      <td>225</td>\n",
       "      <td>31.4</td>\n",
       "      <td>130</td>\n",
       "      <td>66</td>\n",
       "      <td>44</td>\n",
       "      <td>47</td>\n",
       "      <td>0.94</td>\n",
       "      <td>1</td>\n",
       "    </tr>\n",
       "  </tbody>\n",
       "</table>\n",
       "</div>"
      ],
      "text/plain": [
       "                cholesterol  glucose  hdl_chol  chol_hdl_ratio  age  height  \\\n",
       "patient_number                                                                \n",
       "115                     224       85        30             7.5   36      69   \n",
       "318                     194       95        36             5.4   63      58   \n",
       "73                      207       75        44             4.7   30      72   \n",
       "69                      144       81        28             5.1   30      72   \n",
       "326                     181      177        24             7.5   64      71   \n",
       "\n",
       "                weight   bmi  systolic_bp  diastolic_bp  waist  hip  \\\n",
       "patient_number                                                        \n",
       "115                205  30.3          150            99     37   41   \n",
       "318                210  43.9          140           100     44   53   \n",
       "73                 180  24.4          118            62     35   41   \n",
       "69                 165  22.4          118            78     31   38   \n",
       "326                225  31.4          130            66     44   47   \n",
       "\n",
       "                waist_hip_ratio  diabetes  \n",
       "patient_number                             \n",
       "115                        0.90         0  \n",
       "318                        0.83         0  \n",
       "73                         0.85         0  \n",
       "69                         0.82         0  \n",
       "326                        0.94         1  "
      ]
     },
     "execution_count": 304,
     "metadata": {},
     "output_type": "execute_result"
    }
   ],
   "source": [
    "diabetes_train.head()"
   ]
  },
  {
   "cell_type": "markdown",
   "metadata": {},
   "source": [
    "We will apply the same data transformations onto the test dataset."
   ]
  },
  {
   "cell_type": "code",
   "execution_count": 305,
   "metadata": {},
   "outputs": [],
   "source": [
    "diabetes_test = diabetes_test.set_index(diabetes_test['patient_number']).drop(diabetes_test.columns[0], axis=1)\n",
    "\n",
    "for column_name in ['chol_hdl_ratio', 'bmi', 'waist_hip_ratio']: \n",
    "    diabetes_test[column_name] = diabetes_test[column_name].str.replace(',', '.').astype(float)\n",
    "    \n",
    "diabetes_test['diabetes'] = pd.factorize(diabetes_test['diabetes'])[0]"
   ]
  },
  {
   "cell_type": "markdown",
   "metadata": {},
   "source": [
    "We now split the training dataset into predictor set `X_d_train` and target `y_d_train`. We will also split the test dataset into predictor set `X_d_test` and target `y_d_test`."
   ]
  },
  {
   "cell_type": "code",
   "execution_count": 306,
   "metadata": {},
   "outputs": [],
   "source": [
    "X_d_train = diabetes_train.iloc[:,:-1]\n",
    "y_d_train = diabetes_train.iloc[:,-1]\n",
    "X_d_test = diabetes_test.iloc[:,:-1]\n",
    "y_d_test = diabetes_test.iloc[:,-1]"
   ]
  },
  {
   "cell_type": "markdown",
   "metadata": {},
   "source": [
    "`training_weights` assigns equal weights to each observation. <br>\n",
    "`columns_dict` is a dictionary indicating whether the column index maps to a categorical feature or numerical. In this dataset, all the features are numerical so categorical=False for all columns."
   ]
  },
  {
   "cell_type": "code",
   "execution_count": 307,
   "metadata": {},
   "outputs": [],
   "source": [
    "training_weights = np.ones_like(y_d_train) / len(y_d_train)\n",
    "columns_dict = {index: False for index in range(X_d_train.shape[1])}"
   ]
  },
  {
   "cell_type": "markdown",
   "metadata": {},
   "source": [
    "The function `cross_entropy` computes cross entropy using the formula:\n",
    "$$CE[\\pi(R_{\\alpha})]=\\sum_{q=1}^{Q}{\\pi_{q}(R_{\\alpha})\\log\\pi_{q}(R_{\\alpha})}$$\n",
    "where $\\pi_{q}(R_{\\alpha})$ is the probability of being in given region $R_{\\alpha}$ and belonging to a particular class $c_{q}$."
   ]
  },
  {
   "cell_type": "code",
   "execution_count": 308,
   "metadata": {},
   "outputs": [],
   "source": [
    "def cross_entropy(y, sample_weights):\n",
    "    \"\"\" \n",
    "    Calculate the cross entropy for labels.\n",
    "    Arguments:\n",
    "        y: vector of training labels, of shape (N,).\n",
    "        sample_weights: weights for each samples, of shape (N,).\n",
    "    Returns:\n",
    "        (float): the cross entropy for y.\n",
    "    \"\"\"\n",
    "\n",
    "    # count different labels in y，and store in label_weights\n",
    "    # initialize with zero for each distinct label.\n",
    "    label_weights = {yi: 0 for yi in set(y)}  \n",
    "    for yi, wi in zip(y, sample_weights):\n",
    "        label_weights[yi] += wi\n",
    "\n",
    "    total_weight = sum(label_weights.values())\n",
    "    CE = 0\n",
    "    for label, weight in label_weights.items():\n",
    "        CE -= (weight / total_weight) * np.log(weight / total_weight)\n",
    "\n",
    "    return CE"
   ]
  },
  {
   "cell_type": "markdown",
   "metadata": {},
   "source": [
    "The function`split_samples` splits the data samples based on a column index and a value."
   ]
  },
  {
   "cell_type": "code",
   "execution_count": 309,
   "metadata": {},
   "outputs": [],
   "source": [
    "def split_samples(X, y, sample_weights, column, value, categorical):\n",
    "    \"\"\"\n",
    "    Return the split of data whose column-th feature:\n",
    "        1. equals value, in case `column` is categorical, or\n",
    "        2. less than value, in case `column` is not categorical (i.e. numerical)\n",
    "\n",
    "    Arguments:\n",
    "        X: training features, of shape (N, D).\n",
    "        y: vector of training labels, of shape (N,).\n",
    "        sample_weights: weights for each samples, of shape (N,).\n",
    "        column: the column of the feature for splitting.\n",
    "        value: splitting threshold  the samples \n",
    "        categorical: boolean value indicating whether column is a categorical variable or numerical.\n",
    "    Returns:\n",
    "        tuple(np.array, np.array): tuple of subsets of X splitted based on column-th value.\n",
    "        tuple(np.array, np.array): tuple of subsets of y splitted based on column-th value.\n",
    "        tuple(np.array, np.array): tuple of subsets of sample weights based on column-th value.\n",
    "    \"\"\" \n",
    "\n",
    "    if categorical:\n",
    "        left_mask =(X[:, column] == value)\n",
    "    else:\n",
    "        left_mask = (X[:, column] < value)\n",
    "  \n",
    "    X_left, X_right = X[left_mask, :], X[~left_mask, :]\n",
    "    y_left, y_right = y[left_mask], y[~left_mask]\n",
    "    w_left, w_right  = sample_weights[left_mask], sample_weights[~left_mask]\n",
    "\n",
    "    return (X_left, X_right), (y_left, y_right), (w_left, w_right)"
   ]
  },
  {
   "cell_type": "markdown",
   "metadata": {},
   "source": [
    "The function `cross_entropy_split_value` searches for the threshold that minimises the cross entropy."
   ]
  },
  {
   "cell_type": "code",
   "execution_count": 310,
   "metadata": {},
   "outputs": [],
   "source": [
    "def cross_entropy_split_value(X, y, sample_weights, column, categorical):\n",
    "    \"\"\"\n",
    "    Calculate the cross entropy based on `column` with the split that minimizes the cross entropy.\n",
    "    Arguments:\n",
    "        X: training features, of shape (N, D).\n",
    "        y: vector of training labels, of shape (N,).\n",
    "        sample_weights: weights for each samples, of shape (N,).\n",
    "        column: the column of the feature for calculating. 0 <= column < D\n",
    "        categorical: boolean value indicating whether column is a categorical variable or numerical.\n",
    "    Returns:\n",
    "        (float, float): the resulted cross entropy and the corresponding value used in splitting.\n",
    "    \"\"\"\n",
    "  \n",
    "    unique_vals = np.unique(X[:, column])\n",
    "\n",
    "    assert len(unique_vals) > 1, f\"There must be more than one distinct feature value. Given: {unique_vals}.\"\n",
    "\n",
    "    cross_entropy_val, threshold = np.inf, None\n",
    "  \n",
    "    # split the values of i-th feature and calculate the cost \n",
    "    for value in unique_vals:\n",
    "        (X_l, X_r), (y_l, y_r), (w_l, w_r) = split_samples(X, y, sample_weights, column, value, categorical)\n",
    "\n",
    "        # if one of the two sides is empty, skip this split.\n",
    "        if len(y_l) == 0 or len(y_r) == 0:\n",
    "            continue\n",
    "    \n",
    "        p_left = sum(w_l)/(sum(w_l) + sum(w_r))\n",
    "        p_right = 1 - p_left\n",
    "        new_cost = p_left * cross_entropy(y_l, w_l) + p_right * cross_entropy(y_r, w_r)\n",
    "        if new_cost < cross_entropy_val:\n",
    "            cross_entropy_val, threshold = new_cost, value\n",
    "    \n",
    "    return cross_entropy_val, threshold"
   ]
  },
  {
   "cell_type": "markdown",
   "metadata": {},
   "source": [
    "The function `cross_entropy_split_rf` implements feature bagging and then finds the best split column and split value which minimises the cross entropy."
   ]
  },
  {
   "cell_type": "code",
   "execution_count": 311,
   "metadata": {},
   "outputs": [],
   "source": [
    "def cross_entropy_split_rf(n_features, X, y, sample_weights, columns_dict):\n",
    "    \"\"\"\n",
    "    Choose the best feature to split according to criterion.\n",
    "    Arguments:\n",
    "        n_features: number of sampled features.\n",
    "        X: training features, of shape (N, D).\n",
    "        y: vector of training labels, of shape (N,).\n",
    "        sample_weights: weights for each samples, of shape (N,).\n",
    "        columns_dict: a dictionary mapping column indices to whether the column is categorical or numerical variable.\n",
    "    Returns:\n",
    "        (float, int, float): the minimized cross entropy, the best feature index and value used in splitting.\n",
    "    \"\"\"\n",
    "    # feature bagging\n",
    "    columns = np.random.choice(list(columns_dict.keys()), n_features, replace=False)\n",
    "    columns_dict = {c: columns_dict[c] for c in columns}\n",
    "\n",
    "    min_cross_entropy, split_column, split_val = np.inf, 0, 0\n",
    "    for column, categorical in columns_dict.items():\n",
    "        # skip column if samples are not seperable by that column.\n",
    "        if len(np.unique(X[:, column])) < 2:\n",
    "            continue\n",
    "\n",
    "        # search for the best splitting value for the given column.\n",
    "        cross_entropy, val = cross_entropy_split_value(X, y, sample_weights, column, categorical)     \n",
    "        if cross_entropy < min_cross_entropy:\n",
    "            min_cross_entropy, split_column, split_val = cross_entropy, column, val\n",
    "\n",
    "    return min_cross_entropy, split_column, split_val"
   ]
  },
  {
   "cell_type": "markdown",
   "metadata": {},
   "source": [
    "The function `majority_vote` returns a dictionary containing the probabilities of a label being 0 and 1."
   ]
  },
  {
   "cell_type": "code",
   "execution_count": 312,
   "metadata": {},
   "outputs": [],
   "source": [
    "def majority_vote(y, sample_weights):\n",
    "    \"\"\"\n",
    "    Arguments:\n",
    "        y: vector of training labels, of shape (N,).\n",
    "        sample_weights: weights for each samples, of shape (N,).\n",
    "    Returns:\n",
    "        prob: a dictionary containing the probabilities of a label being 0 and 1\n",
    "    \"\"\"\n",
    "    majority_label = {yi: 0 for yi in set(y)}\n",
    "\n",
    "    for yi, wi in zip(y, sample_weights):\n",
    "        majority_label[yi] += wi\n",
    "    \n",
    "    total_weight = sum(majority_label.values())\n",
    "    if 1 in majority_label.keys():\n",
    "        class1 = majority_label[1]\n",
    "    else:\n",
    "        class1 = 0\n",
    "    prob1 = class1 / total_weight\n",
    "    prob0 = 1 - prob1\n",
    "    \n",
    "    # EDIT\n",
    "    prob = {0: prob0, 1: prob1}\n",
    "    return prob"
   ]
  },
  {
   "cell_type": "markdown",
   "metadata": {},
   "source": [
    "The function `build_tree_rf` builds the decision tree according to the data."
   ]
  },
  {
   "cell_type": "code",
   "execution_count": 313,
   "metadata": {},
   "outputs": [],
   "source": [
    "def build_tree_rf(n_features, X, y, sample_weights, columns_dict, feature_names, max_depth, depth, min_samples_leaf=1):\n",
    "    \"\"\"Build the decision tree according to the data.\n",
    "    Arguments:\n",
    "        n_features: number of predictors taken into consideration randomly at each split.\n",
    "        X: (np.array) training features, of shape (N, D).\n",
    "        y: (np.array) vector of training labels, of shape (N,).\n",
    "        sample_weights: weights for each samples, of shape (N,).\n",
    "        columns_dict: a dictionary mapping column indices to whether the column is categorical or numerical variable.\n",
    "        feature_names (list): record the name of features in X in the original dataset.\n",
    "        max_depth: maximum depth of trees.\n",
    "        depth (int): current depth for this node.\n",
    "        min_sample_leaf: minimum number of instances at a leaf.\n",
    "    Returns:\n",
    "        (dict): a dict denoting the decision tree (binary-tree). Each node has seven attributes:\n",
    "            1. 'feature_name': The column name of the split.\n",
    "            2. 'feature_index': The column index of the split.\n",
    "            3. 'value': The value used for the split.\n",
    "            4. 'categorical': indicator for categorical/numerical variables.\n",
    "            5. 'prob': For leaf nodes, this stores the probability of a label being 0 and 1. Otherwise, it is None.\n",
    "            6. 'left': The left sub-tree with the same structure.\n",
    "            7. 'right' The right sub-tree with the same structure.\n",
    "    \"\"\"\n",
    "    # include a clause for the cases where (i) all lables are the same, (ii) depth exceed (iii) X is too small\n",
    "    if len(np.unique(y)) == 1 or depth>=max_depth or len(X)<=min_samples_leaf: \n",
    "        return {'prob': majority_vote(y, sample_weights)}\n",
    "  \n",
    "    else:\n",
    "        CE, split_index, split_val = cross_entropy_split_rf(n_features, X, y, sample_weights, columns_dict)\n",
    "    \n",
    "        # If CE is infinity, it means that samples are not seperable by the sampled features.\n",
    "        if CE == np.inf:\n",
    "            return {'prob': majority_vote(y, sample_weights)}\n",
    "        categorical = columns_dict[split_index]\n",
    "        (X_l, X_r), (y_l, y_r), (w_l, w_r) = split_samples(X, y, sample_weights, split_index, split_val, categorical)\n",
    "        return {\n",
    "            'feature_name': feature_names[split_index],\n",
    "            'feature_index': split_index,\n",
    "            'value': split_val,\n",
    "            'categorical': categorical,\n",
    "            'prob': None,\n",
    "            'left': build_tree_rf(n_features, X_l, y_l, w_l, columns_dict, feature_names, max_depth, depth + 1, min_samples_leaf),\n",
    "            'right': build_tree_rf(n_features, X_r, y_r, w_r, columns_dict, feature_names, max_depth, depth + 1, min_samples_leaf) \n",
    "        }"
   ]
  },
  {
   "cell_type": "markdown",
   "metadata": {},
   "source": [
    "The function `train_rf` builds the random forest model according to the training data."
   ]
  },
  {
   "cell_type": "code",
   "execution_count": 314,
   "metadata": {},
   "outputs": [],
   "source": [
    "def train_rf(B, n_features, max_depth, X, y, columns_dict, sample_weights=None):\n",
    "    \"\"\"\n",
    "    Build the random forest model according to the training data.\n",
    "    Args:\n",
    "        B: number of decision trees.\n",
    "        n_features: number of predictors taken into consideration randomly at each split.\n",
    "        max_depth: maximum depth of trees.\n",
    "        X: (pd.Dataframe) training features, of shape (N, D). Each X[i] is a training sample.\n",
    "        y: (pd.Series) vector of training labels, of shape (N,). y[i] is the label for X[i], and each y[i] is\n",
    "        an integer in the range 0 <= y[i] <= C. Here C = 1.\n",
    "        columns_dict: a dictionary mapping column indices to whether the column is categorical or numerical variable.\n",
    "        sample_weights: weights for each samples, of shape (N,).\n",
    "    \"\"\"\n",
    "    if sample_weights is None:\n",
    "        # if the sample weights is not provided, we assume the samples have uniform weights\n",
    "        sample_weights = np.ones(X.shape[0]) / X.shape[0]\n",
    "    else:\n",
    "        sample_weights = np.array(sample_weights) / np.sum(sample_weights)\n",
    "\n",
    "    feature_names = X.columns.tolist()\n",
    "    X = X.to_numpy()\n",
    "    y = y.to_numpy()\n",
    "    N = X.shape[0]\n",
    "    training_indices = np.arange(N)\n",
    "    trees = []\n",
    "\n",
    "    for _ in range(B):\n",
    "        sample = np.random.choice(training_indices, N, replace=True)\n",
    "        X_sample = X[sample, :]\n",
    "        y_sample = y[sample]\n",
    "        w_sample = sample_weights[sample]\n",
    "        tree = build_tree_rf(n_features, X_sample, y_sample, w_sample, columns_dict, feature_names, max_depth, depth=1)\n",
    "        trees.append(tree)\n",
    "\n",
    "    return trees"
   ]
  },
  {
   "cell_type": "markdown",
   "metadata": {},
   "source": [
    "The function `classify` takes each single data point `x` as an argument and returns the dictionary containing the probabilities of the label being 0 and 1."
   ]
  },
  {
   "cell_type": "code",
   "execution_count": 315,
   "metadata": {},
   "outputs": [],
   "source": [
    "def classify(tree, x):\n",
    "    \"\"\"\n",
    "    Classify a single sample with the fitted decision tree.\n",
    "    Args:\n",
    "        x: ((pd.Dataframe) a single sample features, of shape (D,).\n",
    "    Returns:\n",
    "        prob: a dictionary containing the probabilities of a label being 0 and 1\n",
    "    \"\"\"\n",
    "    \n",
    "    if tree['prob'] is not None: \n",
    "        return tree['prob']\n",
    "\n",
    "    elif tree['categorical']:\n",
    "        if x[tree['feature_index']] == tree['value']:\n",
    "            return classify(tree['left'], x)\n",
    "        else:\n",
    "            return classify(tree['right'], x)\n",
    "\n",
    "    else:\n",
    "        if x[tree['feature_index']] < tree['value']:\n",
    "            return classify(tree['left'], x)\n",
    "        else:\n",
    "            return classify(tree['right'], x)"
   ]
  },
  {
   "cell_type": "markdown",
   "metadata": {},
   "source": [
    "The function `predict_rf` function aggregates the probabilities from all decision trees and returns the class based on the threshold provided."
   ]
  },
  {
   "cell_type": "code",
   "execution_count": 316,
   "metadata": {},
   "outputs": [],
   "source": [
    "def predict_rf(rf, X, B, roc_threshold):\n",
    "    \"\"\"\n",
    "    Predict classification results for X.\n",
    "    Args:\n",
    "        rf: A trained random forest through train_rf function.\n",
    "        X: (pd.Dataframe) testing sample features, of shape (N, D).\n",
    "        roc_threshold: threshold probability for a label to be classified as 1.\n",
    "    Returns:\n",
    "        (np.array): predicted testing sample labels, of shape (N,).\n",
    "    \"\"\"\n",
    "\n",
    "    def aggregate(decisions):\n",
    "        count = defaultdict(int)\n",
    "        for decision in decisions:\n",
    "            count[0] += decision[0]\n",
    "            count[1] += decision[1]\n",
    "        prob0 = count[0] / B\n",
    "        prob1 = count[1] / B\n",
    "        if prob1 >= roc_threshold:\n",
    "            return 1\n",
    "        else:\n",
    "            return 0\n",
    "\n",
    "    if len(X.shape) == 1:\n",
    "        return aggregate([classify(tree, X) for tree in rf])\n",
    "    else:\n",
    "        return np.array([aggregate([classify(tree, x) for tree in rf]) for x in X])"
   ]
  },
  {
   "cell_type": "markdown",
   "metadata": {},
   "source": [
    "The function `rf_accuracy` computes accuracy using the formula:\n",
    "$$\\text{accuracy} = \\frac{TP + TN}{TP + TN + FP + FN}$$\n",
    "where TP is the number of true positives, TN is the number of true negatives, FP is the number of false positives and FN is the number of false negatives."
   ]
  },
  {
   "cell_type": "code",
   "execution_count": 317,
   "metadata": {},
   "outputs": [],
   "source": [
    "# accuracy\n",
    "def rf_accuracy(rf, X_test, y_test, B, roc_threshold):\n",
    "    y_pred = predict_rf(rf, X_test, B, roc_threshold)\n",
    "    return np.mean(y_pred==y_test)"
   ]
  },
  {
   "cell_type": "code",
   "execution_count": 318,
   "metadata": {},
   "outputs": [],
   "source": [
    "def cross_val_split_pd(X, num_folds):\n",
    "    N = X.shape[0]\n",
    "    fold_size = N // num_folds\n",
    "    index_perm = np.random.permutation(X.index)\n",
    "    folds = []\n",
    "    for k in range(num_folds):\n",
    "        folds.append(index_perm[k*fold_size:(k+1)*fold_size])\n",
    "    return folds"
   ]
  },
  {
   "cell_type": "markdown",
   "metadata": {},
   "source": [
    "The function `cross_val_evaluate_rf` implements T-fold cross validation and returns the accuracy for the training dataset and validation set at each training/validation split."
   ]
  },
  {
   "cell_type": "code",
   "execution_count": 319,
   "metadata": {},
   "outputs": [],
   "source": [
    "def cross_val_evaluate_rf(X, y, num_folds, B, max_depth, sample_weights, roc_threshold):\n",
    "    \"\"\"\n",
    "    Arguments:\n",
    "        X: data of size (n, d)\n",
    "        y: true label vector of size (n, 1)\n",
    "        num_folds: number of folds for cross-validation\n",
    "        B: number of decision trees\n",
    "        max_depth: maximum depth of trees\n",
    "        sample_weights:  weights for each samples, of shape (N,)\n",
    "        roc_threshold: threshold probability for a label to be classified as 1\n",
    "    Returns:\n",
    "        train_scores: list of training scores for each training/validation split\n",
    "        val_scores: list of validation scores for each training/validation split\n",
    "    \"\"\"\n",
    "    folds = cross_val_split_pd(X, num_folds)\n",
    "    # number of features for feature bagging is set to be square root of the number of predictors\n",
    "    n_features = int(np.sqrt(X.shape[1]))\n",
    "\n",
    "    train_scores = []\n",
    "    val_scores = []\n",
    "  \n",
    "    for i in range(len(folds)):\n",
    "\n",
    "        val_indices = folds[i]\n",
    "        train_indices = list(set(set(X.index) - set(val_indices)))\n",
    "        \n",
    "        # define the training set\n",
    "        X_train = X.loc[train_indices,:] \n",
    "        y_train = y[train_indices]\n",
    "    \n",
    "        # define the validation set\n",
    "        X_val = X.loc[val_indices,:]  \n",
    "        y_val = y[val_indices] \n",
    "\n",
    "        # train the model\n",
    "        rf = train_rf(B, n_features, max_depth, X_train, y_train, columns_dict, sample_weights)\n",
    "\n",
    "        # evaluate the scores of the training and validation set\n",
    "        train_score = rf_accuracy(rf, X_train.to_numpy(), y_train.to_numpy(), B, roc_threshold)\n",
    "        val_score = rf_accuracy(rf, X_val.to_numpy(), y_val.to_numpy(), B, roc_threshold)\n",
    "        \n",
    "        # store the training scores and validation scores\n",
    "        train_scores.append(train_score)\n",
    "        val_scores.append(val_score)\n",
    "\n",
    "    return train_scores, val_scores"
   ]
  },
  {
   "cell_type": "markdown",
   "metadata": {},
   "source": [
    "The function `grid_search_rf` loops through the list of B values and max_depth values pairwise to find the number of decision trees and maximum depth of decision trees which gives the highest average accuracy for the validation set."
   ]
  },
  {
   "cell_type": "code",
   "execution_count": 320,
   "metadata": {},
   "outputs": [],
   "source": [
    "def grid_search_rf(X, y, num_folds, hyperparameters, sample_weights, roc_threshold):\n",
    "    \"\"\"\n",
    "    Performs grid search over hyperparameters.\n",
    "    Arguments:\n",
    "        X: data of size (n, d)\n",
    "        y: true label vector of size (n, 1)\n",
    "        num_folds: number of folds for cross-validation\n",
    "        hyperparameters: a dictionary containing list of hyperparameters (B and max_depth)\n",
    "        sample_weights:  weights for each samples, of shape (N,)\n",
    "        roc_threshold: threshold probability for a label to be classified as 1\n",
    "    Returns:\n",
    "        best_B: B which gives the highest average accuracy for the validation set when paired with best_max_depth\n",
    "        best_max_depth: max_depth which gives the highest average accuracy for the validation set when paired with best_B\n",
    "        best_mean_val: highest average accuracy for the validation set\n",
    "    \"\"\"\n",
    "    B_list = hyperparameters[\"B\"]\n",
    "    max_depth_list = hyperparameters[\"max_depth\"]\n",
    "    best_B = B_list[0]\n",
    "    best_max_depth = max_depth_list[0]\n",
    "    best_mean_val = 0\n",
    "    mean_val_list = []\n",
    "    for B in B_list:\n",
    "        for max_depth in max_depth_list:\n",
    "            # compute accuracy for each training/validation split\n",
    "            train_scores, val_scores = cross_val_evaluate_rf(X, y, num_folds, B, max_depth, sample_weights, roc_threshold)\n",
    "            \n",
    "            # compute average accuracy\n",
    "            mean_train = np.mean(train_scores)\n",
    "            mean_val = np.mean(val_scores)\n",
    "            # print(\"B = {}, max_depth = {}: mean training accuracy is {}, mean validation accuracy is {}\".format(B, max_depth, mean_train, mean_val))\n",
    "            mean_val_list.append(mean_val)\n",
    "            \n",
    "            # update best B, best max_depth and highest average accuracy for validation set\n",
    "            if mean_val > best_mean_val:\n",
    "                best_B = B\n",
    "                best_max_depth = max_depth\n",
    "                best_mean_val = mean_val\n",
    "    return best_B, best_max_depth, best_mean_val, mean_val_list"
   ]
  },
  {
   "cell_type": "markdown",
   "metadata": {},
   "source": [
    "We now employ a 4-fold cross validation to tune the the number of decision trees, B and the maximum depth of decision trees, max_depth."
   ]
  },
  {
   "cell_type": "code",
   "execution_count": 321,
   "metadata": {},
   "outputs": [],
   "source": [
    "hyperparameters = {\"B\": [40, 50, 60, 70, 80], \"max_depth\": [5, 6, 7, 8, 9]}\n",
    "best_B, best_max_depth, best_mean_val, mean_val_list = grid_search_rf(X_d_train, y_d_train, 4, hyperparameters, training_weights, 0.5)"
   ]
  },
  {
   "cell_type": "code",
   "execution_count": 322,
   "metadata": {},
   "outputs": [
    {
     "data": {
      "image/png": "[encoded data removed]",
      "text/plain": [
       "<Figure size 864x720 with 2 Axes>"
      ]
     },
     "metadata": {
      "needs_background": "light"
     },
     "output_type": "display_data"
    }
   ],
   "source": [
    "# Heatmap of average accuracy for pairs of hyperparameters for unweighted bootstrap\n",
    "combination_list = [p for p in product(hyperparameters[\"B\"], hyperparameters[\"max_depth\"])]\n",
    "df_h_uw = pd.DataFrame(combination_list, columns=[\"B\",\"max_depth\"])\n",
    "df_h_uw[\"Average Accuracy\"] = mean_val_list\n",
    "df_h_uw = df_h_uw.pivot(\"B\", \"max_depth\", \"Average Accuracy\")\n",
    "fig, ax = plt.subplots(figsize=(12,10)) \n",
    "sns.heatmap(df_h_uw, annot=True)\n",
    "plt.title(\"Heatmap of average accuracy for pairs of hyperparameters for unweighted bootstrap\", fontsize=20)\n",
    "ax.invert_yaxis()"
   ]
  },
  {
   "cell_type": "code",
   "execution_count": 323,
   "metadata": {},
   "outputs": [
    {
     "name": "stdout",
     "output_type": "stream",
     "text": [
      "The optimal value of B is 50 and optimal value of max_depth is 8\n"
     ]
    }
   ],
   "source": [
    "print(\"The optimal value of B is {} and optimal value of max_depth is {}\".format(best_B, best_max_depth))"
   ]
  },
  {
   "cell_type": "markdown",
   "metadata": {
    "id": "PK7zBGxALJNc"
   },
   "source": [
    "2.1.2"
   ]
  },
  {
   "cell_type": "markdown",
   "metadata": {},
   "source": [
    "We will now retrain the model on the entire training dataset using the optimal B and max_depth found above."
   ]
  },
  {
   "cell_type": "code",
   "execution_count": 324,
   "metadata": {
    "id": "rZTq3yBMJarN"
   },
   "outputs": [],
   "source": [
    "n_features = int(np.sqrt(X_d_train.shape[1]))\n",
    "best_rf = train_rf(best_B, n_features, best_max_depth, X_d_train, y_d_train, columns_dict, training_weights)"
   ]
  },
  {
   "cell_type": "markdown",
   "metadata": {},
   "source": [
    "The function `rf_scores` computes the the following quality measures:\n",
    "1. $\\text{precision}=\\frac{TP}{TP + FP}$\n",
    "2. $\\text{F-score}=2 \\cdot \\frac{\\text{precision} \\cdot \\text{recall}}{\\text{precision} + \\text{recall}}$\n",
    "3. $\\text{recall} = \\frac{TP}{TP + FN}$\n",
    "4. $\\text{false positive rate} = \\frac{FP}{TN + FP}$"
   ]
  },
  {
   "cell_type": "code",
   "execution_count": 325,
   "metadata": {},
   "outputs": [],
   "source": [
    "# precision, F-score, recall, fpr\n",
    "def rf_scores(rf, X_test, y_test, B, roc_threshold):\n",
    "    y_pred = predict_rf(rf, X_test, B, roc_threshold)\n",
    "    TP = 0\n",
    "    FP = 0\n",
    "    FN = 0\n",
    "    TN = 0\n",
    "    for i in range(len(y_test)):\n",
    "        if y_pred[i] == y_test[i] == 1:\n",
    "            TP +=1\n",
    "        elif y_pred[i] == 1 and y_test[i] == 0:\n",
    "            FP +=1\n",
    "        elif y_pred[i] == 0 and y_test[i] == 1:\n",
    "            FN += 1\n",
    "        else:\n",
    "            TN += 1\n",
    "    recall = TP / (TP + FN)\n",
    "    fpr = FP / (TN + FP) \n",
    "    if (TP + FP) == 0:\n",
    "        precision = None\n",
    "        F_score = None\n",
    "    else:\n",
    "        precision = TP / (TP + FP)\n",
    "        F_score = 2 * precision * recall / (precision + recall)\n",
    "    return precision, F_score, recall, fpr"
   ]
  },
  {
   "cell_type": "code",
   "execution_count": 326,
   "metadata": {},
   "outputs": [],
   "source": [
    "# Compute accuracy, precision and F-score\n",
    "acc_train = rf_accuracy(best_rf, X_d_train.to_numpy(), y_d_train.to_numpy(), best_B, 0.5)\n",
    "acc_test = rf_accuracy(best_rf, X_d_test.to_numpy(), y_d_test.to_numpy(), best_B, 0.5)\n",
    "scores_train = rf_scores(best_rf, X_d_train.to_numpy(), y_d_train.to_numpy(), best_B, 0.5)\n",
    "scores_test = rf_scores(best_rf, X_d_test.to_numpy(), y_d_test.to_numpy(), best_B, 0.5)"
   ]
  },
  {
   "cell_type": "code",
   "execution_count": 327,
   "metadata": {},
   "outputs": [
    {
     "data": {
      "text/html": [
       "<style  type=\"text/css\" >\n",
       "    #T_684fe_ th {\n",
       "          font-size: 14pt;\n",
       "    }#T_684fe_row0_col0,#T_684fe_row0_col1,#T_684fe_row0_col2,#T_684fe_row1_col0,#T_684fe_row1_col1,#T_684fe_row1_col2{\n",
       "            font-size:  14pt;\n",
       "        }</style><table id=\"T_684fe_\" ><thead>    <tr>        <th class=\"blank level0\" ></th>        <th class=\"col_heading level0 col0\" >Accuracy</th>        <th class=\"col_heading level0 col1\" >Precision</th>        <th class=\"col_heading level0 col2\" >F-score</th>    </tr></thead><tbody>\n",
       "                <tr>\n",
       "                        <th id=\"T_684fe_level0_row0\" class=\"row_heading level0 row0\" >Training</th>\n",
       "                        <td id=\"T_684fe_row0_col0\" class=\"data row0 col0\" >0.996337</td>\n",
       "                        <td id=\"T_684fe_row0_col1\" class=\"data row0 col1\" >1.000000</td>\n",
       "                        <td id=\"T_684fe_row0_col2\" class=\"data row0 col2\" >0.988506</td>\n",
       "            </tr>\n",
       "            <tr>\n",
       "                        <th id=\"T_684fe_level0_row1\" class=\"row_heading level0 row1\" >Test</th>\n",
       "                        <td id=\"T_684fe_row1_col0\" class=\"data row1 col0\" >0.931624</td>\n",
       "                        <td id=\"T_684fe_row1_col1\" class=\"data row1 col1\" >0.833333</td>\n",
       "                        <td id=\"T_684fe_row1_col2\" class=\"data row1 col2\" >0.714286</td>\n",
       "            </tr>\n",
       "    </tbody></table>"
      ],
      "text/plain": [
       "<pandas.io.formats.style.Styler at 0x7f8e7c2996d0>"
      ]
     },
     "execution_count": 327,
     "metadata": {},
     "output_type": "execute_result"
    }
   ],
   "source": [
    "# Table of unweighted random forest scores\n",
    "data_rf = {'Accuracy': [acc_train, acc_test], 'Precision': [scores_train[0], scores_test[0]], 'F-score':[scores_train[1], scores_test[1]]}\n",
    "df_rf = pd.DataFrame(data_rf, index=['Training', 'Test'])\n",
    "df_rf = df_rf.style.set_properties(**{'font-size': '14pt'})\n",
    "df_rf = df_rf.set_table_styles([{'selector': 'th', 'props': [('font-size', '14pt')]}])\n",
    "df_rf"
   ]
  },
  {
   "cell_type": "markdown",
   "metadata": {},
   "source": [
    "From the table above, we observe that the precision and F-score on the test set is relatively low compared to the accuracy on the test set. This implies that the dataset might be imbalanced, where the high accuracy is due to the fact that the majority class only is well predicted, whereas the low precision and F-score conveys that the minority class is not well predicted."
   ]
  },
  {
   "cell_type": "markdown",
   "metadata": {
    "id": "gaYIvbY1LKVl"
   },
   "source": [
    "2.1.3"
   ]
  },
  {
   "cell_type": "code",
   "execution_count": 339,
   "metadata": {},
   "outputs": [
    {
     "name": "stdout",
     "output_type": "stream",
     "text": [
      "Frequency of No Diabetes outcomes is 229\n",
      "Frequency of Diabetes outcomes is 44\n"
     ]
    }
   ],
   "source": [
    "freq_0 = np.sum(y_d_train == 0)\n",
    "freq_1 = np.sum(y_d_train == 1)\n",
    "print(\"Frequency of No Diabetes outcomes is {}\".format(freq_0))\n",
    "print(\"Frequency of Diabetes outcomes is {}\".format(freq_1))"
   ]
  },
  {
   "cell_type": "markdown",
   "metadata": {},
   "source": [
    "We observe that the frequency of No Diabetes outcome is much higher than the frequency of Diabetes outcome, thus the dataset *diabetets_samples.csv* is unbalanced. We introduce weights that are inversely proportional to the frequency of each outcome so that No Diabetes outcome will have less weight and Diabetes outcome will have higher weight to balance the diagnosis outcomes."
   ]
  },
  {
   "cell_type": "code",
   "execution_count": 340,
   "metadata": {},
   "outputs": [],
   "source": [
    "# inverse of number of samples\n",
    "training_weights_balanced = np.zeros(len(y_d_train))\n",
    "for i in range(len(y_d_train)):\n",
    "    if y_d_train.to_numpy()[i] == 1:\n",
    "        training_weights_balanced[i] = 1 / freq_1\n",
    "    else:\n",
    "        training_weights_balanced[i] = 1 / freq_0"
   ]
  },
  {
   "cell_type": "markdown",
   "metadata": {},
   "source": [
    "We now employ a 4-fold cross validation using the weighted samples to tune the the number of decision trees, B and the maximum depth of decision trees, max_depth."
   ]
  },
  {
   "cell_type": "code",
   "execution_count": 341,
   "metadata": {},
   "outputs": [],
   "source": [
    "best_B_balanced, best_max_depth_balanced, best_mean_val_balanced, mean_val_list_balanced = grid_search_rf(X_d_train, y_d_train, 4, hyperparameters, training_weights_balanced, 0.5)"
   ]
  },
  {
   "cell_type": "code",
   "execution_count": 342,
   "metadata": {},
   "outputs": [
    {
     "data": {
      "image/png": "[encoded data removed]",
      "text/plain": [
       "<Figure size 864x720 with 2 Axes>"
      ]
     },
     "metadata": {
      "needs_background": "light"
     },
     "output_type": "display_data"
    }
   ],
   "source": [
    "# Heatmap of average accuracy for pairs of hyperparameters for weighted bootstrap\n",
    "df_h_w = pd.DataFrame(combination_list, columns=[\"B\",\"max_depth\"])\n",
    "df_h_w[\"Average Accuracy\"] = mean_val_list_balanced\n",
    "df_h_w = df_h_w.pivot(\"B\", \"max_depth\", \"Average Accuracy\")\n",
    "fig, ax = plt.subplots(figsize=(12,10)) \n",
    "sns.heatmap(df_h_w, annot=True)\n",
    "plt.title(\"Heatmap of average accuracy for pairs of hyperparameters for weighted bootstrap\", fontsize=20)\n",
    "ax.invert_yaxis()"
   ]
  },
  {
   "cell_type": "code",
   "execution_count": 343,
   "metadata": {},
   "outputs": [
    {
     "name": "stdout",
     "output_type": "stream",
     "text": [
      "For the weighted samples, the optimal value of B is 40 and optimal value of max_depth is 6\n"
     ]
    }
   ],
   "source": [
    "print(\"For the weighted samples, the optimal value of B is {} and optimal value of max_depth is {}\".format(best_B_balanced, best_max_depth_balanced))"
   ]
  },
  {
   "cell_type": "markdown",
   "metadata": {},
   "source": [
    "We will now retrain the model on the entire weighted training dataset using the optimal B and max_depth found above."
   ]
  },
  {
   "cell_type": "code",
   "execution_count": 344,
   "metadata": {
    "scrolled": true
   },
   "outputs": [],
   "source": [
    "# Compute accuracy, preciison and F-score\n",
    "best_rf_balanced = train_rf(best_B_balanced, n_features, best_max_depth_balanced, X_d_train, y_d_train, columns_dict, training_weights_balanced)\n",
    "acc_train_balanced = rf_accuracy(best_rf_balanced, X_d_train.to_numpy(), y_d_train.to_numpy(), best_B_balanced, 0.5)\n",
    "acc_test_balanced = rf_accuracy(best_rf_balanced, X_d_test.to_numpy(), y_d_test.to_numpy(), best_B_balanced, 0.5)\n",
    "scores_train_balanced = rf_scores(best_rf_balanced, X_d_train.to_numpy(), y_d_train.to_numpy(), best_B_balanced, 0.5)\n",
    "scores_test_balanced = rf_scores(best_rf_balanced, X_d_test.to_numpy(), y_d_test.to_numpy(), best_B_balanced, 0.5)"
   ]
  },
  {
   "cell_type": "code",
   "execution_count": 345,
   "metadata": {},
   "outputs": [
    {
     "data": {
      "text/html": [
       "<style  type=\"text/css\" >\n",
       "    #T_5de6b_ th {\n",
       "          font-size: 14pt;\n",
       "    }#T_5de6b_row0_col0,#T_5de6b_row0_col1,#T_5de6b_row0_col2,#T_5de6b_row1_col0,#T_5de6b_row1_col1,#T_5de6b_row1_col2{\n",
       "            font-size:  14pt;\n",
       "        }</style><table id=\"T_5de6b_\" ><thead>    <tr>        <th class=\"blank level0\" ></th>        <th class=\"col_heading level0 col0\" >Accuracy</th>        <th class=\"col_heading level0 col1\" >Precision</th>        <th class=\"col_heading level0 col2\" >F-score</th>    </tr></thead><tbody>\n",
       "                <tr>\n",
       "                        <th id=\"T_5de6b_level0_row0\" class=\"row_heading level0 row0\" >Training</th>\n",
       "                        <td id=\"T_5de6b_row0_col0\" class=\"data row0 col0\" >0.963370</td>\n",
       "                        <td id=\"T_5de6b_row0_col1\" class=\"data row0 col1\" >0.840000</td>\n",
       "                        <td id=\"T_5de6b_row0_col2\" class=\"data row0 col2\" >0.893617</td>\n",
       "            </tr>\n",
       "            <tr>\n",
       "                        <th id=\"T_5de6b_level0_row1\" class=\"row_heading level0 row1\" >Test</th>\n",
       "                        <td id=\"T_5de6b_row1_col0\" class=\"data row1 col0\" >0.923077</td>\n",
       "                        <td id=\"T_5de6b_row1_col1\" class=\"data row1 col1\" >0.705882</td>\n",
       "                        <td id=\"T_5de6b_row1_col2\" class=\"data row1 col2\" >0.727273</td>\n",
       "            </tr>\n",
       "    </tbody></table>"
      ],
      "text/plain": [
       "<pandas.io.formats.style.Styler at 0x7f8e91be3ee0>"
      ]
     },
     "execution_count": 345,
     "metadata": {},
     "output_type": "execute_result"
    }
   ],
   "source": [
    "# Table of weighted random forest scores\n",
    "data_rf_w = {'Accuracy': [acc_train_balanced, acc_test_balanced], 'Precision': [scores_train_balanced[0], scores_test_balanced[0]], 'F-score':[scores_train_balanced[1], scores_test_balanced[1]]}\n",
    "df_rf_w = pd.DataFrame(data_rf_w, index=['Training', 'Test'])\n",
    "df_rf_w = df_rf_w.style.set_properties(**{'font-size': '14pt'})\n",
    "df_rf_w = df_rf_w.set_table_styles([{'selector': 'th', 'props': [('font-size', '14pt')]}])\n",
    "df_rf_w"
   ]
  },
  {
   "cell_type": "markdown",
   "metadata": {},
   "source": [
    "The function `curve` computes the quality measures required to plot roc curve and precision-recall curve for each threshold. It returns the area under each curve as well."
   ]
  },
  {
   "cell_type": "code",
   "execution_count": 346,
   "metadata": {},
   "outputs": [],
   "source": [
    "def curve(rf, X_test, y_test, B, roc_threshold_list):\n",
    "    \"\"\"\n",
    "    Arguments:\n",
    "        rf: random forest model\n",
    "        X_test: data of size (n, d)\n",
    "        y_test: true label vector of size (n, d)\n",
    "        B: number of decision trees\n",
    "        roc_threshold_list: list of thresholds sorted descendingly.\n",
    "  \n",
    "    Returns:\n",
    "        auc: area under the curve (AUC).\n",
    "        tpr_l: a list of true positive rate (TPR) values for each threshold.\n",
    "        fpr_l: a list of false positive rate (FPR) values for each threshold.\n",
    "    \"\"\"\n",
    "    tpr_l, fpr_l, precision_l = [], [], []\n",
    "    count_list = []\n",
    "    count = 0\n",
    "    \n",
    "    for roc_threshold in roc_threshold_list:\n",
    "        # compute quality measures required to plot roc curve and precision-recall curve\n",
    "        precision, F_score, tpr, fpr = rf_scores(rf, X_test, y_test, B, roc_threshold)\n",
    "        tpr_l.append(tpr)\n",
    "        fpr_l.append(fpr)\n",
    "        if precision is not None:\n",
    "            precision_l.append(precision)\n",
    "            count_list.append(count)\n",
    "        count += 1\n",
    "        \n",
    "    # Compute AUC using Trapezoidal rule\n",
    "    auc_roc = np.trapz(tpr_l, fpr_l)\n",
    "    tpr_l_r = [tpr_l[i] for i in count_list]\n",
    "    auc_pr = np.trapz(precision_l, tpr_l_r)\n",
    "    return auc_roc, auc_pr, tpr_l, tpr_l_r, fpr_l, precision_l"
   ]
  },
  {
   "cell_type": "code",
   "execution_count": 347,
   "metadata": {},
   "outputs": [],
   "source": [
    "roc_threshold_list = np.flip(np.arange(0, 1.05, 0.05))\n",
    "auc_roc, auc_pr, tpr, tpr_r, fpr, precision = curve(best_rf, X_d_test.to_numpy(), y_d_test.to_numpy(), best_B, roc_threshold_list)\n",
    "auc_roc_balanced, auc_pr_balanced, tpr_balanced, tpr_r_balanced, fpr_balanced, precision_balanced = curve(best_rf_balanced, X_d_test.to_numpy(), y_d_test.to_numpy(), best_B_balanced, roc_threshold_list)"
   ]
  },
  {
   "cell_type": "code",
   "execution_count": 348,
   "metadata": {},
   "outputs": [
    {
     "data": {
      "image/png": "[encoded data removed]",
      "text/plain": [
       "<Figure size 864x576 with 1 Axes>"
      ]
     },
     "metadata": {
      "needs_background": "light"
     },
     "output_type": "display_data"
    }
   ],
   "source": [
    "# ROC curve\n",
    "plt.figure(figsize=(12,8))\n",
    "plt.title(f\"Receiver Operating Curve\", size=20)\n",
    "plt.plot(fpr, tpr, 'b', label = f'AUC_unweighted = {auc_roc:0.2f}')\n",
    "plt.plot([0, 1], [0, 1],'r--')\n",
    "plt.xlim([0, 1])\n",
    "plt.ylim([0, 1])\n",
    "plt.ylabel('TPR', size=20)\n",
    "plt.xlabel('FPR', size=20)\n",
    "plt.plot(fpr_balanced, tpr_balanced, 'g', label = f'AUC_weighted = {auc_roc_balanced:0.2f}')\n",
    "plt.legend(loc = 'lower right')\n",
    "plt.show()"
   ]
  },
  {
   "cell_type": "markdown",
   "metadata": {},
   "source": [
    "According to the ROC curve, the AUC for the random forest classifier with weighted bootstrap is higher than the AUC of the random forest classifier with standard bootstrap. This implies the random forest classifier with weighted bootstrap has better discriminating ability than the random forest classfier with standard bootstrap."
   ]
  },
  {
   "cell_type": "code",
   "execution_count": 349,
   "metadata": {},
   "outputs": [
    {
     "data": {
      "image/png": "[encoded data removed]",
      "text/plain": [
       "<Figure size 864x576 with 1 Axes>"
      ]
     },
     "metadata": {
      "needs_background": "light"
     },
     "output_type": "display_data"
    }
   ],
   "source": [
    "# Precision-Recall curve\n",
    "plt.figure(figsize=(12,8))\n",
    "plt.title(f\"Precision-Recall Curve\", size=20)\n",
    "plt.plot(tpr_r, precision, 'b', label = f'AUC_unweighted = {auc_pr:0.2f}')\n",
    "plt.xlim([0, 1])\n",
    "plt.ylim([0, 1])\n",
    "plt.ylabel('Precision', size=20)\n",
    "plt.xlabel('Recall', size=20)\n",
    "plt.plot(tpr_r_balanced, precision_balanced, 'g', label = f'AUC_weighted = {auc_pr_balanced:0.2f}')\n",
    "plt.legend(loc = 'lower right')\n",
    "plt.show()"
   ]
  },
  {
   "cell_type": "markdown",
   "metadata": {},
   "source": [
    "According to the precision-recall curve, the AUC for the random forest classifier with weighted bootstrap is much higher than the AUC of the random forest classifier with standard bootstrap. This implies that the random forest classifier with weighted bootstrap is better at prediciting the minority class compared to the random forest classifier with standard bootstrap. This is also further affirmed by the fact that the F-score of the random forest classifier with weighted bootstrap is higher than the random forest classifier with standard bootstrap."
   ]
  },
  {
   "cell_type": "markdown",
   "metadata": {
    "id": "Apzf5DJeJa_h"
   },
   "source": [
    "#### 2.2\tSupport Vector Machine (SVM) (30 marks)\n",
    "2.2.1"
   ]
  },
  {
   "cell_type": "markdown",
   "metadata": {},
   "source": [
    "For the target variable *diabetes*, we will replace the category `No diabetes` with `-1` and the category `Diabetes` with `1`."
   ]
  },
  {
   "cell_type": "code",
   "execution_count": 350,
   "metadata": {
    "id": "xRKvys8fJewE"
   },
   "outputs": [],
   "source": [
    "# convert categorical labels to 1: Diabetes and -1: No Diabetes\n",
    "y_d_train_svm = y_d_train.copy()\n",
    "y_d_train_svm = y_d_train.map({0: -1.0, 1: 1.0})\n",
    "y_d_test_svm = y_d_test.copy()\n",
    "y_d_test_svm = y_d_test.map({0: -1.0, 1: 1.0})"
   ]
  },
  {
   "cell_type": "markdown",
   "metadata": {},
   "source": [
    "We standardise `X_d_train` and `X_d_test` using the `standardise_train` and `standardise_test` functions defined above. We also insert a column of ones in the first column of each X to include the intercept b. We assign the processed training dataset to `X_d_train_svm` and the processed test dataset to `X_d_test_svm`."
   ]
  },
  {
   "cell_type": "code",
   "execution_count": 351,
   "metadata": {},
   "outputs": [],
   "source": [
    "# standardise X and insert 1 in every row for intercept b\n",
    "X_d_train_s = standardise_train(X_d_train)\n",
    "X_d_train_svm = np.hstack((X_d_train_s, np.ones((len(X_d_train_s),1))))\n",
    "X_d_test_s = standardise_test(X_d_train, X_d_test)\n",
    "X_d_test_svm = np.hstack((X_d_test_s, np.ones((len(X_d_test_s),1))))"
   ]
  },
  {
   "cell_type": "markdown",
   "metadata": {},
   "source": [
    "We aim to minimise the loss function for the soft-margin linear SVM classifier:\n",
    "$$\n",
    "\\mathcal L (\\boldsymbol w) = \\frac{1}{2} \\| \\boldsymbol w \\|^2 + \\lambda \\sum_{i=1}^N \\max \\bigg( 0, 1-y^{(i)} (x^{(i)} \\cdot \\boldsymbol w  + b) \\bigg) \\, .\n",
    "$$\n",
    "where $\\boldsymbol w$ is the vector of weights, $\\lambda$ the regularisation parameter, and $b$ the intercept which is included in our `X` as an additional column of $1$'s. <br>\n",
    "The `compute_cost` function computes the cost using the formula above."
   ]
  },
  {
   "cell_type": "code",
   "execution_count": 352,
   "metadata": {},
   "outputs": [],
   "source": [
    "def compute_cost(w, X, y, regul_strength):\n",
    "    n = X.shape[0]\n",
    "    distances = 1 - y * (X @ w)\n",
    "    distances[distances < 0] = 0  # equivalent to max(0, distance)\n",
    "    hinge = regul_strength * np.sum(distances)\n",
    "\n",
    "    # calculate cost\n",
    "    return 0.5 * np.dot(w, w) + hinge -0.5*w[-1]**2"
   ]
  },
  {
   "cell_type": "markdown",
   "metadata": {},
   "source": [
    "The function `calculate_cost_gradient` computes the gradients of the cost with respect to $\\boldsymbol w$."
   ]
  },
  {
   "cell_type": "code",
   "execution_count": 353,
   "metadata": {},
   "outputs": [],
   "source": [
    "def calculate_cost_gradient(w, X_batch, y_batch, regul_strength):\n",
    "    # if only one example is passed\n",
    "    if type(y_batch) == np.float64:\n",
    "        y_batch = np.asarray([y_batch])\n",
    "        X_batch = np.asarray([X_batch])  # gives multidimensional array\n",
    "\n",
    "    distance = 1 - (y_batch * (X_batch @ w))\n",
    "    dw = np.zeros(len(w))\n",
    "\n",
    "    we = w.copy() # So as not to overwrite w\n",
    "    we[-1] = 0 # So as not to have b in its derivative when adding the weights in di\n",
    "    \n",
    "    for ind, d in enumerate(distance):\n",
    "        if max(0, d)==0:\n",
    "            di = we/len(y_batch) # derivative of first term\n",
    "        else:\n",
    "            di = we/len(y_batch) - (regul_strength * y_batch[ind] * X_batch[ind])\n",
    "        dw += di\n",
    "\n",
    "    return dw"
   ]
  },
  {
   "cell_type": "markdown",
   "metadata": {},
   "source": [
    "The `sgd` function implements stochastic gradient descent to update the weights iteratively with learning rate $\\alpha$ using the formula below:\n",
    "$$\n",
    "\\boldsymbol w = \\boldsymbol w - \\alpha \\frac{\\partial \\mathcal L}{\\partial \\boldsymbol w}\n",
    "$$\n",
    "A stop criterion is implemented so that the algorithm stops when the change in the cost function is not significant."
   ]
  },
  {
   "cell_type": "code",
   "execution_count": 354,
   "metadata": {},
   "outputs": [],
   "source": [
    "def sgd(X, y, max_iterations, stop_criterion, learning_rate, regul_strength, print_outcome=False):\n",
    "  \n",
    "    # initialise zero weights\n",
    "    weights = np.zeros(X.shape[1])\n",
    "    nth = 0\n",
    "    # initialise starting cost as infinity\n",
    "    prev_cost = np.inf\n",
    "  \n",
    "    # stochastic gradient descent\n",
    "    indices = np.arange(len(y))\n",
    "\n",
    "    for iteration in range(1, max_iterations):\n",
    "        # shuffle to prevent repeating update cycles\n",
    "        np.random.shuffle(indices)\n",
    "        X, y = X[indices], y[indices]\n",
    "    \n",
    "        for xi, yi in zip(X, y):\n",
    "            descent = calculate_cost_gradient(weights, xi, yi, regul_strength)\n",
    "            weights = weights - (learning_rate * descent)\n",
    "\n",
    "        # convergence check on 2^n'th iteration\n",
    "        if iteration==2**nth or iteration==max_iterations-1:\n",
    "            # compute cost\n",
    "            cost = compute_cost(weights, X, y, regul_strength)\n",
    "            if print_outcome:\n",
    "                print(\"Iteration is: {}, Cost is: {}\".format(iteration, cost))\n",
    "            # stop criterion\n",
    "            if abs(prev_cost - cost) < stop_criterion * prev_cost:\n",
    "                return weights\n",
    "        \n",
    "            prev_cost = cost\n",
    "            nth += 1\n",
    "  \n",
    "    return weights"
   ]
  },
  {
   "cell_type": "markdown",
   "metadata": {},
   "source": [
    "The function `svm_accuracy` computes the accuracy of the predicted values of y."
   ]
  },
  {
   "cell_type": "code",
   "execution_count": 355,
   "metadata": {},
   "outputs": [],
   "source": [
    "def svm_accuracy(w, X, y):\n",
    "    y_preds = np.sign(X @ w)\n",
    "    return np.mean(y == y_preds)"
   ]
  },
  {
   "cell_type": "markdown",
   "metadata": {},
   "source": [
    "The function `cross_val_evaluate_svm` implements T-fold cross validation and returns the accuracy for the training dataset and validation set at each training/validation split."
   ]
  },
  {
   "cell_type": "code",
   "execution_count": 356,
   "metadata": {},
   "outputs": [],
   "source": [
    "def cross_val_evaluate_svm(X, y, num_folds, regul_strength):\n",
    "    folds = cross_val_split_pd(X, num_folds)\n",
    "\n",
    "    train_scores = []\n",
    "    val_scores = []\n",
    "  \n",
    "    for i in range(len(folds)):\n",
    "\n",
    "        val_indices = folds[i]\n",
    "        train_indices = list(set(set(X.index) - set(val_indices)))\n",
    "        \n",
    "        # define the training set\n",
    "        X_train = X.loc[train_indices, :] \n",
    "        y_train = y[train_indices]\n",
    "    \n",
    "        # define the validation set\n",
    "        X_val = X.loc[val_indices, :]  \n",
    "        y_val = y[val_indices]\n",
    "        \n",
    "        # standardise X\n",
    "        X_train_z = standardise_train(X_train)\n",
    "        X_val_z = standardise_test(X_train, X_val)\n",
    "        \n",
    "        # insert 1 in every row for intercept b\n",
    "        X_train_z = np.hstack((X_train_z, np.ones((len(X_train_z),1))))\n",
    "        X_val_z = np.hstack((X_val_z, np.ones((len(X_val_z),1)))) \n",
    "        \n",
    "        y_train = y_train.to_numpy()\n",
    "        y_val = y_val.to_numpy()\n",
    "\n",
    "        # train the model\n",
    "        w = sgd(X_train_z, y_train, max_iterations=10000, stop_criterion=0.0001, learning_rate=1e-6, regul_strength=regul_strength)\n",
    "\n",
    "        # evaluate the scores of the training and validation set\n",
    "        train_score = svm_accuracy(w, X_train_z, y_train)\n",
    "        val_score = svm_accuracy(w, X_val_z, y_val)\n",
    "        \n",
    "        # store the training scores and validation scores\n",
    "        train_scores.append(train_score)\n",
    "        val_scores.append(val_score)\n",
    "\n",
    "    return train_scores, val_scores"
   ]
  },
  {
   "cell_type": "markdown",
   "metadata": {},
   "source": [
    "The function `find_best_lambda` loops through the list of $\\lambda$ values to find the $\\lambda$ which gives the highest average accuracy for the validation set."
   ]
  },
  {
   "cell_type": "code",
   "execution_count": 357,
   "metadata": {},
   "outputs": [],
   "source": [
    "def find_best_lambda(X, y, num_folds, regul_strength_list):\n",
    "    best_lambda = regul_strength_list[0]\n",
    "    best_mean_val = 0\n",
    "    mean_train_list =[]\n",
    "    mean_val_list = []\n",
    "    for regul_strength in regul_strength_list:\n",
    "        # compute accuracy for each training/validation split\n",
    "        train_scores, val_scores = cross_val_evaluate_svm(X, y, num_folds, regul_strength)\n",
    "        \n",
    "        # compute average accuracy\n",
    "        mean_train = np.mean(train_scores)\n",
    "        mean_val = np.mean(val_scores)\n",
    "        # print(\"λ = {}: mean training accuracy is {}, mean validation accuracy is {}\".format(regul_strength, mean_train, mean_val))\n",
    "        \n",
    "        # store the average MSE for training and validation set\n",
    "        mean_train_list.append(mean_train)\n",
    "        mean_val_list.append(mean_val)\n",
    "        \n",
    "        # update best λ and highest average accuracy for validation set\n",
    "        if mean_val > best_mean_val:\n",
    "            best_lambda = regul_strength\n",
    "            best_mean_val = mean_val\n",
    "    return best_lambda, best_mean_val, mean_train_list, mean_val_list"
   ]
  },
  {
   "cell_type": "markdown",
   "metadata": {},
   "source": [
    "We now employ a 4-fold cross validation to tune the hardness hyperparameter $\\lambda$."
   ]
  },
  {
   "cell_type": "code",
   "execution_count": 358,
   "metadata": {},
   "outputs": [],
   "source": [
    "regul_strength_list = 10 ** np.arange(-3, 7, dtype=float)\n",
    "best_lambda, best_mean_val, mean_train_list, mean_val_list = find_best_lambda(X_d_train, y_d_train_svm, 4, regul_strength_list)"
   ]
  },
  {
   "cell_type": "code",
   "execution_count": 359,
   "metadata": {},
   "outputs": [
    {
     "data": {
      "image/png": "[encoded data removed]",
      "text/plain": [
       "<Figure size 864x576 with 1 Axes>"
      ]
     },
     "metadata": {
      "needs_background": "light"
     },
     "output_type": "display_data"
    }
   ],
   "source": [
    "fig, ax = plt.subplots(figsize=(12,8))\n",
    "plt.plot(np.log10(regul_strength_list), mean_train_list, label=\"Training Data\", marker='o')\n",
    "plt.plot(np.log10(regul_strength_list), mean_val_list, label=\"Validation Data\", marker='o')\n",
    "plt.axvline(x=np.log10(best_lambda), color='r')\n",
    "plt.xlabel(\"log10(λ)\", fontsize=14)\n",
    "plt.ylabel(\"Average Accuracy\", fontsize=14)\n",
    "plt.title(\"Plot of log10(λ) against Average Accuracy\", fontsize=20)\n",
    "plt.xticks(size=14)\n",
    "plt.yticks(size=14)\n",
    "ax.legend(loc=\"best\",fontsize=14)\n",
    "plt.show()"
   ]
  },
  {
   "cell_type": "markdown",
   "metadata": {},
   "source": [
    "The average accuracy incrases as the hardness parameter $\\lambda$ increases from $\\log_{10}(\\lambda)=0$ and reaches maximum at $\\log_{10}(\\lambda)=2$. After $\\log_{10}(\\lambda)=2$, the average accuracy gradually decreases. <br>\n",
    "In the limit of small $\\lambda$, i.e. low hardness, the model is less constrained by the regularisation and more flexible, resulting in a wider margin and more misclassifications. The variance increases and the bias decreases. If the $\\lambda$ is too small, the model may become too complex, thus increasing the risk of overfitting.<br> \n",
    "In the limit of large $\\lambda$, i.e. high hardness, this optimisation approcahes the hard-margin SVM, which requires the data points to be separable in d-dimensional space. This is infeasible when the separating hyperplane does not exist. The model is more constrained by the regularisation, resulting in a narrower margin and less misclassifications. The variance decreases and the bias increases. If the $\\lambda$ is too large, the model may become too simple, thus increasing the risk of underfitting."
   ]
  },
  {
   "cell_type": "code",
   "execution_count": 360,
   "metadata": {},
   "outputs": [
    {
     "name": "stdout",
     "output_type": "stream",
     "text": [
      "The optimal value of λ is 100.0\n"
     ]
    }
   ],
   "source": [
    "print(\"The optimal value of λ is {}\".format(best_lambda))"
   ]
  },
  {
   "cell_type": "markdown",
   "metadata": {
    "id": "UdwSG2udLRH6"
   },
   "source": [
    "2.2.2"
   ]
  },
  {
   "cell_type": "markdown",
   "metadata": {},
   "source": [
    "We store the vectors normal to the hyperplane for each value of $\\lambda$ in a list."
   ]
  },
  {
   "cell_type": "code",
   "execution_count": 361,
   "metadata": {
    "id": "QHn13w3VJe2V"
   },
   "outputs": [],
   "source": [
    "# list of vectors normal to hyperplane\n",
    "w_list = [sgd(X_d_train_svm, y_d_train_svm.to_numpy(), max_iterations=10000, stop_criterion=0.001, learning_rate=1e-6, regul_strength=regul_strength) for regul_strength in regul_strength_list]"
   ]
  },
  {
   "cell_type": "markdown",
   "metadata": {},
   "source": [
    "We compute the cosine angle between each pai of hyperplanes using the function `cosine_angle` and present the results on a square heatmap."
   ]
  },
  {
   "cell_type": "code",
   "execution_count": 362,
   "metadata": {},
   "outputs": [],
   "source": [
    "def cosine_angle(p, q):\n",
    "    return np.dot(p, q) / (np.linalg.norm(p) * np.linalg.norm(q))\n",
    "\n",
    "combination_list_lambda = [p for p in product(regul_strength_list, repeat=2)]\n",
    "combination_list = [p for p in product(w_list, repeat=2)]\n",
    "cosine_angle_list = [cosine_angle(vector[0], vector[1]) for vector in combination_list]"
   ]
  },
  {
   "cell_type": "code",
   "execution_count": 363,
   "metadata": {},
   "outputs": [
    {
     "data": {
      "image/png": "[encoded data removed]",
      "text/plain": [
       "<Figure size 864x720 with 2 Axes>"
      ]
     },
     "metadata": {
      "needs_background": "light"
     },
     "output_type": "display_data"
    }
   ],
   "source": [
    "# plot heatmap\n",
    "df_heatmap = pd.DataFrame(np.log10(combination_list_lambda), columns=[\"log10(λ1)\",\"log10(λ2)\"])\n",
    "df_heatmap[\"cosine angle\"] = cosine_angle_list\n",
    "df_heatmap = df_heatmap.pivot(\"log10(λ1)\", \"log10(λ2)\", \"cosine angle\")\n",
    "fig, ax = plt.subplots(figsize=(12,10)) \n",
    "sns.heatmap(df_heatmap, annot=True)\n",
    "plt.title(\"Heatmap of cosine of the angle between hyperplanes\", fontsize=20)\n",
    "ax.invert_yaxis()"
   ]
  },
  {
   "cell_type": "markdown",
   "metadata": {
    "id": "-Da22_8mLR-w"
   },
   "source": [
    "2.2.3"
   ]
  },
  {
   "cell_type": "markdown",
   "metadata": {},
   "source": [
    "The function `svm_scores` computes precision and F-score of the predicted values of y."
   ]
  },
  {
   "cell_type": "code",
   "execution_count": 364,
   "metadata": {},
   "outputs": [],
   "source": [
    "def svm_scores(w, X_test, y_test):\n",
    "    y_pred = np.sign(X_test @ w)\n",
    "    TP = 0\n",
    "    FP = 0\n",
    "    FN = 0\n",
    "    TN = 0\n",
    "    for i in range(len(y_test)):\n",
    "        if y_pred[i] == y_test[i] == 1:\n",
    "            TP +=1\n",
    "        elif y_pred[i] == 1 and y_test[i] == -1:\n",
    "            FP +=1\n",
    "        elif y_pred[i] == -1 and y_test[i] == 1:\n",
    "            FN += 1\n",
    "    precision = TP / (TP + FP)\n",
    "    recall = TP / (TP + FN)\n",
    "    F_score = 2 * precision * recall / (precision + recall)\n",
    "    return precision, F_score"
   ]
  },
  {
   "cell_type": "markdown",
   "metadata": {},
   "source": [
    "We will now retrain the model on the entire training dataset using the optimal $\\lambda$ found above."
   ]
  },
  {
   "cell_type": "code",
   "execution_count": 365,
   "metadata": {
    "id": "wfcsAet_Je8V"
   },
   "outputs": [],
   "source": [
    "# Compute accuracy, precision and F-score\n",
    "best_w = sgd(X_d_train_svm, y_d_train_svm.to_numpy(), max_iterations=10000, stop_criterion=0.001, learning_rate=1e-5, regul_strength=best_lambda)\n",
    "acc_train_svm = svm_accuracy(best_w, X_d_train_svm, y_d_train_svm.to_numpy())\n",
    "acc_test_svm = svm_accuracy(best_w, X_d_test_svm, y_d_test_svm.to_numpy())\n",
    "scores_train_svm = svm_scores(best_w, X_d_train_svm, y_d_train_svm.to_numpy())\n",
    "scores_test_svm = svm_scores(best_w, X_d_test_svm, y_d_test_svm.to_numpy())"
   ]
  },
  {
   "cell_type": "code",
   "execution_count": 366,
   "metadata": {},
   "outputs": [
    {
     "data": {
      "text/html": [
       "<style  type=\"text/css\" >\n",
       "    #T_27213_ th {\n",
       "          font-size: 14pt;\n",
       "    }#T_27213_row0_col0,#T_27213_row0_col1,#T_27213_row0_col2,#T_27213_row1_col0,#T_27213_row1_col1,#T_27213_row1_col2{\n",
       "            font-size:  14pt;\n",
       "        }</style><table id=\"T_27213_\" ><thead>    <tr>        <th class=\"blank level0\" ></th>        <th class=\"col_heading level0 col0\" >Accuracy</th>        <th class=\"col_heading level0 col1\" >Precision</th>        <th class=\"col_heading level0 col2\" >F-score</th>    </tr></thead><tbody>\n",
       "                <tr>\n",
       "                        <th id=\"T_27213_level0_row0\" class=\"row_heading level0 row0\" >Training</th>\n",
       "                        <td id=\"T_27213_row0_col0\" class=\"data row0 col0\" >0.926740</td>\n",
       "                        <td id=\"T_27213_row0_col1\" class=\"data row0 col1\" >0.833333</td>\n",
       "                        <td id=\"T_27213_row0_col2\" class=\"data row0 col2\" >0.750000</td>\n",
       "            </tr>\n",
       "            <tr>\n",
       "                        <th id=\"T_27213_level0_row1\" class=\"row_heading level0 row1\" >Test</th>\n",
       "                        <td id=\"T_27213_row1_col0\" class=\"data row1 col0\" >0.931624</td>\n",
       "                        <td id=\"T_27213_row1_col1\" class=\"data row1 col1\" >0.833333</td>\n",
       "                        <td id=\"T_27213_row1_col2\" class=\"data row1 col2\" >0.714286</td>\n",
       "            </tr>\n",
       "    </tbody></table>"
      ],
      "text/plain": [
       "<pandas.io.formats.style.Styler at 0x7f8e7eb32100>"
      ]
     },
     "execution_count": 366,
     "metadata": {},
     "output_type": "execute_result"
    }
   ],
   "source": [
    "# Table of linear SVM scores\n",
    "data_svm = {'Accuracy': [acc_train_svm, acc_test_svm], 'Precision': [scores_train_svm[0], scores_test_svm[0]], 'F-score':[scores_train_svm[1], scores_test_svm[1]]}\n",
    "df_svm = pd.DataFrame(data_svm, index=['Training', 'Test'])\n",
    "df_svm = df_svm.style.set_properties(**{'font-size': '14pt'})\n",
    "df_svm = df_svm.set_table_styles([{'selector': 'th', 'props': [('font-size', '14pt')]}])\n",
    "df_svm"
   ]
  },
  {
   "cell_type": "markdown",
   "metadata": {},
   "source": [
    "From the table above, we observe that the precision and F-score on the test set is relatively low compared to the accuracy on the test set. This implies that the soft-margin linear SVM is sensitive to imbalanced datasets, where the high accuracy is due to the fact that the majority class only is well predicted, whereas the low precision and F-score conveys that the minority class is not well predicted. There is also slight underfitting as the accuracy on the test set is slightly higher than the accuracy and precision on the training set."
   ]
  },
  {
   "cell_type": "markdown",
   "metadata": {
    "id": "kTNW66ufLS2B"
   },
   "source": [
    "2.2.4"
   ]
  },
  {
   "cell_type": "markdown",
   "metadata": {},
   "source": [
    "The function `kernel_matrix` computes the sigmoid kernel using the formula below:\n",
    "$$k(x^{(i)},x^{(j)}|\\sigma)=\\tanh(\\sigma(x^{(i)} \\cdot x^{(j)})+1)$$"
   ]
  },
  {
   "cell_type": "code",
   "execution_count": 367,
   "metadata": {
    "id": "uw6jwGWKJfCd"
   },
   "outputs": [],
   "source": [
    "def kernel_matrix(X1, X2, sigma):\n",
    "\n",
    "    n1,m1 = X1.shape\n",
    "    n2,m2 = X2.shape\n",
    "    kernel = np.zeros((n1,n2))\n",
    "\n",
    "    # Here we define a sigmoid Kernel #\n",
    "    for i in range(n1):\n",
    "        kernel[i,:] = np.tanh(sigma * np.dot(X2, X1[i]) + 1) \n",
    "        \n",
    "    return kernel"
   ]
  },
  {
   "cell_type": "markdown",
   "metadata": {},
   "source": [
    "We aim to minimise the loss function for the soft-margin kernelised SVM classifier:\n",
    "$$L(\\mathbf{u},b) = \\frac{1}{2}\\mathbf{u}^{\\rm{T}}\\mathbf{K} \\mathbf{u} + \\lambda \\sum_{i=1}^N  \\max \\Big\\{0, 1-y^{(i)}(\\mathbf{K}^{(i)}\\mathbf{u} + b)\\Big\\}$$\n",
    "The `compute_cost_kernel` function computes the cost using the formula above."
   ]
  },
  {
   "cell_type": "code",
   "execution_count": 368,
   "metadata": {},
   "outputs": [],
   "source": [
    "def compute_cost_kernel(u, K, y, intercept, regul_strength=10):\n",
    "    \n",
    "    distances = 1 - (y)*(K@u + intercept)\n",
    "    distances[distances < 0] = 0  # equivalent to max(0, distance)\n",
    "    hinge = regul_strength * np.sum(distances)\n",
    "\n",
    "    # calculate cost\n",
    "    return 0.5 * np.dot(u, K@u) + hinge"
   ]
  },
  {
   "cell_type": "markdown",
   "metadata": {},
   "source": [
    "The function `calculate_cost_gradient_kernel` computes the gradients of the cost with respect to $\\boldsymbol w$ and b."
   ]
  },
  {
   "cell_type": "code",
   "execution_count": 369,
   "metadata": {},
   "outputs": [],
   "source": [
    "def calculate_cost_gradient_kernel(u, K_batch, y_batch, intercept, regul_strength=10):\n",
    "\n",
    "    # if only one example is passed\n",
    "    if type(y_batch) == np.float64 or type(y_batch) == np.int32:\n",
    "        y_batch = np.asarray([y_batch])\n",
    "        K_batch = np.asarray([K_batch])  # gives multidimensional array\n",
    "    \n",
    "    distance = 1 - (y_batch * (K_batch @ u + intercept))\n",
    "    dw = np.zeros(len(u))\n",
    "    db = 0\n",
    "\n",
    "    # define the gradient with the hinge loss \n",
    "    for ind, d in enumerate(distance):\n",
    "        if max(0, d)==0:\n",
    "            di = K_batch@u / len(y_batch)\n",
    "            dj = 0\n",
    "        else:\n",
    "            di = K_batch@u / len(y_batch) - (regul_strength * y_batch[ind] * K_batch[ind])\n",
    "            dj = - regul_strength * y_batch[ind]\n",
    "        dw += di\n",
    "        db += dj\n",
    "\n",
    "    return dw, db"
   ]
  },
  {
   "cell_type": "markdown",
   "metadata": {},
   "source": [
    "The function `sgd_kernel` performs stochastic gradient descent to find $\\boldsymbol w$ and b."
   ]
  },
  {
   "cell_type": "code",
   "execution_count": 370,
   "metadata": {},
   "outputs": [],
   "source": [
    "def sgd_kernel(K, y, batch_size=32, max_iterations=4000, stop_criterion=0.001, learning_rate=1e-4, regul_strength=10, print_outcome=False):\n",
    "\n",
    "    # initialise zero u and intercept\n",
    "    u = np.zeros(K.shape[1])\n",
    "    intercept=0\n",
    "    \n",
    "    nth = 0\n",
    "    # initialise starting cost as infinity\n",
    "    prev_cost = np.inf\n",
    "    \n",
    "    # stochastic gradient descent\n",
    "    indices = np.arange(len(y))\n",
    "    for iteration in range(1, max_iterations):\n",
    "        # shuffle to prevent repeating update cycles\n",
    "        np.random.shuffle(indices)\n",
    "        batch_idx = indices[:batch_size]\n",
    "        K_b, y_b = K[batch_idx], y[batch_idx]\n",
    "        for ki, yi in zip(K_b, y_b):\n",
    "            ascent, ascent_b = calculate_cost_gradient_kernel(u, ki, yi, intercept, regul_strength)\n",
    "            u = u - (learning_rate * ascent)\n",
    "            intercept = intercept - (learning_rate * ascent_b)\n",
    "        \n",
    "        # convergence check on 2^n'th iteration\n",
    "        if iteration==2**nth or iteration==max_iterations-1:\n",
    "            # compute cost\n",
    "            cost = compute_cost_kernel(u, K, y, intercept, regul_strength)\n",
    "            if print_outcome:\n",
    "                print(\"Iteration is: {}, Cost is: {}\".format(iteration, cost))\n",
    "            # stop criterion\n",
    "            if abs(prev_cost - cost) < stop_criterion * prev_cost:\n",
    "                return u, intercept\n",
    "            \n",
    "            prev_cost = cost\n",
    "            nth += 1\n",
    "    \n",
    "    return u, intercept"
   ]
  },
  {
   "cell_type": "markdown",
   "metadata": {},
   "source": [
    "We now train the soft margin kernelised SVM classifier by fixing $\\lambda=10$ for σ=0.01, 0.1, 1, 2."
   ]
  },
  {
   "cell_type": "code",
   "execution_count": 389,
   "metadata": {},
   "outputs": [],
   "source": [
    "b_list = []\n",
    "for sigma in [0.01, 0.1, 1, 2]:\n",
    "    \n",
    "    K_train = kernel_matrix(X_d_train_s.to_numpy(), X_d_train_s.to_numpy(), sigma)\n",
    "\n",
    "    u, b = sgd_kernel(K_train, y_d_train_svm.to_numpy(), batch_size=128, max_iterations=10000, stop_criterion=1e-4, learning_rate=1e-7, regul_strength=10, print_outcome=False)\n",
    "    \n",
    "    b_list.append(b)\n",
    "    # print(\"σ = {}: intercept b = {}\".format(sigma, b))"
   ]
  },
  {
   "cell_type": "code",
   "execution_count": 390,
   "metadata": {},
   "outputs": [
    {
     "data": {
      "text/html": [
       "<style  type=\"text/css\" >\n",
       "    #T_4019d_ th {\n",
       "          font-size: 14pt;\n",
       "    }#T_4019d_row0_col0,#T_4019d_row1_col0,#T_4019d_row2_col0,#T_4019d_row3_col0{\n",
       "            font-size:  14pt;\n",
       "        }</style><table id=\"T_4019d_\" ><thead>    <tr>        <th class=\"blank level0\" ></th>        <th class=\"col_heading level0 col0\" >b</th>    </tr></thead><tbody>\n",
       "                <tr>\n",
       "                        <th id=\"T_4019d_level0_row0\" class=\"row_heading level0 row0\" >σ = 0.01</th>\n",
       "                        <td id=\"T_4019d_row0_col0\" class=\"data row0 col0\" >-0.014134</td>\n",
       "            </tr>\n",
       "            <tr>\n",
       "                        <th id=\"T_4019d_level0_row1\" class=\"row_heading level0 row1\" >σ = 0.1</th>\n",
       "                        <td id=\"T_4019d_row1_col0\" class=\"data row1 col0\" >-0.168046</td>\n",
       "            </tr>\n",
       "            <tr>\n",
       "                        <th id=\"T_4019d_level0_row2\" class=\"row_heading level0 row2\" >σ = 1</th>\n",
       "                        <td id=\"T_4019d_row2_col0\" class=\"data row2 col0\" >-0.339007</td>\n",
       "            </tr>\n",
       "            <tr>\n",
       "                        <th id=\"T_4019d_level0_row3\" class=\"row_heading level0 row3\" >σ = 2</th>\n",
       "                        <td id=\"T_4019d_row3_col0\" class=\"data row3 col0\" >-0.429159</td>\n",
       "            </tr>\n",
       "    </tbody></table>"
      ],
      "text/plain": [
       "<pandas.io.formats.style.Styler at 0x7f8e7eb13070>"
      ]
     },
     "execution_count": 390,
     "metadata": {},
     "output_type": "execute_result"
    }
   ],
   "source": [
    "# Table of value of intercept b given σ\n",
    "data_b = {'b': b_list}\n",
    "df_b = pd.DataFrame(data_b, index= ['σ = 0.01', 'σ = 0.1', 'σ = 1', 'σ = 2'])\n",
    "df_b = df_b.style.set_properties(**{'font-size': '14pt'})\n",
    "df_b = df_b.set_table_styles([{'selector': 'th', 'props': [('font-size', '14pt')]}])\n",
    "df_b"
   ]
  },
  {
   "cell_type": "markdown",
   "metadata": {
    "id": "wbZX59MPLT10"
   },
   "source": [
    "2.2.5"
   ]
  },
  {
   "cell_type": "markdown",
   "metadata": {},
   "source": [
    "The function `svm_k_scores` computes the accuracy, precision and F-score of the soft margin kernelised SVM classifier."
   ]
  },
  {
   "cell_type": "code",
   "execution_count": 391,
   "metadata": {
    "id": "yk40o2p2JfIs"
   },
   "outputs": [],
   "source": [
    "def svm_k_scores(u, X, y_test, sigma, intercept):\n",
    "    K_test = kernel_matrix(X, X_d_train_s.to_numpy(), sigma)\n",
    "        \n",
    "    y_pred = np.sign(K_test@u + intercept)\n",
    "    \n",
    "    TP = 0\n",
    "    FP = 0\n",
    "    FN = 0\n",
    "    TN = 0\n",
    "    for i in range(len(y_test)):\n",
    "        if y_pred[i] == y_test[i] == 1:\n",
    "            TP +=1\n",
    "        elif y_pred[i] == 1 and y_test[i] == -1:\n",
    "            FP +=1\n",
    "        elif y_pred[i] == -1 and y_test[i] == 1:\n",
    "            FN += 1\n",
    "        else:\n",
    "            TN += 1\n",
    "    accuracy = (TP + TN) / (TP + FP + FN + TN)\n",
    "    recall = TP / (TP + FN)\n",
    "    if (TP + FP) == 0:\n",
    "        precision = None\n",
    "        F_score = None\n",
    "    else:\n",
    "        precision = TP / (TP + FP)\n",
    "        F_score = 2 * precision * recall / (precision + recall)\n",
    "    return accuracy, precision, F_score"
   ]
  },
  {
   "cell_type": "code",
   "execution_count": 392,
   "metadata": {},
   "outputs": [],
   "source": [
    "a_train_list = []\n",
    "p_train_list = []\n",
    "f_train_list = []\n",
    "a_test_list = []\n",
    "p_test_list = []\n",
    "f_test_list = []\n",
    "\n",
    "for sigma in [0.01, 0.1, 1, 2]:\n",
    "    \n",
    "    # print('For sigma = ' + str(sigma))\n",
    "    K_train = kernel_matrix(X_d_train_s.to_numpy(), X_d_train_s.to_numpy(), sigma)\n",
    "\n",
    "    u, b = sgd_kernel(K_train, y_d_train_svm.to_numpy(), batch_size=128, max_iterations=10000, stop_criterion=1e-4, learning_rate=1e-7, regul_strength=10, print_outcome=False)\n",
    "    \n",
    "    scores_train_svm_k = svm_k_scores(u, X_d_train_s.to_numpy(), y_d_train_svm.to_numpy(), sigma, b)\n",
    "    scores_test_svm_k = svm_k_scores(u, X_d_test_s.to_numpy(), y_d_test_svm.to_numpy(), sigma, b)\n",
    "    \n",
    "    a_train_list.append(scores_train_svm_k[0])\n",
    "    p_train_list.append(scores_train_svm_k[1])\n",
    "    f_train_list.append(scores_train_svm_k[2])\n",
    "    a_test_list.append(scores_test_svm_k[0])\n",
    "    p_test_list.append(scores_test_svm_k[1])\n",
    "    f_test_list.append(scores_test_svm_k[2])"
   ]
  },
  {
   "cell_type": "code",
   "execution_count": 393,
   "metadata": {},
   "outputs": [
    {
     "data": {
      "text/html": [
       "<style  type=\"text/css\" >\n",
       "    #T_82e4a_ th {\n",
       "          font-size: 14pt;\n",
       "    }#T_82e4a_row0_col0,#T_82e4a_row0_col1,#T_82e4a_row0_col2,#T_82e4a_row1_col0,#T_82e4a_row1_col1,#T_82e4a_row1_col2,#T_82e4a_row2_col0,#T_82e4a_row2_col1,#T_82e4a_row2_col2,#T_82e4a_row3_col0,#T_82e4a_row3_col1,#T_82e4a_row3_col2,#T_82e4a_row4_col0,#T_82e4a_row4_col1,#T_82e4a_row4_col2{\n",
       "            font-size:  14pt;\n",
       "        }</style><table id=\"T_82e4a_\" ><thead>    <tr>        <th class=\"blank level0\" ></th>        <th class=\"col_heading level0 col0\" >Accuracy</th>        <th class=\"col_heading level0 col1\" >Precision</th>        <th class=\"col_heading level0 col2\" >F-score</th>    </tr></thead><tbody>\n",
       "                <tr>\n",
       "                        <th id=\"T_82e4a_level0_row0\" class=\"row_heading level0 row0\" >Linear SVM</th>\n",
       "                        <td id=\"T_82e4a_row0_col0\" class=\"data row0 col0\" >0.931624</td>\n",
       "                        <td id=\"T_82e4a_row0_col1\" class=\"data row0 col1\" >0.833333</td>\n",
       "                        <td id=\"T_82e4a_row0_col2\" class=\"data row0 col2\" >0.714286</td>\n",
       "            </tr>\n",
       "            <tr>\n",
       "                        <th id=\"T_82e4a_level0_row1\" class=\"row_heading level0 row1\" >Kernelised SVM (σ = 0.01)</th>\n",
       "                        <td id=\"T_82e4a_row1_col0\" class=\"data row1 col0\" >0.863248</td>\n",
       "                        <td id=\"T_82e4a_row1_col1\" class=\"data row1 col1\" >nan</td>\n",
       "                        <td id=\"T_82e4a_row1_col2\" class=\"data row1 col2\" >nan</td>\n",
       "            </tr>\n",
       "            <tr>\n",
       "                        <th id=\"T_82e4a_level0_row2\" class=\"row_heading level0 row2\" >Kernelised SVM (σ = 0.1)</th>\n",
       "                        <td id=\"T_82e4a_row2_col0\" class=\"data row2 col0\" >0.863248</td>\n",
       "                        <td id=\"T_82e4a_row2_col1\" class=\"data row2 col1\" >nan</td>\n",
       "                        <td id=\"T_82e4a_row2_col2\" class=\"data row2 col2\" >nan</td>\n",
       "            </tr>\n",
       "            <tr>\n",
       "                        <th id=\"T_82e4a_level0_row3\" class=\"row_heading level0 row3\" >Kernelised SVM (σ = 1)</th>\n",
       "                        <td id=\"T_82e4a_row3_col0\" class=\"data row3 col0\" >0.905983</td>\n",
       "                        <td id=\"T_82e4a_row3_col1\" class=\"data row3 col1\" >0.666667</td>\n",
       "                        <td id=\"T_82e4a_row3_col2\" class=\"data row3 col2\" >0.645161</td>\n",
       "            </tr>\n",
       "            <tr>\n",
       "                        <th id=\"T_82e4a_level0_row4\" class=\"row_heading level0 row4\" >Kernelised SVM (σ = 2)</th>\n",
       "                        <td id=\"T_82e4a_row4_col0\" class=\"data row4 col0\" >0.905983</td>\n",
       "                        <td id=\"T_82e4a_row4_col1\" class=\"data row4 col1\" >0.666667</td>\n",
       "                        <td id=\"T_82e4a_row4_col2\" class=\"data row4 col2\" >0.645161</td>\n",
       "            </tr>\n",
       "    </tbody></table>"
      ],
      "text/plain": [
       "<pandas.io.formats.style.Styler at 0x7f8e7eb1f3d0>"
      ]
     },
     "execution_count": 393,
     "metadata": {},
     "output_type": "execute_result"
    }
   ],
   "source": [
    "# Table of SVM scores\n",
    "data_svm_all = {'Accuracy': [acc_test_svm, a_test_list[0], a_test_list[1], a_test_list[2], a_test_list[3]], \n",
    "                'Precision': [scores_test_svm[0], p_test_list[0], p_test_list[1], p_test_list[2], p_test_list[3]], \n",
    "                'F-score': [scores_test_svm[1], f_test_list[0], f_test_list[1], f_test_list[2], f_test_list[3]]}\n",
    "df_svm_all = pd.DataFrame(data_svm_all, index=['Linear SVM', 'Kernelised SVM (σ = 0.01)', 'Kernelised SVM (σ = 0.1)', 'Kernelised SVM (σ = 1)', 'Kernelised SVM (σ = 2)'])\n",
    "df_svm_all = df_svm_all.style.set_properties(**{'font-size': '14pt'})\n",
    "df_svm_all = df_svm_all.set_table_styles([{'selector': 'th', 'props': [('font-size', '14pt')]}])\n",
    "df_svm_all"
   ]
  },
  {
   "cell_type": "markdown",
   "metadata": {},
   "source": [
    "The precision and F-score when $\\sigma=0.01$ and $\\sigma=0.1$ is undefined as only the majority class is predicted. This implies that SVM is sensitive to imbalance datasets for small $\\sigma$.<br>\n",
    "The linear SVM model outperforms all the other kernelised SVM models as it has the highest accuracy, precision and F-score. Thus, we can infer that the data points are separable by a hyperplane in d-dimensional space. The $\\sigma$ and $\\lambda$ hyperparameter should be optimised through cross-validation or grid search to further improve the performance of the kernelised SVM. The type of kernel can also be optimised through cross-validation or grid search."
   ]
  }
 ],
 "metadata": {
  "@webio": {
   "lastCommId": null,
   "lastKernelId": null
  },
  "colab": {
   "authorship_tag": "ABX9TyNRIxV7UY7tVkryHpDs3Wuh",
   "provenance": []
  },
  "kernelspec": {
   "display_name": "Python 3",
   "language": "python",
   "name": "python3"
  },
  "language_info": {
   "codemirror_mode": {
    "name": "ipython",
    "version": 3
   },
   "file_extension": ".py",
   "mimetype": "text/x-python",
   "name": "python",
   "nbconvert_exporter": "python",
   "pygments_lexer": "ipython3",
   "version": "3.8.8"
  }
 },
 "nbformat": 4,
 "nbformat_minor": 1
}
